{
 "cells": [
  {
   "cell_type": "code",
   "execution_count": 1,
   "id": "8f4a005e",
   "metadata": {},
   "outputs": [
    {
     "data": {
      "text/html": [
       "<div>\n",
       "<style scoped>\n",
       "    .dataframe tbody tr th:only-of-type {\n",
       "        vertical-align: middle;\n",
       "    }\n",
       "\n",
       "    .dataframe tbody tr th {\n",
       "        vertical-align: top;\n",
       "    }\n",
       "\n",
       "    .dataframe thead th {\n",
       "        text-align: right;\n",
       "    }\n",
       "</style>\n",
       "<table border=\"1\" class=\"dataframe\">\n",
       "  <thead>\n",
       "    <tr style=\"text-align: right;\">\n",
       "      <th></th>\n",
       "      <th>COURSE_CODE</th>\n",
       "      <th>COURSE_NAME</th>\n",
       "      <th>SECTION_NUMBER</th>\n",
       "      <th>UNITS</th>\n",
       "      <th>CLASS_TYPE</th>\n",
       "      <th>SEATS_AVAILABLE</th>\n",
       "      <th>MEETING_DAYS</th>\n",
       "      <th>CLASS_HOURS</th>\n",
       "      <th>INSTRUCTOR</th>\n",
       "      <th>YEAR</th>\n",
       "      <th>SEMESTER</th>\n",
       "    </tr>\n",
       "  </thead>\n",
       "  <tbody>\n",
       "    <tr>\n",
       "      <th>0</th>\n",
       "      <td>CMPE 30</td>\n",
       "      <td>PROGRAMMING CONCEPT &amp; METH</td>\n",
       "      <td>1</td>\n",
       "      <td>3</td>\n",
       "      <td>LEC</td>\n",
       "      <td>2</td>\n",
       "      <td>MW</td>\n",
       "      <td>1100-1150</td>\n",
       "      <td>H OZEMEK</td>\n",
       "      <td>2013</td>\n",
       "      <td>SPRING</td>\n",
       "    </tr>\n",
       "    <tr>\n",
       "      <th>1</th>\n",
       "      <td>CMPE 30</td>\n",
       "      <td>PROGRAMMING CONCEPT &amp; METH</td>\n",
       "      <td>2</td>\n",
       "      <td>0</td>\n",
       "      <td>LAB</td>\n",
       "      <td>1</td>\n",
       "      <td>R</td>\n",
       "      <td>1730-2020</td>\n",
       "      <td>P KANG</td>\n",
       "      <td>2013</td>\n",
       "      <td>SPRING</td>\n",
       "    </tr>\n",
       "    <tr>\n",
       "      <th>2</th>\n",
       "      <td>CMPE 30</td>\n",
       "      <td>PROGRAMMING CONCEPT &amp; METH</td>\n",
       "      <td>3</td>\n",
       "      <td>0</td>\n",
       "      <td>LAB</td>\n",
       "      <td>1</td>\n",
       "      <td>W</td>\n",
       "      <td>1730-2020</td>\n",
       "      <td>C ABBOUD</td>\n",
       "      <td>2013</td>\n",
       "      <td>SPRING</td>\n",
       "    </tr>\n",
       "    <tr>\n",
       "      <th>3</th>\n",
       "      <td>CMPE 46</td>\n",
       "      <td>COMPE I</td>\n",
       "      <td>1</td>\n",
       "      <td>3</td>\n",
       "      <td>SEM</td>\n",
       "      <td>1</td>\n",
       "      <td>TR</td>\n",
       "      <td>1030-1120</td>\n",
       "      <td>F LIN</td>\n",
       "      <td>2013</td>\n",
       "      <td>SPRING</td>\n",
       "    </tr>\n",
       "    <tr>\n",
       "      <th>4</th>\n",
       "      <td>CMPE 46</td>\n",
       "      <td>COMPE I</td>\n",
       "      <td>2</td>\n",
       "      <td>0</td>\n",
       "      <td>LAB</td>\n",
       "      <td>1</td>\n",
       "      <td>T</td>\n",
       "      <td>1330-1620</td>\n",
       "      <td>F LIN</td>\n",
       "      <td>2013</td>\n",
       "      <td>SPRING</td>\n",
       "    </tr>\n",
       "  </tbody>\n",
       "</table>\n",
       "</div>"
      ],
      "text/plain": [
       "  COURSE_CODE                      COURSE_NAME  SECTION_NUMBER  UNITS  \\\n",
       "0     CMPE 30  PROGRAMMING CONCEPT & METH                    1      3   \n",
       "1     CMPE 30  PROGRAMMING CONCEPT & METH                    2      0   \n",
       "2     CMPE 30  PROGRAMMING CONCEPT & METH                    3      0   \n",
       "3     CMPE 46                   COMPE I                      1      3   \n",
       "4     CMPE 46                   COMPE I                      2      0   \n",
       "\n",
       "  CLASS_TYPE  SEATS_AVAILABLE MEETING_DAYS CLASS_HOURS INSTRUCTOR  YEAR  \\\n",
       "0        LEC                2           MW   1100-1150   H OZEMEK  2013   \n",
       "1        LAB                1            R   1730-2020     P KANG  2013   \n",
       "2        LAB                1            W   1730-2020   C ABBOUD  2013   \n",
       "3        SEM                1           TR   1030-1120      F LIN  2013   \n",
       "4        LAB                1            T   1330-1620      F LIN  2013   \n",
       "\n",
       "  SEMESTER  \n",
       "0   SPRING  \n",
       "1   SPRING  \n",
       "2   SPRING  \n",
       "3   SPRING  \n",
       "4   SPRING  "
      ]
     },
     "execution_count": 1,
     "metadata": {},
     "output_type": "execute_result"
    }
   ],
   "source": [
    "import pandas as pd\n",
    "# Loading the clean data\n",
    "df=pd.read_excel('cleaned_data_withHTML.xlsx')\n",
    "#converting all columns to all caps\n",
    "df['COURSE_CODE'] = df['COURSE_CODE'].str.upper()\n",
    "df['MEETING_DAYS'] = df['MEETING_DAYS'].str.upper()\n",
    "df['CLASS_TYPE']=df['CLASS_TYPE'].str.upper()\n",
    "df['INSTRUCTOR']=df['INSTRUCTOR'].str.upper()\n",
    "df['COURSE_NAME']=df['COURSE_NAME'].str.upper()\n",
    "# Correcting the name of column\n",
    "df = df.rename(columns={'SEATS_AVAILABALE': 'SEATS_AVAILABLE'})\n",
    "df.head()"
   ]
  },
  {
   "cell_type": "code",
   "execution_count": 2,
   "id": "e45f363c",
   "metadata": {},
   "outputs": [
    {
     "name": "stdout",
     "output_type": "stream",
     "text": [
      "8901\n"
     ]
    }
   ],
   "source": [
    "#Total rows calculation\n",
    "row_count = len(df)\n",
    "print(row_count)"
   ]
  },
  {
   "cell_type": "markdown",
   "id": "3e22bf31",
   "metadata": {},
   "source": [
    "# Final Data preprocessing"
   ]
  },
  {
   "cell_type": "code",
   "execution_count": 3,
   "id": "efb34240",
   "metadata": {},
   "outputs": [
    {
     "name": "stdout",
     "output_type": "stream",
     "text": [
      "0\n",
      "0\n"
     ]
    }
   ],
   "source": [
    "#Handling SECTION_NUMBER\n",
    "print(df['SECTION_NUMBER'].isnull().sum())\n",
    "df['SECTION_NUMBER'].fillna(0, inplace=True)\n",
    "print(df['SECTION_NUMBER'].isnull().sum())"
   ]
  },
  {
   "cell_type": "code",
   "execution_count": 4,
   "id": "198e41d6",
   "metadata": {},
   "outputs": [
    {
     "name": "stdout",
     "output_type": "stream",
     "text": [
      "647\n"
     ]
    }
   ],
   "source": [
    "df['UNITS'].fillna(3, inplace=True)\n",
    "print(df['INSTRUCTOR'].isnull().sum())"
   ]
  },
  {
   "cell_type": "code",
   "execution_count": 5,
   "id": "2783020d",
   "metadata": {},
   "outputs": [
    {
     "data": {
      "text/html": [
       "<div>\n",
       "<style scoped>\n",
       "    .dataframe tbody tr th:only-of-type {\n",
       "        vertical-align: middle;\n",
       "    }\n",
       "\n",
       "    .dataframe tbody tr th {\n",
       "        vertical-align: top;\n",
       "    }\n",
       "\n",
       "    .dataframe thead th {\n",
       "        text-align: right;\n",
       "    }\n",
       "</style>\n",
       "<table border=\"1\" class=\"dataframe\">\n",
       "  <thead>\n",
       "    <tr style=\"text-align: right;\">\n",
       "      <th></th>\n",
       "      <th>COURSE_CODE</th>\n",
       "      <th>COURSE_NAME</th>\n",
       "      <th>SECTION_NUMBER</th>\n",
       "      <th>UNITS</th>\n",
       "      <th>CLASS_TYPE</th>\n",
       "      <th>SEATS_AVAILABLE</th>\n",
       "      <th>MEETING_DAYS</th>\n",
       "      <th>CLASS_HOURS</th>\n",
       "      <th>INSTRUCTOR</th>\n",
       "      <th>YEAR</th>\n",
       "      <th>SEMESTER</th>\n",
       "    </tr>\n",
       "  </thead>\n",
       "  <tbody>\n",
       "    <tr>\n",
       "      <th>0</th>\n",
       "      <td>CMPE 30</td>\n",
       "      <td>PROGRAMMING CONCEPT &amp; METH</td>\n",
       "      <td>1</td>\n",
       "      <td>3</td>\n",
       "      <td>LEC</td>\n",
       "      <td>2</td>\n",
       "      <td>MW</td>\n",
       "      <td>1100-1150</td>\n",
       "      <td>H OZEMEK</td>\n",
       "      <td>2013</td>\n",
       "      <td>SPRING</td>\n",
       "    </tr>\n",
       "    <tr>\n",
       "      <th>1</th>\n",
       "      <td>CMPE 30</td>\n",
       "      <td>PROGRAMMING CONCEPT &amp; METH</td>\n",
       "      <td>2</td>\n",
       "      <td>0</td>\n",
       "      <td>LAB</td>\n",
       "      <td>1</td>\n",
       "      <td>R</td>\n",
       "      <td>1730-2020</td>\n",
       "      <td>P KANG</td>\n",
       "      <td>2013</td>\n",
       "      <td>SPRING</td>\n",
       "    </tr>\n",
       "    <tr>\n",
       "      <th>2</th>\n",
       "      <td>CMPE 30</td>\n",
       "      <td>PROGRAMMING CONCEPT &amp; METH</td>\n",
       "      <td>3</td>\n",
       "      <td>0</td>\n",
       "      <td>LAB</td>\n",
       "      <td>1</td>\n",
       "      <td>W</td>\n",
       "      <td>1730-2020</td>\n",
       "      <td>C ABBOUD</td>\n",
       "      <td>2013</td>\n",
       "      <td>SPRING</td>\n",
       "    </tr>\n",
       "    <tr>\n",
       "      <th>3</th>\n",
       "      <td>CMPE 46</td>\n",
       "      <td>COMPE I</td>\n",
       "      <td>1</td>\n",
       "      <td>3</td>\n",
       "      <td>SEM</td>\n",
       "      <td>1</td>\n",
       "      <td>TR</td>\n",
       "      <td>1030-1120</td>\n",
       "      <td>F LIN</td>\n",
       "      <td>2013</td>\n",
       "      <td>SPRING</td>\n",
       "    </tr>\n",
       "    <tr>\n",
       "      <th>4</th>\n",
       "      <td>CMPE 46</td>\n",
       "      <td>COMPE I</td>\n",
       "      <td>2</td>\n",
       "      <td>0</td>\n",
       "      <td>LAB</td>\n",
       "      <td>1</td>\n",
       "      <td>T</td>\n",
       "      <td>1330-1620</td>\n",
       "      <td>F LIN</td>\n",
       "      <td>2013</td>\n",
       "      <td>SPRING</td>\n",
       "    </tr>\n",
       "  </tbody>\n",
       "</table>\n",
       "</div>"
      ],
      "text/plain": [
       "  COURSE_CODE                      COURSE_NAME  SECTION_NUMBER  UNITS  \\\n",
       "0     CMPE 30  PROGRAMMING CONCEPT & METH                    1      3   \n",
       "1     CMPE 30  PROGRAMMING CONCEPT & METH                    2      0   \n",
       "2     CMPE 30  PROGRAMMING CONCEPT & METH                    3      0   \n",
       "3     CMPE 46                   COMPE I                      1      3   \n",
       "4     CMPE 46                   COMPE I                      2      0   \n",
       "\n",
       "  CLASS_TYPE  SEATS_AVAILABLE MEETING_DAYS CLASS_HOURS INSTRUCTOR  YEAR  \\\n",
       "0        LEC                2           MW   1100-1150   H OZEMEK  2013   \n",
       "1        LAB                1            R   1730-2020     P KANG  2013   \n",
       "2        LAB                1            W   1730-2020   C ABBOUD  2013   \n",
       "3        SEM                1           TR   1030-1120      F LIN  2013   \n",
       "4        LAB                1            T   1330-1620      F LIN  2013   \n",
       "\n",
       "  SEMESTER  \n",
       "0   SPRING  \n",
       "1   SPRING  \n",
       "2   SPRING  \n",
       "3   SPRING  \n",
       "4   SPRING  "
      ]
     },
     "execution_count": 5,
     "metadata": {},
     "output_type": "execute_result"
    }
   ],
   "source": [
    "df.head(5)"
   ]
  },
  {
   "cell_type": "code",
   "execution_count": 6,
   "id": "6098c55c",
   "metadata": {},
   "outputs": [
    {
     "name": "stdout",
     "output_type": "stream",
     "text": [
      "3    6780\n",
      "0    1273\n",
      "1     512\n",
      "4     250\n",
      "2      74\n",
      "6       8\n",
      "5       4\n",
      "Name: UNITS, dtype: int64\n"
     ]
    }
   ],
   "source": [
    "#Finding Unique values in UNITS column\n",
    "value_counts = df['UNITS'].value_counts()\n",
    "# print the result\n",
    "print(value_counts)"
   ]
  },
  {
   "cell_type": "code",
   "execution_count": 7,
   "id": "427a4bfa",
   "metadata": {},
   "outputs": [
    {
     "name": "stdout",
     "output_type": "stream",
     "text": [
      "FALL      4660\n",
      "SPRING    4241\n",
      "Name: SEMESTER, dtype: int64\n"
     ]
    }
   ],
   "source": [
    "value_counts = df['SEMESTER'].value_counts()\n",
    "# print the result\n",
    "print(value_counts)"
   ]
  },
  {
   "cell_type": "code",
   "execution_count": 8,
   "id": "443d06e8",
   "metadata": {},
   "outputs": [
    {
     "data": {
      "text/html": [
       "<div>\n",
       "<style scoped>\n",
       "    .dataframe tbody tr th:only-of-type {\n",
       "        vertical-align: middle;\n",
       "    }\n",
       "\n",
       "    .dataframe tbody tr th {\n",
       "        vertical-align: top;\n",
       "    }\n",
       "\n",
       "    .dataframe thead th {\n",
       "        text-align: right;\n",
       "    }\n",
       "</style>\n",
       "<table border=\"1\" class=\"dataframe\">\n",
       "  <thead>\n",
       "    <tr style=\"text-align: right;\">\n",
       "      <th></th>\n",
       "      <th>COURSE_CODE</th>\n",
       "      <th>COURSE_NAME</th>\n",
       "      <th>SECTION_NUMBER</th>\n",
       "      <th>UNITS</th>\n",
       "      <th>CLASS_TYPE</th>\n",
       "      <th>SEATS_AVAILABLE</th>\n",
       "      <th>MEETING_DAYS</th>\n",
       "      <th>CLASS_HOURS</th>\n",
       "      <th>INSTRUCTOR</th>\n",
       "      <th>YEAR</th>\n",
       "      <th>SEMESTER</th>\n",
       "    </tr>\n",
       "  </thead>\n",
       "  <tbody>\n",
       "    <tr>\n",
       "      <th>0</th>\n",
       "      <td>CMPE 30</td>\n",
       "      <td>PROGRAMMING CONCEPT &amp; METH</td>\n",
       "      <td>1</td>\n",
       "      <td>3</td>\n",
       "      <td>LEC</td>\n",
       "      <td>2</td>\n",
       "      <td>MW</td>\n",
       "      <td>1100-1150</td>\n",
       "      <td>H OZEMEK</td>\n",
       "      <td>2013</td>\n",
       "      <td>SPRING</td>\n",
       "    </tr>\n",
       "    <tr>\n",
       "      <th>1</th>\n",
       "      <td>CMPE 30</td>\n",
       "      <td>PROGRAMMING CONCEPT &amp; METH</td>\n",
       "      <td>2</td>\n",
       "      <td>0</td>\n",
       "      <td>LAB</td>\n",
       "      <td>1</td>\n",
       "      <td>R</td>\n",
       "      <td>1730-2020</td>\n",
       "      <td>P KANG</td>\n",
       "      <td>2013</td>\n",
       "      <td>SPRING</td>\n",
       "    </tr>\n",
       "    <tr>\n",
       "      <th>2</th>\n",
       "      <td>CMPE 30</td>\n",
       "      <td>PROGRAMMING CONCEPT &amp; METH</td>\n",
       "      <td>3</td>\n",
       "      <td>0</td>\n",
       "      <td>LAB</td>\n",
       "      <td>1</td>\n",
       "      <td>W</td>\n",
       "      <td>1730-2020</td>\n",
       "      <td>C ABBOUD</td>\n",
       "      <td>2013</td>\n",
       "      <td>SPRING</td>\n",
       "    </tr>\n",
       "    <tr>\n",
       "      <th>3</th>\n",
       "      <td>CMPE 46</td>\n",
       "      <td>COMPE I</td>\n",
       "      <td>1</td>\n",
       "      <td>3</td>\n",
       "      <td>SEM</td>\n",
       "      <td>1</td>\n",
       "      <td>TR</td>\n",
       "      <td>1030-1120</td>\n",
       "      <td>F LIN</td>\n",
       "      <td>2013</td>\n",
       "      <td>SPRING</td>\n",
       "    </tr>\n",
       "    <tr>\n",
       "      <th>4</th>\n",
       "      <td>CMPE 46</td>\n",
       "      <td>COMPE I</td>\n",
       "      <td>2</td>\n",
       "      <td>0</td>\n",
       "      <td>LAB</td>\n",
       "      <td>1</td>\n",
       "      <td>T</td>\n",
       "      <td>1330-1620</td>\n",
       "      <td>F LIN</td>\n",
       "      <td>2013</td>\n",
       "      <td>SPRING</td>\n",
       "    </tr>\n",
       "  </tbody>\n",
       "</table>\n",
       "</div>"
      ],
      "text/plain": [
       "  COURSE_CODE                      COURSE_NAME  SECTION_NUMBER  UNITS  \\\n",
       "0     CMPE 30  PROGRAMMING CONCEPT & METH                    1      3   \n",
       "1     CMPE 30  PROGRAMMING CONCEPT & METH                    2      0   \n",
       "2     CMPE 30  PROGRAMMING CONCEPT & METH                    3      0   \n",
       "3     CMPE 46                   COMPE I                      1      3   \n",
       "4     CMPE 46                   COMPE I                      2      0   \n",
       "\n",
       "  CLASS_TYPE  SEATS_AVAILABLE MEETING_DAYS CLASS_HOURS INSTRUCTOR  YEAR  \\\n",
       "0        LEC                2           MW   1100-1150   H OZEMEK  2013   \n",
       "1        LAB                1            R   1730-2020     P KANG  2013   \n",
       "2        LAB                1            W   1730-2020   C ABBOUD  2013   \n",
       "3        SEM                1           TR   1030-1120      F LIN  2013   \n",
       "4        LAB                1            T   1330-1620      F LIN  2013   \n",
       "\n",
       "  SEMESTER  \n",
       "0   SPRING  \n",
       "1   SPRING  \n",
       "2   SPRING  \n",
       "3   SPRING  \n",
       "4   SPRING  "
      ]
     },
     "execution_count": 8,
     "metadata": {},
     "output_type": "execute_result"
    }
   ],
   "source": [
    "df.head()"
   ]
  },
  {
   "cell_type": "code",
   "execution_count": 9,
   "id": "dc71a2c8",
   "metadata": {},
   "outputs": [
    {
     "data": {
      "text/plain": [
       "4660"
      ]
     },
     "execution_count": 9,
     "metadata": {},
     "output_type": "execute_result"
    }
   ],
   "source": [
    "df_fall = df[df['SEMESTER'] == 'FALL']\n",
    "len(df_fall)"
   ]
  },
  {
   "cell_type": "code",
   "execution_count": 10,
   "id": "c301da80",
   "metadata": {},
   "outputs": [
    {
     "data": {
      "text/plain": [
       "4241"
      ]
     },
     "execution_count": 10,
     "metadata": {},
     "output_type": "execute_result"
    }
   ],
   "source": [
    "df_spring = df[df['SEMESTER'] == 'SPRING']\n",
    "len(df_spring)"
   ]
  },
  {
   "cell_type": "code",
   "execution_count": 11,
   "id": "c776114f",
   "metadata": {},
   "outputs": [],
   "source": [
    "df_fall.to_excel('fall_data.xlsx')"
   ]
  },
  {
   "cell_type": "code",
   "execution_count": 12,
   "id": "26952c69",
   "metadata": {},
   "outputs": [],
   "source": [
    "df_spring.to_excel('spring_data.xlsx')"
   ]
  },
  {
   "cell_type": "code",
   "execution_count": null,
   "id": "6d9d7894",
   "metadata": {},
   "outputs": [],
   "source": []
  }
 ],
 "metadata": {
  "kernelspec": {
   "display_name": "Python 3 (ipykernel)",
   "language": "python",
   "name": "python3"
  },
  "language_info": {
   "codemirror_mode": {
    "name": "ipython",
    "version": 3
   },
   "file_extension": ".py",
   "mimetype": "text/x-python",
   "name": "python",
   "nbconvert_exporter": "python",
   "pygments_lexer": "ipython3",
   "version": "3.9.16"
  }
 },
 "nbformat": 4,
 "nbformat_minor": 5
}
