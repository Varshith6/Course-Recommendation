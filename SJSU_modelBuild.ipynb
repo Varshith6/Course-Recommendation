{
 "cells": [
  {
   "cell_type": "code",
   "execution_count": 1,
   "id": "603c4708",
   "metadata": {},
   "outputs": [
    {
     "data": {
      "text/html": [
       "<div>\n",
       "<style scoped>\n",
       "    .dataframe tbody tr th:only-of-type {\n",
       "        vertical-align: middle;\n",
       "    }\n",
       "\n",
       "    .dataframe tbody tr th {\n",
       "        vertical-align: top;\n",
       "    }\n",
       "\n",
       "    .dataframe thead th {\n",
       "        text-align: right;\n",
       "    }\n",
       "</style>\n",
       "<table border=\"1\" class=\"dataframe\">\n",
       "  <thead>\n",
       "    <tr style=\"text-align: right;\">\n",
       "      <th></th>\n",
       "      <th>COURSE_CODE</th>\n",
       "      <th>COURSE_NAME</th>\n",
       "      <th>SECTION_NUMBER</th>\n",
       "      <th>UNITS</th>\n",
       "      <th>CLASS_TYPE</th>\n",
       "      <th>SEATS_AVAILABLE</th>\n",
       "      <th>MEETING_DAYS</th>\n",
       "      <th>CLASS_HOURS</th>\n",
       "      <th>INSTRUCTOR</th>\n",
       "      <th>YEAR</th>\n",
       "      <th>SEMESTER</th>\n",
       "    </tr>\n",
       "  </thead>\n",
       "  <tbody>\n",
       "    <tr>\n",
       "      <th>0</th>\n",
       "      <td>CMPE 30</td>\n",
       "      <td>PROGRAMMING CONCEPT &amp; METH</td>\n",
       "      <td>1</td>\n",
       "      <td>3</td>\n",
       "      <td>LEC</td>\n",
       "      <td>2</td>\n",
       "      <td>MW</td>\n",
       "      <td>1100-1150</td>\n",
       "      <td>H OZEMEK</td>\n",
       "      <td>2013</td>\n",
       "      <td>SPRING</td>\n",
       "    </tr>\n",
       "    <tr>\n",
       "      <th>1</th>\n",
       "      <td>CMPE 30</td>\n",
       "      <td>PROGRAMMING CONCEPT &amp; METH</td>\n",
       "      <td>2</td>\n",
       "      <td>0</td>\n",
       "      <td>LAB</td>\n",
       "      <td>1</td>\n",
       "      <td>R</td>\n",
       "      <td>1730-2020</td>\n",
       "      <td>P KANG</td>\n",
       "      <td>2013</td>\n",
       "      <td>SPRING</td>\n",
       "    </tr>\n",
       "    <tr>\n",
       "      <th>2</th>\n",
       "      <td>CMPE 30</td>\n",
       "      <td>PROGRAMMING CONCEPT &amp; METH</td>\n",
       "      <td>3</td>\n",
       "      <td>0</td>\n",
       "      <td>LAB</td>\n",
       "      <td>1</td>\n",
       "      <td>W</td>\n",
       "      <td>1730-2020</td>\n",
       "      <td>C ABBOUD</td>\n",
       "      <td>2013</td>\n",
       "      <td>SPRING</td>\n",
       "    </tr>\n",
       "    <tr>\n",
       "      <th>3</th>\n",
       "      <td>CMPE 46</td>\n",
       "      <td>COMPE I</td>\n",
       "      <td>1</td>\n",
       "      <td>3</td>\n",
       "      <td>SEM</td>\n",
       "      <td>1</td>\n",
       "      <td>TR</td>\n",
       "      <td>1030-1120</td>\n",
       "      <td>F LIN</td>\n",
       "      <td>2013</td>\n",
       "      <td>SPRING</td>\n",
       "    </tr>\n",
       "    <tr>\n",
       "      <th>4</th>\n",
       "      <td>CMPE 46</td>\n",
       "      <td>COMPE I</td>\n",
       "      <td>2</td>\n",
       "      <td>0</td>\n",
       "      <td>LAB</td>\n",
       "      <td>1</td>\n",
       "      <td>T</td>\n",
       "      <td>1330-1620</td>\n",
       "      <td>F LIN</td>\n",
       "      <td>2013</td>\n",
       "      <td>SPRING</td>\n",
       "    </tr>\n",
       "  </tbody>\n",
       "</table>\n",
       "</div>"
      ],
      "text/plain": [
       "  COURSE_CODE                      COURSE_NAME  SECTION_NUMBER  UNITS  \\\n",
       "0     CMPE 30  PROGRAMMING CONCEPT & METH                    1      3   \n",
       "1     CMPE 30  PROGRAMMING CONCEPT & METH                    2      0   \n",
       "2     CMPE 30  PROGRAMMING CONCEPT & METH                    3      0   \n",
       "3     CMPE 46                   COMPE I                      1      3   \n",
       "4     CMPE 46                   COMPE I                      2      0   \n",
       "\n",
       "  CLASS_TYPE  SEATS_AVAILABLE MEETING_DAYS CLASS_HOURS INSTRUCTOR  YEAR  \\\n",
       "0        LEC                2           MW   1100-1150   H OZEMEK  2013   \n",
       "1        LAB                1            R   1730-2020     P KANG  2013   \n",
       "2        LAB                1            W   1730-2020   C ABBOUD  2013   \n",
       "3        SEM                1           TR   1030-1120      F LIN  2013   \n",
       "4        LAB                1            T   1330-1620      F LIN  2013   \n",
       "\n",
       "  SEMESTER  \n",
       "0   SPRING  \n",
       "1   SPRING  \n",
       "2   SPRING  \n",
       "3   SPRING  \n",
       "4   SPRING  "
      ]
     },
     "execution_count": 1,
     "metadata": {},
     "output_type": "execute_result"
    }
   ],
   "source": [
    "import pandas as pd\n",
    "# Loading the clean data\n",
    "df=pd.read_excel('cleaned_data_withHTML.xlsx')\n",
    "#converting all columns to all caps\n",
    "df['COURSE_CODE'] = df['COURSE_CODE'].str.upper()\n",
    "df['MEETING_DAYS'] = df['MEETING_DAYS'].str.upper()\n",
    "df['CLASS_TYPE']=df['CLASS_TYPE'].str.upper()\n",
    "df['INSTRUCTOR']=df['INSTRUCTOR'].str.upper()\n",
    "df['COURSE_NAME']=df['COURSE_NAME'].str.upper()\n",
    "# Correcting the name of column\n",
    "df = df.rename(columns={'SEATS_AVAILABALE': 'SEATS_AVAILABLE'})\n",
    "df.head()"
   ]
  },
  {
   "cell_type": "code",
   "execution_count": 2,
   "id": "101ee791",
   "metadata": {},
   "outputs": [
    {
     "name": "stdout",
     "output_type": "stream",
     "text": [
      "8901\n"
     ]
    }
   ],
   "source": [
    "#Total rows calculation\n",
    "row_count = len(df)\n",
    "print(row_count)"
   ]
  },
  {
   "cell_type": "markdown",
   "id": "4d5ed447",
   "metadata": {},
   "source": [
    "# Final Data preprocessing"
   ]
  },
  {
   "cell_type": "code",
   "execution_count": 3,
   "id": "02ade2aa",
   "metadata": {},
   "outputs": [
    {
     "name": "stdout",
     "output_type": "stream",
     "text": [
      "0\n",
      "0\n"
     ]
    }
   ],
   "source": [
    "#Handling SECTION_NUMBER\n",
    "print(df['SECTION_NUMBER'].isnull().sum())\n",
    "df['SECTION_NUMBER'].fillna(0, inplace=True)\n",
    "print(df['SECTION_NUMBER'].isnull().sum())"
   ]
  },
  {
   "cell_type": "code",
   "execution_count": 4,
   "id": "70c20698",
   "metadata": {},
   "outputs": [
    {
     "name": "stdout",
     "output_type": "stream",
     "text": [
      "647\n"
     ]
    }
   ],
   "source": [
    "df['UNITS'].fillna(3, inplace=True)\n",
    "print(df['INSTRUCTOR'].isnull().sum())"
   ]
  },
  {
   "cell_type": "code",
   "execution_count": 5,
   "id": "f515a2a5",
   "metadata": {},
   "outputs": [
    {
     "data": {
      "text/html": [
       "<div>\n",
       "<style scoped>\n",
       "    .dataframe tbody tr th:only-of-type {\n",
       "        vertical-align: middle;\n",
       "    }\n",
       "\n",
       "    .dataframe tbody tr th {\n",
       "        vertical-align: top;\n",
       "    }\n",
       "\n",
       "    .dataframe thead th {\n",
       "        text-align: right;\n",
       "    }\n",
       "</style>\n",
       "<table border=\"1\" class=\"dataframe\">\n",
       "  <thead>\n",
       "    <tr style=\"text-align: right;\">\n",
       "      <th></th>\n",
       "      <th>COURSE_CODE</th>\n",
       "      <th>COURSE_NAME</th>\n",
       "      <th>SECTION_NUMBER</th>\n",
       "      <th>UNITS</th>\n",
       "      <th>CLASS_TYPE</th>\n",
       "      <th>SEATS_AVAILABLE</th>\n",
       "      <th>MEETING_DAYS</th>\n",
       "      <th>CLASS_HOURS</th>\n",
       "      <th>INSTRUCTOR</th>\n",
       "      <th>YEAR</th>\n",
       "      <th>SEMESTER</th>\n",
       "    </tr>\n",
       "  </thead>\n",
       "  <tbody>\n",
       "    <tr>\n",
       "      <th>0</th>\n",
       "      <td>CMPE 30</td>\n",
       "      <td>PROGRAMMING CONCEPT &amp; METH</td>\n",
       "      <td>1</td>\n",
       "      <td>3</td>\n",
       "      <td>LEC</td>\n",
       "      <td>2</td>\n",
       "      <td>MW</td>\n",
       "      <td>1100-1150</td>\n",
       "      <td>H OZEMEK</td>\n",
       "      <td>2013</td>\n",
       "      <td>SPRING</td>\n",
       "    </tr>\n",
       "    <tr>\n",
       "      <th>1</th>\n",
       "      <td>CMPE 30</td>\n",
       "      <td>PROGRAMMING CONCEPT &amp; METH</td>\n",
       "      <td>2</td>\n",
       "      <td>0</td>\n",
       "      <td>LAB</td>\n",
       "      <td>1</td>\n",
       "      <td>R</td>\n",
       "      <td>1730-2020</td>\n",
       "      <td>P KANG</td>\n",
       "      <td>2013</td>\n",
       "      <td>SPRING</td>\n",
       "    </tr>\n",
       "    <tr>\n",
       "      <th>2</th>\n",
       "      <td>CMPE 30</td>\n",
       "      <td>PROGRAMMING CONCEPT &amp; METH</td>\n",
       "      <td>3</td>\n",
       "      <td>0</td>\n",
       "      <td>LAB</td>\n",
       "      <td>1</td>\n",
       "      <td>W</td>\n",
       "      <td>1730-2020</td>\n",
       "      <td>C ABBOUD</td>\n",
       "      <td>2013</td>\n",
       "      <td>SPRING</td>\n",
       "    </tr>\n",
       "    <tr>\n",
       "      <th>3</th>\n",
       "      <td>CMPE 46</td>\n",
       "      <td>COMPE I</td>\n",
       "      <td>1</td>\n",
       "      <td>3</td>\n",
       "      <td>SEM</td>\n",
       "      <td>1</td>\n",
       "      <td>TR</td>\n",
       "      <td>1030-1120</td>\n",
       "      <td>F LIN</td>\n",
       "      <td>2013</td>\n",
       "      <td>SPRING</td>\n",
       "    </tr>\n",
       "    <tr>\n",
       "      <th>4</th>\n",
       "      <td>CMPE 46</td>\n",
       "      <td>COMPE I</td>\n",
       "      <td>2</td>\n",
       "      <td>0</td>\n",
       "      <td>LAB</td>\n",
       "      <td>1</td>\n",
       "      <td>T</td>\n",
       "      <td>1330-1620</td>\n",
       "      <td>F LIN</td>\n",
       "      <td>2013</td>\n",
       "      <td>SPRING</td>\n",
       "    </tr>\n",
       "  </tbody>\n",
       "</table>\n",
       "</div>"
      ],
      "text/plain": [
       "  COURSE_CODE                      COURSE_NAME  SECTION_NUMBER  UNITS  \\\n",
       "0     CMPE 30  PROGRAMMING CONCEPT & METH                    1      3   \n",
       "1     CMPE 30  PROGRAMMING CONCEPT & METH                    2      0   \n",
       "2     CMPE 30  PROGRAMMING CONCEPT & METH                    3      0   \n",
       "3     CMPE 46                   COMPE I                      1      3   \n",
       "4     CMPE 46                   COMPE I                      2      0   \n",
       "\n",
       "  CLASS_TYPE  SEATS_AVAILABLE MEETING_DAYS CLASS_HOURS INSTRUCTOR  YEAR  \\\n",
       "0        LEC                2           MW   1100-1150   H OZEMEK  2013   \n",
       "1        LAB                1            R   1730-2020     P KANG  2013   \n",
       "2        LAB                1            W   1730-2020   C ABBOUD  2013   \n",
       "3        SEM                1           TR   1030-1120      F LIN  2013   \n",
       "4        LAB                1            T   1330-1620      F LIN  2013   \n",
       "\n",
       "  SEMESTER  \n",
       "0   SPRING  \n",
       "1   SPRING  \n",
       "2   SPRING  \n",
       "3   SPRING  \n",
       "4   SPRING  "
      ]
     },
     "execution_count": 5,
     "metadata": {},
     "output_type": "execute_result"
    }
   ],
   "source": [
    "df.head(5)"
   ]
  },
  {
   "cell_type": "code",
   "execution_count": 6,
   "id": "eaf5c2e5",
   "metadata": {},
   "outputs": [
    {
     "name": "stdout",
     "output_type": "stream",
     "text": [
      "3    6780\n",
      "0    1273\n",
      "1     512\n",
      "4     250\n",
      "2      74\n",
      "6       8\n",
      "5       4\n",
      "Name: UNITS, dtype: int64\n"
     ]
    }
   ],
   "source": [
    "#Finding Unique values in UNITS column\n",
    "value_counts = df['UNITS'].value_counts()\n",
    "# print the result\n",
    "print(value_counts)"
   ]
  },
  {
   "cell_type": "code",
   "execution_count": 7,
   "id": "3a513c8e",
   "metadata": {},
   "outputs": [
    {
     "name": "stdout",
     "output_type": "stream",
     "text": [
      "FALL      4660\n",
      "SPRING    4241\n",
      "Name: SEMESTER, dtype: int64\n"
     ]
    }
   ],
   "source": [
    "value_counts = df['SEMESTER'].value_counts()\n",
    "# print the result\n",
    "print(value_counts)"
   ]
  },
  {
   "cell_type": "code",
   "execution_count": 8,
   "id": "abea5116",
   "metadata": {},
   "outputs": [
    {
     "data": {
      "text/html": [
       "<div>\n",
       "<style scoped>\n",
       "    .dataframe tbody tr th:only-of-type {\n",
       "        vertical-align: middle;\n",
       "    }\n",
       "\n",
       "    .dataframe tbody tr th {\n",
       "        vertical-align: top;\n",
       "    }\n",
       "\n",
       "    .dataframe thead th {\n",
       "        text-align: right;\n",
       "    }\n",
       "</style>\n",
       "<table border=\"1\" class=\"dataframe\">\n",
       "  <thead>\n",
       "    <tr style=\"text-align: right;\">\n",
       "      <th></th>\n",
       "      <th>COURSE_CODE</th>\n",
       "      <th>COURSE_NAME</th>\n",
       "      <th>SECTION_NUMBER</th>\n",
       "      <th>UNITS</th>\n",
       "      <th>CLASS_TYPE</th>\n",
       "      <th>SEATS_AVAILABLE</th>\n",
       "      <th>MEETING_DAYS</th>\n",
       "      <th>CLASS_HOURS</th>\n",
       "      <th>INSTRUCTOR</th>\n",
       "      <th>YEAR</th>\n",
       "      <th>SEMESTER</th>\n",
       "    </tr>\n",
       "  </thead>\n",
       "  <tbody>\n",
       "    <tr>\n",
       "      <th>0</th>\n",
       "      <td>CMPE 30</td>\n",
       "      <td>PROGRAMMING CONCEPT &amp; METH</td>\n",
       "      <td>1</td>\n",
       "      <td>3</td>\n",
       "      <td>LEC</td>\n",
       "      <td>2</td>\n",
       "      <td>MW</td>\n",
       "      <td>1100-1150</td>\n",
       "      <td>H OZEMEK</td>\n",
       "      <td>2013</td>\n",
       "      <td>SPRING</td>\n",
       "    </tr>\n",
       "    <tr>\n",
       "      <th>1</th>\n",
       "      <td>CMPE 30</td>\n",
       "      <td>PROGRAMMING CONCEPT &amp; METH</td>\n",
       "      <td>2</td>\n",
       "      <td>0</td>\n",
       "      <td>LAB</td>\n",
       "      <td>1</td>\n",
       "      <td>R</td>\n",
       "      <td>1730-2020</td>\n",
       "      <td>P KANG</td>\n",
       "      <td>2013</td>\n",
       "      <td>SPRING</td>\n",
       "    </tr>\n",
       "    <tr>\n",
       "      <th>2</th>\n",
       "      <td>CMPE 30</td>\n",
       "      <td>PROGRAMMING CONCEPT &amp; METH</td>\n",
       "      <td>3</td>\n",
       "      <td>0</td>\n",
       "      <td>LAB</td>\n",
       "      <td>1</td>\n",
       "      <td>W</td>\n",
       "      <td>1730-2020</td>\n",
       "      <td>C ABBOUD</td>\n",
       "      <td>2013</td>\n",
       "      <td>SPRING</td>\n",
       "    </tr>\n",
       "    <tr>\n",
       "      <th>3</th>\n",
       "      <td>CMPE 46</td>\n",
       "      <td>COMPE I</td>\n",
       "      <td>1</td>\n",
       "      <td>3</td>\n",
       "      <td>SEM</td>\n",
       "      <td>1</td>\n",
       "      <td>TR</td>\n",
       "      <td>1030-1120</td>\n",
       "      <td>F LIN</td>\n",
       "      <td>2013</td>\n",
       "      <td>SPRING</td>\n",
       "    </tr>\n",
       "    <tr>\n",
       "      <th>4</th>\n",
       "      <td>CMPE 46</td>\n",
       "      <td>COMPE I</td>\n",
       "      <td>2</td>\n",
       "      <td>0</td>\n",
       "      <td>LAB</td>\n",
       "      <td>1</td>\n",
       "      <td>T</td>\n",
       "      <td>1330-1620</td>\n",
       "      <td>F LIN</td>\n",
       "      <td>2013</td>\n",
       "      <td>SPRING</td>\n",
       "    </tr>\n",
       "  </tbody>\n",
       "</table>\n",
       "</div>"
      ],
      "text/plain": [
       "  COURSE_CODE                      COURSE_NAME  SECTION_NUMBER  UNITS  \\\n",
       "0     CMPE 30  PROGRAMMING CONCEPT & METH                    1      3   \n",
       "1     CMPE 30  PROGRAMMING CONCEPT & METH                    2      0   \n",
       "2     CMPE 30  PROGRAMMING CONCEPT & METH                    3      0   \n",
       "3     CMPE 46                   COMPE I                      1      3   \n",
       "4     CMPE 46                   COMPE I                      2      0   \n",
       "\n",
       "  CLASS_TYPE  SEATS_AVAILABLE MEETING_DAYS CLASS_HOURS INSTRUCTOR  YEAR  \\\n",
       "0        LEC                2           MW   1100-1150   H OZEMEK  2013   \n",
       "1        LAB                1            R   1730-2020     P KANG  2013   \n",
       "2        LAB                1            W   1730-2020   C ABBOUD  2013   \n",
       "3        SEM                1           TR   1030-1120      F LIN  2013   \n",
       "4        LAB                1            T   1330-1620      F LIN  2013   \n",
       "\n",
       "  SEMESTER  \n",
       "0   SPRING  \n",
       "1   SPRING  \n",
       "2   SPRING  \n",
       "3   SPRING  \n",
       "4   SPRING  "
      ]
     },
     "execution_count": 8,
     "metadata": {},
     "output_type": "execute_result"
    }
   ],
   "source": [
    "df.head()"
   ]
  },
  {
   "cell_type": "code",
   "execution_count": 9,
   "id": "3d117c9e",
   "metadata": {},
   "outputs": [
    {
     "data": {
      "text/plain": [
       "4660"
      ]
     },
     "execution_count": 9,
     "metadata": {},
     "output_type": "execute_result"
    }
   ],
   "source": [
    "df_fall = df[df['SEMESTER'] == 'FALL']\n",
    "len(df_fall)"
   ]
  },
  {
   "cell_type": "code",
   "execution_count": 10,
   "id": "8a82aad9",
   "metadata": {},
   "outputs": [
    {
     "data": {
      "text/plain": [
       "4241"
      ]
     },
     "execution_count": 10,
     "metadata": {},
     "output_type": "execute_result"
    }
   ],
   "source": [
    "df_spring = df[df['SEMESTER'] == 'SPRING']\n",
    "len(df_spring)"
   ]
  },
  {
   "cell_type": "code",
   "execution_count": 11,
   "id": "ddec5b02",
   "metadata": {},
   "outputs": [],
   "source": [
    "df_fall.to_excel('fall_data.xlsx')"
   ]
  },
  {
   "cell_type": "code",
   "execution_count": 12,
   "id": "bb720250",
   "metadata": {},
   "outputs": [],
   "source": [
    "df_spring.to_excel('spring_data.xlsx')"
   ]
  },
  {
   "cell_type": "markdown",
   "id": "4ae44066",
   "metadata": {},
   "source": [
    "# Encoding"
   ]
  },
  {
   "cell_type": "code",
   "execution_count": 14,
   "id": "84115632",
   "metadata": {},
   "outputs": [],
   "source": [
    "import pandas as pd\n",
    "\n",
    "from sklearn.preprocessing import LabelEncoder\n",
    "le = LabelEncoder()"
   ]
  },
  {
   "cell_type": "code",
   "execution_count": 15,
   "id": "a4aaa331",
   "metadata": {},
   "outputs": [
    {
     "data": {
      "text/html": [
       "<div>\n",
       "<style scoped>\n",
       "    .dataframe tbody tr th:only-of-type {\n",
       "        vertical-align: middle;\n",
       "    }\n",
       "\n",
       "    .dataframe tbody tr th {\n",
       "        vertical-align: top;\n",
       "    }\n",
       "\n",
       "    .dataframe thead th {\n",
       "        text-align: right;\n",
       "    }\n",
       "</style>\n",
       "<table border=\"1\" class=\"dataframe\">\n",
       "  <thead>\n",
       "    <tr style=\"text-align: right;\">\n",
       "      <th></th>\n",
       "      <th>COURSE_CODE</th>\n",
       "      <th>COURSE_NAME</th>\n",
       "      <th>SECTION_NUMBER</th>\n",
       "      <th>UNITS</th>\n",
       "      <th>CLASS_TYPE</th>\n",
       "      <th>SEATS_AVAILABLE</th>\n",
       "      <th>MEETING_DAYS</th>\n",
       "      <th>CLASS_HOURS</th>\n",
       "      <th>INSTRUCTOR</th>\n",
       "      <th>YEAR</th>\n",
       "      <th>SEMESTER</th>\n",
       "    </tr>\n",
       "  </thead>\n",
       "  <tbody>\n",
       "    <tr>\n",
       "      <th>0</th>\n",
       "      <td>CMPE 30</td>\n",
       "      <td>PROGRAMMING CONCEPT &amp; METH</td>\n",
       "      <td>1</td>\n",
       "      <td>3</td>\n",
       "      <td>LEC</td>\n",
       "      <td>2</td>\n",
       "      <td>MW</td>\n",
       "      <td>1100-1150</td>\n",
       "      <td>H OZEMEK</td>\n",
       "      <td>2013</td>\n",
       "      <td>SPRING</td>\n",
       "    </tr>\n",
       "    <tr>\n",
       "      <th>1</th>\n",
       "      <td>CMPE 30</td>\n",
       "      <td>PROGRAMMING CONCEPT &amp; METH</td>\n",
       "      <td>2</td>\n",
       "      <td>0</td>\n",
       "      <td>LAB</td>\n",
       "      <td>1</td>\n",
       "      <td>R</td>\n",
       "      <td>1730-2020</td>\n",
       "      <td>P KANG</td>\n",
       "      <td>2013</td>\n",
       "      <td>SPRING</td>\n",
       "    </tr>\n",
       "    <tr>\n",
       "      <th>2</th>\n",
       "      <td>CMPE 30</td>\n",
       "      <td>PROGRAMMING CONCEPT &amp; METH</td>\n",
       "      <td>3</td>\n",
       "      <td>0</td>\n",
       "      <td>LAB</td>\n",
       "      <td>1</td>\n",
       "      <td>W</td>\n",
       "      <td>1730-2020</td>\n",
       "      <td>C ABBOUD</td>\n",
       "      <td>2013</td>\n",
       "      <td>SPRING</td>\n",
       "    </tr>\n",
       "    <tr>\n",
       "      <th>3</th>\n",
       "      <td>CMPE 46</td>\n",
       "      <td>COMPE I</td>\n",
       "      <td>1</td>\n",
       "      <td>3</td>\n",
       "      <td>SEM</td>\n",
       "      <td>1</td>\n",
       "      <td>TR</td>\n",
       "      <td>1030-1120</td>\n",
       "      <td>F LIN</td>\n",
       "      <td>2013</td>\n",
       "      <td>SPRING</td>\n",
       "    </tr>\n",
       "    <tr>\n",
       "      <th>4</th>\n",
       "      <td>CMPE 46</td>\n",
       "      <td>COMPE I</td>\n",
       "      <td>2</td>\n",
       "      <td>0</td>\n",
       "      <td>LAB</td>\n",
       "      <td>1</td>\n",
       "      <td>T</td>\n",
       "      <td>1330-1620</td>\n",
       "      <td>F LIN</td>\n",
       "      <td>2013</td>\n",
       "      <td>SPRING</td>\n",
       "    </tr>\n",
       "  </tbody>\n",
       "</table>\n",
       "</div>"
      ],
      "text/plain": [
       "  COURSE_CODE                      COURSE_NAME  SECTION_NUMBER  UNITS  \\\n",
       "0     CMPE 30  PROGRAMMING CONCEPT & METH                    1      3   \n",
       "1     CMPE 30  PROGRAMMING CONCEPT & METH                    2      0   \n",
       "2     CMPE 30  PROGRAMMING CONCEPT & METH                    3      0   \n",
       "3     CMPE 46                   COMPE I                      1      3   \n",
       "4     CMPE 46                   COMPE I                      2      0   \n",
       "\n",
       "  CLASS_TYPE  SEATS_AVAILABLE MEETING_DAYS CLASS_HOURS INSTRUCTOR  YEAR  \\\n",
       "0        LEC                2           MW   1100-1150   H OZEMEK  2013   \n",
       "1        LAB                1            R   1730-2020     P KANG  2013   \n",
       "2        LAB                1            W   1730-2020   C ABBOUD  2013   \n",
       "3        SEM                1           TR   1030-1120      F LIN  2013   \n",
       "4        LAB                1            T   1330-1620      F LIN  2013   \n",
       "\n",
       "  SEMESTER  \n",
       "0   SPRING  \n",
       "1   SPRING  \n",
       "2   SPRING  \n",
       "3   SPRING  \n",
       "4   SPRING  "
      ]
     },
     "execution_count": 15,
     "metadata": {},
     "output_type": "execute_result"
    }
   ],
   "source": [
    "df_copy=df.copy()\n",
    "df_copy.head()"
   ]
  },
  {
   "cell_type": "code",
   "execution_count": 16,
   "id": "d2bb8ade",
   "metadata": {},
   "outputs": [],
   "source": [
    "# Label encoding our data\n",
    "df_copy['COURSE_CODE']=le.fit_transform(df_copy['COURSE_CODE'])\n",
    "df_copy['COURSE_NAME']=le.fit_transform(df_copy['COURSE_NAME'])\n",
    "df_copy['CLASS_TYPE']=le.fit_transform(df_copy['CLASS_TYPE'])\n",
    "df_copy['MEETING_DAYS']=le.fit_transform(df_copy['MEETING_DAYS'])\n",
    "df_copy['CLASS_HOURS']=le.fit_transform(df_copy['CLASS_HOURS'])\n",
    "df_copy['SEMESTER']=le.fit_transform(df_copy['SEMESTER'])\n",
    "df_copy['YEAR']=le.fit_transform(df_copy['YEAR'])\n",
    "df_copy['INSTRUCTOR']=le.fit_transform(df_copy['INSTRUCTOR'])"
   ]
  },
  {
   "cell_type": "code",
   "execution_count": 17,
   "id": "fa6fe1a1",
   "metadata": {},
   "outputs": [
    {
     "data": {
      "text/plain": [
       "array([  2,   1,  10,   0,  26,  29,   4,  33,   5,  19,  25,   6,  11,\n",
       "        22,  -3,  28,  -4,  17,   8,  18,  20,  32,  16,  30, -30,   7,\n",
       "        13,  -5,  41,  21, -14,  12,  -7,   3,   9,  -2,  15,  37,  -1,\n",
       "        -6,  14,  -8,  76, -13,  23,  24, -10,  27,  36,  39,  59,  31,\n",
       "        44,  45, -65,  47, -41, -46, -31,  42,  35,  50, -12, -70,  79,\n",
       "       -21, -17, -15,  51, -26, -16, -19, -18,  38,  49,  60,  40,  48,\n",
       "        46,  54, -55, -11,  -9, -32, -20,  70, -23,  90,  80,  34, -60,\n",
       "       -45,  64,  67,  43, -72, -66, -99,  65, -28,  68, -37, -27,  72,\n",
       "        61,  89, -77,  55,  73,  57, -29,  53,  52,  58, -25, 177, 174,\n",
       "        56,  66, 172, 175,  63, 126, 167,  83, 160, 169, 113, 151, 155,\n",
       "        75, 180, 120, 140, -24, 134, 178,  62,  71, -38, -35, 171,  77,\n",
       "       -22,  97, 179,  69, 116], dtype=int64)"
      ]
     },
     "execution_count": 17,
     "metadata": {},
     "output_type": "execute_result"
    }
   ],
   "source": [
    "df_copy.head()\n",
    "df_copy['SEATS_AVAILABLE'].unique()"
   ]
  },
  {
   "cell_type": "code",
   "execution_count": 18,
   "id": "925f6e0d",
   "metadata": {},
   "outputs": [],
   "source": [
    "# df_copy.loc[df_copy['SEATS_AVAILABLE'] > 40, 'SEATS_AVAILABLE'] = 10\n",
    "# df_copy.loc[df_copy['SEATS_AVAILABLE'] < 0, 'SEATS_AVAILABLE'] = 0\n",
    "\n",
    "# # Group the data by COURSE_CODE and calculate the max value of SEATS_AVAILABLE for each group\n",
    "# max_seats = df_copy.groupby('COURSE_CODE')['SEATS_AVAILABLE'].max().reset_index()\n",
    "\n",
    "# # Join the max_seats dataframe back to the original dataframe using COURSE_CODE as the key\n",
    "# merged = df_copy.merge(max_seats, on='COURSE_CODE', suffixes=['', '_max'])\n",
    "\n",
    "# # Divide the SEATS_AVAILABLE column by the max value for each group\n",
    "# merged['SEATS_AVAILABLE'] = merged['SEATS_AVAILABLE'] / merged['SEATS_AVAILABLE_max']\n",
    "\n",
    "# merged['SEATS_AVAILABLE_max'].unique()"
   ]
  },
  {
   "cell_type": "code",
   "execution_count": 19,
   "id": "3e37e1fb",
   "metadata": {},
   "outputs": [],
   "source": [
    "# merged['SEATS_AVAILABLE'] = merged['SEATS_AVAILABLE'].fillna(0)\n",
    "# merged['SEATS_AVAILABLE'].unique()"
   ]
  },
  {
   "cell_type": "code",
   "execution_count": null,
   "id": "fd736124",
   "metadata": {},
   "outputs": [],
   "source": []
  }
 ],
 "metadata": {
  "kernelspec": {
   "display_name": "Python 3 (ipykernel)",
   "language": "python",
   "name": "python3"
  },
  "language_info": {
   "codemirror_mode": {
    "name": "ipython",
    "version": 3
   },
   "file_extension": ".py",
   "mimetype": "text/x-python",
   "name": "python",
   "nbconvert_exporter": "python",
   "pygments_lexer": "ipython3",
   "version": "3.9.16"
  }
 },
 "nbformat": 4,
 "nbformat_minor": 5
}
