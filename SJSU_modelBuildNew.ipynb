{
 "cells": [
  {
   "cell_type": "code",
   "execution_count": 155,
   "id": "930863af",
   "metadata": {},
   "outputs": [
    {
     "data": {
      "text/html": [
       "<div>\n",
       "<style scoped>\n",
       "    .dataframe tbody tr th:only-of-type {\n",
       "        vertical-align: middle;\n",
       "    }\n",
       "\n",
       "    .dataframe tbody tr th {\n",
       "        vertical-align: top;\n",
       "    }\n",
       "\n",
       "    .dataframe thead th {\n",
       "        text-align: right;\n",
       "    }\n",
       "</style>\n",
       "<table border=\"1\" class=\"dataframe\">\n",
       "  <thead>\n",
       "    <tr style=\"text-align: right;\">\n",
       "      <th></th>\n",
       "      <th>COURSE_CODE</th>\n",
       "      <th>COURSE_NAME</th>\n",
       "      <th>SECTION_NUMBER</th>\n",
       "      <th>UNITS</th>\n",
       "      <th>CLASS_TYPE</th>\n",
       "      <th>SEATS_AVAILABLE</th>\n",
       "      <th>MEETING_DAYS</th>\n",
       "      <th>CLASS_HOURS</th>\n",
       "      <th>INSTRUCTOR</th>\n",
       "      <th>YEAR</th>\n",
       "      <th>SEMESTER</th>\n",
       "    </tr>\n",
       "  </thead>\n",
       "  <tbody>\n",
       "    <tr>\n",
       "      <th>0</th>\n",
       "      <td>CMPE 30</td>\n",
       "      <td>PROGRAMMING CONCEPT &amp; METH</td>\n",
       "      <td>1</td>\n",
       "      <td>3</td>\n",
       "      <td>LEC</td>\n",
       "      <td>2</td>\n",
       "      <td>MW</td>\n",
       "      <td>1100-1150</td>\n",
       "      <td>H OZEMEK</td>\n",
       "      <td>2013</td>\n",
       "      <td>SPRING</td>\n",
       "    </tr>\n",
       "    <tr>\n",
       "      <th>1</th>\n",
       "      <td>CMPE 30</td>\n",
       "      <td>PROGRAMMING CONCEPT &amp; METH</td>\n",
       "      <td>2</td>\n",
       "      <td>0</td>\n",
       "      <td>LAB</td>\n",
       "      <td>1</td>\n",
       "      <td>R</td>\n",
       "      <td>1730-2020</td>\n",
       "      <td>P KANG</td>\n",
       "      <td>2013</td>\n",
       "      <td>SPRING</td>\n",
       "    </tr>\n",
       "    <tr>\n",
       "      <th>2</th>\n",
       "      <td>CMPE 30</td>\n",
       "      <td>PROGRAMMING CONCEPT &amp; METH</td>\n",
       "      <td>3</td>\n",
       "      <td>0</td>\n",
       "      <td>LAB</td>\n",
       "      <td>1</td>\n",
       "      <td>W</td>\n",
       "      <td>1730-2020</td>\n",
       "      <td>C ABBOUD</td>\n",
       "      <td>2013</td>\n",
       "      <td>SPRING</td>\n",
       "    </tr>\n",
       "    <tr>\n",
       "      <th>3</th>\n",
       "      <td>CMPE 46</td>\n",
       "      <td>COMPE I</td>\n",
       "      <td>1</td>\n",
       "      <td>3</td>\n",
       "      <td>SEM</td>\n",
       "      <td>1</td>\n",
       "      <td>TR</td>\n",
       "      <td>1030-1120</td>\n",
       "      <td>F LIN</td>\n",
       "      <td>2013</td>\n",
       "      <td>SPRING</td>\n",
       "    </tr>\n",
       "    <tr>\n",
       "      <th>4</th>\n",
       "      <td>CMPE 46</td>\n",
       "      <td>COMPE I</td>\n",
       "      <td>2</td>\n",
       "      <td>0</td>\n",
       "      <td>LAB</td>\n",
       "      <td>1</td>\n",
       "      <td>T</td>\n",
       "      <td>1330-1620</td>\n",
       "      <td>F LIN</td>\n",
       "      <td>2013</td>\n",
       "      <td>SPRING</td>\n",
       "    </tr>\n",
       "  </tbody>\n",
       "</table>\n",
       "</div>"
      ],
      "text/plain": [
       "  COURSE_CODE                      COURSE_NAME  SECTION_NUMBER  UNITS  \\\n",
       "0     CMPE 30  PROGRAMMING CONCEPT & METH                    1      3   \n",
       "1     CMPE 30  PROGRAMMING CONCEPT & METH                    2      0   \n",
       "2     CMPE 30  PROGRAMMING CONCEPT & METH                    3      0   \n",
       "3     CMPE 46                   COMPE I                      1      3   \n",
       "4     CMPE 46                   COMPE I                      2      0   \n",
       "\n",
       "  CLASS_TYPE  SEATS_AVAILABLE MEETING_DAYS CLASS_HOURS INSTRUCTOR  YEAR  \\\n",
       "0        LEC                2           MW   1100-1150   H OZEMEK  2013   \n",
       "1        LAB                1            R   1730-2020     P KANG  2013   \n",
       "2        LAB                1            W   1730-2020   C ABBOUD  2013   \n",
       "3        SEM                1           TR   1030-1120      F LIN  2013   \n",
       "4        LAB                1            T   1330-1620      F LIN  2013   \n",
       "\n",
       "  SEMESTER  \n",
       "0   SPRING  \n",
       "1   SPRING  \n",
       "2   SPRING  \n",
       "3   SPRING  \n",
       "4   SPRING  "
      ]
     },
     "execution_count": 155,
     "metadata": {},
     "output_type": "execute_result"
    }
   ],
   "source": [
    "import pandas as pd\n",
    "# Loading the clean data\n",
    "df=pd.read_excel('cleaned_data_withHTML.xlsx')\n",
    "#converting all columns to all caps\n",
    "df['COURSE_CODE'] = df['COURSE_CODE'].str.upper()\n",
    "df['MEETING_DAYS'] = df['MEETING_DAYS'].str.upper()\n",
    "df['CLASS_TYPE']=df['CLASS_TYPE'].str.upper()\n",
    "df['INSTRUCTOR']=df['INSTRUCTOR'].str.upper()\n",
    "df['COURSE_NAME']=df['COURSE_NAME'].str.upper()\n",
    "# Correcting the name of column\n",
    "df = df.rename(columns={'SEATS_AVAILABALE': 'SEATS_AVAILABLE'})\n",
    "df.head()"
   ]
  },
  {
   "cell_type": "code",
   "execution_count": 156,
   "id": "a52167d0",
   "metadata": {},
   "outputs": [
    {
     "name": "stdout",
     "output_type": "stream",
     "text": [
      "8901\n"
     ]
    }
   ],
   "source": [
    "#Total rows calculation\n",
    "row_count = len(df)\n",
    "print(row_count)"
   ]
  },
  {
   "cell_type": "markdown",
   "id": "946162a9",
   "metadata": {},
   "source": [
    "# Final Data preprocessing"
   ]
  },
  {
   "cell_type": "code",
   "execution_count": 157,
   "id": "f31d76cb",
   "metadata": {},
   "outputs": [
    {
     "name": "stdout",
     "output_type": "stream",
     "text": [
      "0\n",
      "0\n"
     ]
    }
   ],
   "source": [
    "#Handling SECTION_NUMBER\n",
    "print(df['SECTION_NUMBER'].isnull().sum())\n",
    "df['SECTION_NUMBER'].fillna(0, inplace=True)\n",
    "print(df['SECTION_NUMBER'].isnull().sum())"
   ]
  },
  {
   "cell_type": "code",
   "execution_count": 158,
   "id": "2bcfdadb",
   "metadata": {},
   "outputs": [
    {
     "name": "stdout",
     "output_type": "stream",
     "text": [
      "647\n"
     ]
    }
   ],
   "source": [
    "df['UNITS'].fillna(3, inplace=True)\n",
    "print(df['INSTRUCTOR'].isnull().sum())"
   ]
  },
  {
   "cell_type": "code",
   "execution_count": 159,
   "id": "25a64d55",
   "metadata": {},
   "outputs": [
    {
     "data": {
      "text/html": [
       "<div>\n",
       "<style scoped>\n",
       "    .dataframe tbody tr th:only-of-type {\n",
       "        vertical-align: middle;\n",
       "    }\n",
       "\n",
       "    .dataframe tbody tr th {\n",
       "        vertical-align: top;\n",
       "    }\n",
       "\n",
       "    .dataframe thead th {\n",
       "        text-align: right;\n",
       "    }\n",
       "</style>\n",
       "<table border=\"1\" class=\"dataframe\">\n",
       "  <thead>\n",
       "    <tr style=\"text-align: right;\">\n",
       "      <th></th>\n",
       "      <th>COURSE_CODE</th>\n",
       "      <th>COURSE_NAME</th>\n",
       "      <th>SECTION_NUMBER</th>\n",
       "      <th>UNITS</th>\n",
       "      <th>CLASS_TYPE</th>\n",
       "      <th>SEATS_AVAILABLE</th>\n",
       "      <th>MEETING_DAYS</th>\n",
       "      <th>CLASS_HOURS</th>\n",
       "      <th>INSTRUCTOR</th>\n",
       "      <th>YEAR</th>\n",
       "      <th>SEMESTER</th>\n",
       "    </tr>\n",
       "  </thead>\n",
       "  <tbody>\n",
       "    <tr>\n",
       "      <th>0</th>\n",
       "      <td>CMPE 30</td>\n",
       "      <td>PROGRAMMING CONCEPT &amp; METH</td>\n",
       "      <td>1</td>\n",
       "      <td>3</td>\n",
       "      <td>LEC</td>\n",
       "      <td>2</td>\n",
       "      <td>MW</td>\n",
       "      <td>1100-1150</td>\n",
       "      <td>H OZEMEK</td>\n",
       "      <td>2013</td>\n",
       "      <td>SPRING</td>\n",
       "    </tr>\n",
       "    <tr>\n",
       "      <th>1</th>\n",
       "      <td>CMPE 30</td>\n",
       "      <td>PROGRAMMING CONCEPT &amp; METH</td>\n",
       "      <td>2</td>\n",
       "      <td>0</td>\n",
       "      <td>LAB</td>\n",
       "      <td>1</td>\n",
       "      <td>R</td>\n",
       "      <td>1730-2020</td>\n",
       "      <td>P KANG</td>\n",
       "      <td>2013</td>\n",
       "      <td>SPRING</td>\n",
       "    </tr>\n",
       "    <tr>\n",
       "      <th>2</th>\n",
       "      <td>CMPE 30</td>\n",
       "      <td>PROGRAMMING CONCEPT &amp; METH</td>\n",
       "      <td>3</td>\n",
       "      <td>0</td>\n",
       "      <td>LAB</td>\n",
       "      <td>1</td>\n",
       "      <td>W</td>\n",
       "      <td>1730-2020</td>\n",
       "      <td>C ABBOUD</td>\n",
       "      <td>2013</td>\n",
       "      <td>SPRING</td>\n",
       "    </tr>\n",
       "    <tr>\n",
       "      <th>3</th>\n",
       "      <td>CMPE 46</td>\n",
       "      <td>COMPE I</td>\n",
       "      <td>1</td>\n",
       "      <td>3</td>\n",
       "      <td>SEM</td>\n",
       "      <td>1</td>\n",
       "      <td>TR</td>\n",
       "      <td>1030-1120</td>\n",
       "      <td>F LIN</td>\n",
       "      <td>2013</td>\n",
       "      <td>SPRING</td>\n",
       "    </tr>\n",
       "    <tr>\n",
       "      <th>4</th>\n",
       "      <td>CMPE 46</td>\n",
       "      <td>COMPE I</td>\n",
       "      <td>2</td>\n",
       "      <td>0</td>\n",
       "      <td>LAB</td>\n",
       "      <td>1</td>\n",
       "      <td>T</td>\n",
       "      <td>1330-1620</td>\n",
       "      <td>F LIN</td>\n",
       "      <td>2013</td>\n",
       "      <td>SPRING</td>\n",
       "    </tr>\n",
       "  </tbody>\n",
       "</table>\n",
       "</div>"
      ],
      "text/plain": [
       "  COURSE_CODE                      COURSE_NAME  SECTION_NUMBER  UNITS  \\\n",
       "0     CMPE 30  PROGRAMMING CONCEPT & METH                    1      3   \n",
       "1     CMPE 30  PROGRAMMING CONCEPT & METH                    2      0   \n",
       "2     CMPE 30  PROGRAMMING CONCEPT & METH                    3      0   \n",
       "3     CMPE 46                   COMPE I                      1      3   \n",
       "4     CMPE 46                   COMPE I                      2      0   \n",
       "\n",
       "  CLASS_TYPE  SEATS_AVAILABLE MEETING_DAYS CLASS_HOURS INSTRUCTOR  YEAR  \\\n",
       "0        LEC                2           MW   1100-1150   H OZEMEK  2013   \n",
       "1        LAB                1            R   1730-2020     P KANG  2013   \n",
       "2        LAB                1            W   1730-2020   C ABBOUD  2013   \n",
       "3        SEM                1           TR   1030-1120      F LIN  2013   \n",
       "4        LAB                1            T   1330-1620      F LIN  2013   \n",
       "\n",
       "  SEMESTER  \n",
       "0   SPRING  \n",
       "1   SPRING  \n",
       "2   SPRING  \n",
       "3   SPRING  \n",
       "4   SPRING  "
      ]
     },
     "execution_count": 159,
     "metadata": {},
     "output_type": "execute_result"
    }
   ],
   "source": [
    "df.head(5)"
   ]
  },
  {
   "cell_type": "code",
   "execution_count": 160,
   "id": "32961c69",
   "metadata": {},
   "outputs": [
    {
     "name": "stdout",
     "output_type": "stream",
     "text": [
      "3    6780\n",
      "0    1273\n",
      "1     512\n",
      "4     250\n",
      "2      74\n",
      "6       8\n",
      "5       4\n",
      "Name: UNITS, dtype: int64\n"
     ]
    }
   ],
   "source": [
    "#Finding Unique values in UNITS column\n",
    "value_counts = df['UNITS'].value_counts()\n",
    "# print the result\n",
    "print(value_counts)"
   ]
  },
  {
   "cell_type": "code",
   "execution_count": 161,
   "id": "600f68f9",
   "metadata": {},
   "outputs": [
    {
     "name": "stdout",
     "output_type": "stream",
     "text": [
      "FALL      4660\n",
      "SPRING    4241\n",
      "Name: SEMESTER, dtype: int64\n"
     ]
    }
   ],
   "source": [
    "value_counts = df['SEMESTER'].value_counts()\n",
    "# print the result\n",
    "print(value_counts)"
   ]
  },
  {
   "cell_type": "code",
   "execution_count": 162,
   "id": "645091f7",
   "metadata": {},
   "outputs": [
    {
     "data": {
      "text/html": [
       "<div>\n",
       "<style scoped>\n",
       "    .dataframe tbody tr th:only-of-type {\n",
       "        vertical-align: middle;\n",
       "    }\n",
       "\n",
       "    .dataframe tbody tr th {\n",
       "        vertical-align: top;\n",
       "    }\n",
       "\n",
       "    .dataframe thead th {\n",
       "        text-align: right;\n",
       "    }\n",
       "</style>\n",
       "<table border=\"1\" class=\"dataframe\">\n",
       "  <thead>\n",
       "    <tr style=\"text-align: right;\">\n",
       "      <th></th>\n",
       "      <th>COURSE_CODE</th>\n",
       "      <th>COURSE_NAME</th>\n",
       "      <th>SECTION_NUMBER</th>\n",
       "      <th>UNITS</th>\n",
       "      <th>CLASS_TYPE</th>\n",
       "      <th>SEATS_AVAILABLE</th>\n",
       "      <th>MEETING_DAYS</th>\n",
       "      <th>CLASS_HOURS</th>\n",
       "      <th>INSTRUCTOR</th>\n",
       "      <th>YEAR</th>\n",
       "      <th>SEMESTER</th>\n",
       "    </tr>\n",
       "  </thead>\n",
       "  <tbody>\n",
       "    <tr>\n",
       "      <th>0</th>\n",
       "      <td>CMPE 30</td>\n",
       "      <td>PROGRAMMING CONCEPT &amp; METH</td>\n",
       "      <td>1</td>\n",
       "      <td>3</td>\n",
       "      <td>LEC</td>\n",
       "      <td>2</td>\n",
       "      <td>MW</td>\n",
       "      <td>1100-1150</td>\n",
       "      <td>H OZEMEK</td>\n",
       "      <td>2013</td>\n",
       "      <td>SPRING</td>\n",
       "    </tr>\n",
       "    <tr>\n",
       "      <th>1</th>\n",
       "      <td>CMPE 30</td>\n",
       "      <td>PROGRAMMING CONCEPT &amp; METH</td>\n",
       "      <td>2</td>\n",
       "      <td>0</td>\n",
       "      <td>LAB</td>\n",
       "      <td>1</td>\n",
       "      <td>R</td>\n",
       "      <td>1730-2020</td>\n",
       "      <td>P KANG</td>\n",
       "      <td>2013</td>\n",
       "      <td>SPRING</td>\n",
       "    </tr>\n",
       "    <tr>\n",
       "      <th>2</th>\n",
       "      <td>CMPE 30</td>\n",
       "      <td>PROGRAMMING CONCEPT &amp; METH</td>\n",
       "      <td>3</td>\n",
       "      <td>0</td>\n",
       "      <td>LAB</td>\n",
       "      <td>1</td>\n",
       "      <td>W</td>\n",
       "      <td>1730-2020</td>\n",
       "      <td>C ABBOUD</td>\n",
       "      <td>2013</td>\n",
       "      <td>SPRING</td>\n",
       "    </tr>\n",
       "    <tr>\n",
       "      <th>3</th>\n",
       "      <td>CMPE 46</td>\n",
       "      <td>COMPE I</td>\n",
       "      <td>1</td>\n",
       "      <td>3</td>\n",
       "      <td>SEM</td>\n",
       "      <td>1</td>\n",
       "      <td>TR</td>\n",
       "      <td>1030-1120</td>\n",
       "      <td>F LIN</td>\n",
       "      <td>2013</td>\n",
       "      <td>SPRING</td>\n",
       "    </tr>\n",
       "    <tr>\n",
       "      <th>4</th>\n",
       "      <td>CMPE 46</td>\n",
       "      <td>COMPE I</td>\n",
       "      <td>2</td>\n",
       "      <td>0</td>\n",
       "      <td>LAB</td>\n",
       "      <td>1</td>\n",
       "      <td>T</td>\n",
       "      <td>1330-1620</td>\n",
       "      <td>F LIN</td>\n",
       "      <td>2013</td>\n",
       "      <td>SPRING</td>\n",
       "    </tr>\n",
       "  </tbody>\n",
       "</table>\n",
       "</div>"
      ],
      "text/plain": [
       "  COURSE_CODE                      COURSE_NAME  SECTION_NUMBER  UNITS  \\\n",
       "0     CMPE 30  PROGRAMMING CONCEPT & METH                    1      3   \n",
       "1     CMPE 30  PROGRAMMING CONCEPT & METH                    2      0   \n",
       "2     CMPE 30  PROGRAMMING CONCEPT & METH                    3      0   \n",
       "3     CMPE 46                   COMPE I                      1      3   \n",
       "4     CMPE 46                   COMPE I                      2      0   \n",
       "\n",
       "  CLASS_TYPE  SEATS_AVAILABLE MEETING_DAYS CLASS_HOURS INSTRUCTOR  YEAR  \\\n",
       "0        LEC                2           MW   1100-1150   H OZEMEK  2013   \n",
       "1        LAB                1            R   1730-2020     P KANG  2013   \n",
       "2        LAB                1            W   1730-2020   C ABBOUD  2013   \n",
       "3        SEM                1           TR   1030-1120      F LIN  2013   \n",
       "4        LAB                1            T   1330-1620      F LIN  2013   \n",
       "\n",
       "  SEMESTER  \n",
       "0   SPRING  \n",
       "1   SPRING  \n",
       "2   SPRING  \n",
       "3   SPRING  \n",
       "4   SPRING  "
      ]
     },
     "execution_count": 162,
     "metadata": {},
     "output_type": "execute_result"
    }
   ],
   "source": [
    "df.head()"
   ]
  },
  {
   "cell_type": "code",
   "execution_count": 163,
   "id": "edd781bc",
   "metadata": {},
   "outputs": [
    {
     "data": {
      "text/plain": [
       "4660"
      ]
     },
     "execution_count": 163,
     "metadata": {},
     "output_type": "execute_result"
    }
   ],
   "source": [
    "df_fall = df[df['SEMESTER'] == 'FALL']\n",
    "len(df_fall)"
   ]
  },
  {
   "cell_type": "code",
   "execution_count": 164,
   "id": "175ee1db",
   "metadata": {},
   "outputs": [
    {
     "data": {
      "text/plain": [
       "4241"
      ]
     },
     "execution_count": 164,
     "metadata": {},
     "output_type": "execute_result"
    }
   ],
   "source": [
    "df_spring = df[df['SEMESTER'] == 'SPRING']\n",
    "len(df_spring)"
   ]
  },
  {
   "cell_type": "code",
   "execution_count": 165,
   "id": "3648a56c",
   "metadata": {},
   "outputs": [],
   "source": [
    "df_fall.to_excel('fall_data.xlsx')"
   ]
  },
  {
   "cell_type": "code",
   "execution_count": 166,
   "id": "4916d820",
   "metadata": {},
   "outputs": [],
   "source": [
    "df_spring.to_excel('spring_data.xlsx')"
   ]
  },
  {
   "cell_type": "markdown",
   "id": "b9e538ff",
   "metadata": {},
   "source": [
    "# Working on Outliers"
   ]
  },
  {
   "cell_type": "code",
   "execution_count": 167,
   "id": "a4dfa9ab",
   "metadata": {},
   "outputs": [
    {
     "name": "stdout",
     "output_type": "stream",
     "text": [
      "159\n",
      "YEAR\n"
     ]
    }
   ],
   "source": [
    "# calculate the first quartile (Q1)\n",
    "Q1 = df['SEATS_AVAILABLE'].quantile(0.25)\n",
    "\n",
    "# calculate the third quartile (Q3)\n",
    "Q3 = df['SEATS_AVAILABLE'].quantile(0.75)\n",
    "\n",
    "# calculate the interquartile range (IQR)\n",
    "IQR = Q3 - Q1\n",
    "\n",
    "# define the lower and upper bounds for outliers\n",
    "lower_bound = Q1 - 1.5 * IQR\n",
    "upper_bound = Q3 + 1.5 * IQR\n",
    "\n",
    "# find the outliers\n",
    "outliers = df[(df['SEATS_AVAILABLE'] < lower_bound) | (df['SEATS_AVAILABLE'] > upper_bound)]\n",
    "\n",
    "# print the outliers\n",
    "print(len(outliers))\n",
    "print(max(outliers))"
   ]
  },
  {
   "cell_type": "code",
   "execution_count": 168,
   "id": "2780a668",
   "metadata": {},
   "outputs": [
    {
     "data": {
      "image/png": "[encoded data removed]",
      "text/plain": [
       "<Figure size 640x480 with 1 Axes>"
      ]
     },
     "metadata": {},
     "output_type": "display_data"
    }
   ],
   "source": [
    "import matplotlib.pyplot as plt\n",
    "\n",
    "# assume your dataframe column with outliers is named 'column_with_outliers'\n",
    "outliers = df['SEATS_AVAILABLE'][(df['SEATS_AVAILABLE'] > upper_bound) | (df['SEATS_AVAILABLE'] < lower_bound)]\n",
    "\n",
    "# plot a histogram of the column values\n",
    "plt.hist(df['SEATS_AVAILABLE'], bins=30)\n",
    "\n",
    "# plot red circles around the outliers\n",
    "plt.plot(outliers, [0]*len(outliers), 'ro', markersize=10)\n",
    "\n",
    "# add labels and title\n",
    "plt.xlabel('Column values')\n",
    "plt.ylabel('Frequency')\n",
    "plt.title('Outliers in Column_with_outliers')\n",
    "\n",
    "# show the plot\n",
    "plt.show()"
   ]
  },
  {
   "cell_type": "code",
   "execution_count": 169,
   "id": "d6212694",
   "metadata": {},
   "outputs": [
    {
     "data": {
      "text/plain": [
       "array([-99, -77, -72, -70, -66, -65, -60, -55, -46, -45, -41, -38, -37,\n",
       "       -35, -32, -31, -30, -29, -28, -27, -26, -25, -24, -23, -22, -21,\n",
       "       -20, -19, -18, -17, -16, -15, -14, -13, -12, -11, -10,  -9,  -8,\n",
       "        -7,  -6,  -5,  -4,  -3,  -2,  -1,  41,  42,  43,  44,  45,  46,\n",
       "        47,  48,  49,  50,  51,  52,  53,  54,  55,  56,  57,  58,  59,\n",
       "        60,  61,  62,  63,  64,  65,  66,  67,  68,  69,  70,  71,  72,\n",
       "        73,  75,  76,  77,  79,  80,  83,  89,  90,  97, 113, 116, 120,\n",
       "       126, 134, 140, 151, 155, 160, 167, 169, 171, 172, 174, 175, 177,\n",
       "       178, 179, 180], dtype=int64)"
      ]
     },
     "execution_count": 169,
     "metadata": {},
     "output_type": "execute_result"
    }
   ],
   "source": [
    "unique_values = df[(df['SEATS_AVAILABLE'] < 0) | (df['SEATS_AVAILABLE'] > 40)]['SEATS_AVAILABLE'].unique()\n",
    "unique_values.sort()\n",
    "unique_values"
   ]
  },
  {
   "cell_type": "code",
   "execution_count": 170,
   "id": "b615aaf6",
   "metadata": {},
   "outputs": [],
   "source": [
    "df.loc[df['SEATS_AVAILABLE'] < 0, 'SEATS_AVAILABLE'] = 0"
   ]
  },
  {
   "cell_type": "code",
   "execution_count": 171,
   "id": "520c9d53",
   "metadata": {},
   "outputs": [],
   "source": [
    "# df.loc[df['SEATS_AVAILABLE'] == 30, 'SEATS_AVAILABLE'] = 10\n",
    "# df.loc[df['SEATS_AVAILABLE'] == 29, 'SEATS_AVAILABLE'] = 10\n",
    "# df.loc[df['SEATS_AVAILABLE'] == 28, 'SEATS_AVAILABLE'] = 10\n",
    "# df.loc[df['SEATS_AVAILABLE'] == 25, 'SEATS_AVAILABLE'] = 10\n",
    "# df.loc[df['SEATS_AVAILABLE'] == 20, 'SEATS_AVAILABLE'] = 10"
   ]
  },
  {
   "cell_type": "markdown",
   "id": "8c9678ba",
   "metadata": {},
   "source": [
    "# Encoding"
   ]
  },
  {
   "cell_type": "code",
   "execution_count": 172,
   "id": "f00b90ab",
   "metadata": {},
   "outputs": [],
   "source": [
    "import pandas as pd\n",
    "\n",
    "from sklearn.preprocessing import LabelEncoder\n",
    "le = LabelEncoder()"
   ]
  },
  {
   "cell_type": "code",
   "execution_count": 173,
   "id": "21c2a09e",
   "metadata": {},
   "outputs": [
    {
     "data": {
      "text/html": [
       "<div>\n",
       "<style scoped>\n",
       "    .dataframe tbody tr th:only-of-type {\n",
       "        vertical-align: middle;\n",
       "    }\n",
       "\n",
       "    .dataframe tbody tr th {\n",
       "        vertical-align: top;\n",
       "    }\n",
       "\n",
       "    .dataframe thead th {\n",
       "        text-align: right;\n",
       "    }\n",
       "</style>\n",
       "<table border=\"1\" class=\"dataframe\">\n",
       "  <thead>\n",
       "    <tr style=\"text-align: right;\">\n",
       "      <th></th>\n",
       "      <th>COURSE_CODE</th>\n",
       "      <th>COURSE_NAME</th>\n",
       "      <th>SECTION_NUMBER</th>\n",
       "      <th>UNITS</th>\n",
       "      <th>CLASS_TYPE</th>\n",
       "      <th>SEATS_AVAILABLE</th>\n",
       "      <th>MEETING_DAYS</th>\n",
       "      <th>CLASS_HOURS</th>\n",
       "      <th>INSTRUCTOR</th>\n",
       "      <th>YEAR</th>\n",
       "      <th>SEMESTER</th>\n",
       "    </tr>\n",
       "  </thead>\n",
       "  <tbody>\n",
       "    <tr>\n",
       "      <th>0</th>\n",
       "      <td>CMPE 30</td>\n",
       "      <td>PROGRAMMING CONCEPT &amp; METH</td>\n",
       "      <td>1</td>\n",
       "      <td>3</td>\n",
       "      <td>LEC</td>\n",
       "      <td>2</td>\n",
       "      <td>MW</td>\n",
       "      <td>1100-1150</td>\n",
       "      <td>H OZEMEK</td>\n",
       "      <td>2013</td>\n",
       "      <td>SPRING</td>\n",
       "    </tr>\n",
       "    <tr>\n",
       "      <th>1</th>\n",
       "      <td>CMPE 30</td>\n",
       "      <td>PROGRAMMING CONCEPT &amp; METH</td>\n",
       "      <td>2</td>\n",
       "      <td>0</td>\n",
       "      <td>LAB</td>\n",
       "      <td>1</td>\n",
       "      <td>R</td>\n",
       "      <td>1730-2020</td>\n",
       "      <td>P KANG</td>\n",
       "      <td>2013</td>\n",
       "      <td>SPRING</td>\n",
       "    </tr>\n",
       "    <tr>\n",
       "      <th>2</th>\n",
       "      <td>CMPE 30</td>\n",
       "      <td>PROGRAMMING CONCEPT &amp; METH</td>\n",
       "      <td>3</td>\n",
       "      <td>0</td>\n",
       "      <td>LAB</td>\n",
       "      <td>1</td>\n",
       "      <td>W</td>\n",
       "      <td>1730-2020</td>\n",
       "      <td>C ABBOUD</td>\n",
       "      <td>2013</td>\n",
       "      <td>SPRING</td>\n",
       "    </tr>\n",
       "    <tr>\n",
       "      <th>3</th>\n",
       "      <td>CMPE 46</td>\n",
       "      <td>COMPE I</td>\n",
       "      <td>1</td>\n",
       "      <td>3</td>\n",
       "      <td>SEM</td>\n",
       "      <td>1</td>\n",
       "      <td>TR</td>\n",
       "      <td>1030-1120</td>\n",
       "      <td>F LIN</td>\n",
       "      <td>2013</td>\n",
       "      <td>SPRING</td>\n",
       "    </tr>\n",
       "    <tr>\n",
       "      <th>4</th>\n",
       "      <td>CMPE 46</td>\n",
       "      <td>COMPE I</td>\n",
       "      <td>2</td>\n",
       "      <td>0</td>\n",
       "      <td>LAB</td>\n",
       "      <td>1</td>\n",
       "      <td>T</td>\n",
       "      <td>1330-1620</td>\n",
       "      <td>F LIN</td>\n",
       "      <td>2013</td>\n",
       "      <td>SPRING</td>\n",
       "    </tr>\n",
       "  </tbody>\n",
       "</table>\n",
       "</div>"
      ],
      "text/plain": [
       "  COURSE_CODE                      COURSE_NAME  SECTION_NUMBER  UNITS  \\\n",
       "0     CMPE 30  PROGRAMMING CONCEPT & METH                    1      3   \n",
       "1     CMPE 30  PROGRAMMING CONCEPT & METH                    2      0   \n",
       "2     CMPE 30  PROGRAMMING CONCEPT & METH                    3      0   \n",
       "3     CMPE 46                   COMPE I                      1      3   \n",
       "4     CMPE 46                   COMPE I                      2      0   \n",
       "\n",
       "  CLASS_TYPE  SEATS_AVAILABLE MEETING_DAYS CLASS_HOURS INSTRUCTOR  YEAR  \\\n",
       "0        LEC                2           MW   1100-1150   H OZEMEK  2013   \n",
       "1        LAB                1            R   1730-2020     P KANG  2013   \n",
       "2        LAB                1            W   1730-2020   C ABBOUD  2013   \n",
       "3        SEM                1           TR   1030-1120      F LIN  2013   \n",
       "4        LAB                1            T   1330-1620      F LIN  2013   \n",
       "\n",
       "  SEMESTER  \n",
       "0   SPRING  \n",
       "1   SPRING  \n",
       "2   SPRING  \n",
       "3   SPRING  \n",
       "4   SPRING  "
      ]
     },
     "execution_count": 173,
     "metadata": {},
     "output_type": "execute_result"
    }
   ],
   "source": [
    "df_copy=df.copy()\n",
    "df_copy.head()"
   ]
  },
  {
   "cell_type": "code",
   "execution_count": 174,
   "id": "34baf8ea",
   "metadata": {},
   "outputs": [],
   "source": [
    "# Label encoding our data\n",
    "df_copy['COURSE_CODE']=le.fit_transform(df_copy['COURSE_CODE'])\n",
    "df_copy['COURSE_NAME']=le.fit_transform(df_copy['COURSE_NAME'])\n",
    "df_copy['CLASS_TYPE']=le.fit_transform(df_copy['CLASS_TYPE'])\n",
    "df_copy['MEETING_DAYS']=le.fit_transform(df_copy['MEETING_DAYS'])\n",
    "df_copy['CLASS_HOURS']=le.fit_transform(df_copy['CLASS_HOURS'])\n",
    "df_copy['SEMESTER']=le.fit_transform(df_copy['SEMESTER'])\n",
    "df_copy['YEAR']=le.fit_transform(df_copy['YEAR'])\n",
    "df_copy['INSTRUCTOR']=le.fit_transform(df_copy['INSTRUCTOR'])"
   ]
  },
  {
   "cell_type": "code",
   "execution_count": 175,
   "id": "365e08aa",
   "metadata": {},
   "outputs": [
    {
     "data": {
      "text/plain": [
       "array([  2,   1,  10,   0,  26,  29,   4,  33,   5,  19,  25,   6,  11,\n",
       "        22,  28,  17,   8,  18,  20,  32,  16,  30,   7,  13,  41,  21,\n",
       "        12,   3,   9,  15,  37,  14,  76,  23,  24,  27,  36,  39,  59,\n",
       "        31,  44,  45,  47,  42,  35,  50,  79,  51,  38,  49,  60,  40,\n",
       "        48,  46,  54,  70,  90,  80,  34,  64,  67,  43,  65,  68,  72,\n",
       "        61,  89,  55,  73,  57,  53,  52,  58, 177, 174,  56,  66, 172,\n",
       "       175,  63, 126, 167,  83, 160, 169, 113, 151, 155,  75, 180, 120,\n",
       "       140, 134, 178,  62,  71, 171,  77,  97, 179,  69, 116], dtype=int64)"
      ]
     },
     "execution_count": 175,
     "metadata": {},
     "output_type": "execute_result"
    }
   ],
   "source": [
    "df_copy.head()\n",
    "df_copy['SEATS_AVAILABLE'].unique()"
   ]
  },
  {
   "cell_type": "code",
   "execution_count": 176,
   "id": "478c77a7",
   "metadata": {},
   "outputs": [],
   "source": [
    "# df_copy.loc[df_copy['SEATS_AVAILABLE'] > 40, 'SEATS_AVAILABLE'] = 10\n",
    "# df_copy.loc[df_copy['SEATS_AVAILABLE'] < 0, 'SEATS_AVAILABLE'] = 0\n",
    "\n",
    "# # Group the data by COURSE_CODE and calculate the max value of SEATS_AVAILABLE for each group\n",
    "# max_seats = df_copy.groupby('COURSE_CODE')['SEATS_AVAILABLE'].max().reset_index()\n",
    "\n",
    "# # Join the max_seats dataframe back to the original dataframe using COURSE_CODE as the key\n",
    "# merged = df_copy.merge(max_seats, on='COURSE_CODE', suffixes=['', '_max'])\n",
    "\n",
    "# # Divide the SEATS_AVAILABLE column by the max value for each group\n",
    "# merged['SEATS_AVAILABLE'] = merged['SEATS_AVAILABLE'] / merged['SEATS_AVAILABLE_max']\n",
    "\n",
    "# merged['SEATS_AVAILABLE_max'].unique()"
   ]
  },
  {
   "cell_type": "code",
   "execution_count": 177,
   "id": "501fd525",
   "metadata": {},
   "outputs": [],
   "source": [
    "# merged['SEATS_AVAILABLE'] = merged['SEATS_AVAILABLE'].fillna(0)\n",
    "# merged['SEATS_AVAILABLE'].unique()"
   ]
  },
  {
   "cell_type": "markdown",
   "id": "52c609a1",
   "metadata": {},
   "source": [
    "# Scaling"
   ]
  },
  {
   "cell_type": "code",
   "execution_count": 178,
   "id": "dc80b04a",
   "metadata": {},
   "outputs": [],
   "source": [
    "#Scaling\n",
    "import pandas as pd\n",
    "from sklearn.preprocessing import LabelEncoder, StandardScaler\n",
    "from sklearn.ensemble import RandomForestClassifier\n",
    "scaler = StandardScaler()"
   ]
  },
  {
   "cell_type": "code",
   "execution_count": 179,
   "id": "9a1e7597",
   "metadata": {},
   "outputs": [],
   "source": [
    "df_scaled = scaler.fit_transform(df_copy)\n",
    "df_scaled = pd.DataFrame(df_scaled, columns=df_copy.columns)"
   ]
  },
  {
   "cell_type": "code",
   "execution_count": 180,
   "id": "7054a729",
   "metadata": {},
   "outputs": [
    {
     "data": {
      "text/html": [
       "<div>\n",
       "<style scoped>\n",
       "    .dataframe tbody tr th:only-of-type {\n",
       "        vertical-align: middle;\n",
       "    }\n",
       "\n",
       "    .dataframe tbody tr th {\n",
       "        vertical-align: top;\n",
       "    }\n",
       "\n",
       "    .dataframe thead th {\n",
       "        text-align: right;\n",
       "    }\n",
       "</style>\n",
       "<table border=\"1\" class=\"dataframe\">\n",
       "  <thead>\n",
       "    <tr style=\"text-align: right;\">\n",
       "      <th></th>\n",
       "      <th>COURSE_CODE</th>\n",
       "      <th>COURSE_NAME</th>\n",
       "      <th>SECTION_NUMBER</th>\n",
       "      <th>UNITS</th>\n",
       "      <th>CLASS_TYPE</th>\n",
       "      <th>SEATS_AVAILABLE</th>\n",
       "      <th>MEETING_DAYS</th>\n",
       "      <th>CLASS_HOURS</th>\n",
       "      <th>INSTRUCTOR</th>\n",
       "      <th>YEAR</th>\n",
       "      <th>SEMESTER</th>\n",
       "      <th>SEATS_UNSCALED</th>\n",
       "    </tr>\n",
       "  </thead>\n",
       "  <tbody>\n",
       "    <tr>\n",
       "      <th>0</th>\n",
       "      <td>-0.542741</td>\n",
       "      <td>1.027485</td>\n",
       "      <td>-0.377062</td>\n",
       "      <td>0.458054</td>\n",
       "      <td>-0.429194</td>\n",
       "      <td>-0.670989</td>\n",
       "      <td>-0.742716</td>\n",
       "      <td>-0.997454</td>\n",
       "      <td>-0.583817</td>\n",
       "      <td>-0.961011</td>\n",
       "      <td>1.048235</td>\n",
       "      <td>2</td>\n",
       "    </tr>\n",
       "    <tr>\n",
       "      <th>1</th>\n",
       "      <td>-0.542741</td>\n",
       "      <td>1.027485</td>\n",
       "      <td>-0.280125</td>\n",
       "      <td>-2.180871</td>\n",
       "      <td>-1.060161</td>\n",
       "      <td>-0.728158</td>\n",
       "      <td>-0.424287</td>\n",
       "      <td>0.729107</td>\n",
       "      <td>0.448771</td>\n",
       "      <td>-0.961011</td>\n",
       "      <td>1.048235</td>\n",
       "      <td>1</td>\n",
       "    </tr>\n",
       "    <tr>\n",
       "      <th>2</th>\n",
       "      <td>-0.542741</td>\n",
       "      <td>1.027485</td>\n",
       "      <td>-0.183189</td>\n",
       "      <td>-2.180871</td>\n",
       "      <td>-1.060161</td>\n",
       "      <td>-0.728158</td>\n",
       "      <td>1.486291</td>\n",
       "      <td>0.729107</td>\n",
       "      <td>-1.219256</td>\n",
       "      <td>-0.961011</td>\n",
       "      <td>1.048235</td>\n",
       "      <td>1</td>\n",
       "    </tr>\n",
       "    <tr>\n",
       "      <th>3</th>\n",
       "      <td>-0.531616</td>\n",
       "      <td>-0.869518</td>\n",
       "      <td>-0.377062</td>\n",
       "      <td>0.458054</td>\n",
       "      <td>0.958934</td>\n",
       "      <td>-0.728158</td>\n",
       "      <td>1.167861</td>\n",
       "      <td>-1.187186</td>\n",
       "      <td>-0.734316</td>\n",
       "      <td>-0.961011</td>\n",
       "      <td>1.048235</td>\n",
       "      <td>1</td>\n",
       "    </tr>\n",
       "    <tr>\n",
       "      <th>4</th>\n",
       "      <td>-0.531616</td>\n",
       "      <td>-0.869518</td>\n",
       "      <td>-0.280125</td>\n",
       "      <td>-2.180871</td>\n",
       "      <td>-1.060161</td>\n",
       "      <td>-0.728158</td>\n",
       "      <td>0.531002</td>\n",
       "      <td>-0.276472</td>\n",
       "      <td>-0.734316</td>\n",
       "      <td>-0.961011</td>\n",
       "      <td>1.048235</td>\n",
       "      <td>1</td>\n",
       "    </tr>\n",
       "  </tbody>\n",
       "</table>\n",
       "</div>"
      ],
      "text/plain": [
       "   COURSE_CODE  COURSE_NAME  SECTION_NUMBER     UNITS  CLASS_TYPE  \\\n",
       "0    -0.542741     1.027485       -0.377062  0.458054   -0.429194   \n",
       "1    -0.542741     1.027485       -0.280125 -2.180871   -1.060161   \n",
       "2    -0.542741     1.027485       -0.183189 -2.180871   -1.060161   \n",
       "3    -0.531616    -0.869518       -0.377062  0.458054    0.958934   \n",
       "4    -0.531616    -0.869518       -0.280125 -2.180871   -1.060161   \n",
       "\n",
       "   SEATS_AVAILABLE  MEETING_DAYS  CLASS_HOURS  INSTRUCTOR      YEAR  SEMESTER  \\\n",
       "0        -0.670989     -0.742716    -0.997454   -0.583817 -0.961011  1.048235   \n",
       "1        -0.728158     -0.424287     0.729107    0.448771 -0.961011  1.048235   \n",
       "2        -0.728158      1.486291     0.729107   -1.219256 -0.961011  1.048235   \n",
       "3        -0.728158      1.167861    -1.187186   -0.734316 -0.961011  1.048235   \n",
       "4        -0.728158      0.531002    -0.276472   -0.734316 -0.961011  1.048235   \n",
       "\n",
       "   SEATS_UNSCALED  \n",
       "0               2  \n",
       "1               1  \n",
       "2               1  \n",
       "3               1  \n",
       "4               1  "
      ]
     },
     "execution_count": 180,
     "metadata": {},
     "output_type": "execute_result"
    }
   ],
   "source": [
    "#Storing scaled values of seats available\n",
    "seats_andscaled = pd.concat([df_scaled, df_copy['SEATS_AVAILABLE']], axis=1)\n",
    "seats_andscaled.head()\n",
    "\n",
    "#Renaming last column\n",
    "# get the old column names\n",
    "old_col_names = seats_andscaled.columns.tolist()\n",
    "\n",
    "# rename the last column only\n",
    "new_col_name = 'SEATS_UNSCALED'\n",
    "old_col_names[-1] = new_col_name\n",
    "\n",
    "# set the new column names\n",
    "seats_andscaled.columns = old_col_names\n",
    "\n",
    "seats_andscaled.head()"
   ]
  },
  {
   "cell_type": "code",
   "execution_count": 181,
   "id": "13cea650",
   "metadata": {},
   "outputs": [
    {
     "data": {
      "text/html": [
       "<div>\n",
       "<style scoped>\n",
       "    .dataframe tbody tr th:only-of-type {\n",
       "        vertical-align: middle;\n",
       "    }\n",
       "\n",
       "    .dataframe tbody tr th {\n",
       "        vertical-align: top;\n",
       "    }\n",
       "\n",
       "    .dataframe thead th {\n",
       "        text-align: right;\n",
       "    }\n",
       "</style>\n",
       "<table border=\"1\" class=\"dataframe\">\n",
       "  <thead>\n",
       "    <tr style=\"text-align: right;\">\n",
       "      <th></th>\n",
       "      <th>COURSE_CODE</th>\n",
       "      <th>COURSE_NAME</th>\n",
       "      <th>SECTION_NUMBER</th>\n",
       "      <th>UNITS</th>\n",
       "      <th>CLASS_TYPE</th>\n",
       "      <th>SEATS_AVAILABLE</th>\n",
       "      <th>MEETING_DAYS</th>\n",
       "      <th>CLASS_HOURS</th>\n",
       "      <th>INSTRUCTOR</th>\n",
       "      <th>YEAR</th>\n",
       "      <th>SEMESTER</th>\n",
       "      <th>SEATS_UNSCALED</th>\n",
       "      <th>SEATS_UNSCALED_max</th>\n",
       "    </tr>\n",
       "  </thead>\n",
       "  <tbody>\n",
       "    <tr>\n",
       "      <th>0</th>\n",
       "      <td>-0.542741</td>\n",
       "      <td>1.027485</td>\n",
       "      <td>-0.377062</td>\n",
       "      <td>0.458054</td>\n",
       "      <td>-0.429194</td>\n",
       "      <td>-0.670989</td>\n",
       "      <td>-0.742716</td>\n",
       "      <td>-0.997454</td>\n",
       "      <td>-0.583817</td>\n",
       "      <td>-0.961011</td>\n",
       "      <td>1.048235</td>\n",
       "      <td>0.333333</td>\n",
       "      <td>6</td>\n",
       "    </tr>\n",
       "    <tr>\n",
       "      <th>1</th>\n",
       "      <td>-0.542741</td>\n",
       "      <td>1.027485</td>\n",
       "      <td>-0.280125</td>\n",
       "      <td>-2.180871</td>\n",
       "      <td>-1.060161</td>\n",
       "      <td>-0.728158</td>\n",
       "      <td>-0.424287</td>\n",
       "      <td>0.729107</td>\n",
       "      <td>0.448771</td>\n",
       "      <td>-0.961011</td>\n",
       "      <td>1.048235</td>\n",
       "      <td>0.166667</td>\n",
       "      <td>6</td>\n",
       "    </tr>\n",
       "    <tr>\n",
       "      <th>2</th>\n",
       "      <td>-0.542741</td>\n",
       "      <td>1.027485</td>\n",
       "      <td>-0.183189</td>\n",
       "      <td>-2.180871</td>\n",
       "      <td>-1.060161</td>\n",
       "      <td>-0.728158</td>\n",
       "      <td>1.486291</td>\n",
       "      <td>0.729107</td>\n",
       "      <td>-1.219256</td>\n",
       "      <td>-0.961011</td>\n",
       "      <td>1.048235</td>\n",
       "      <td>0.166667</td>\n",
       "      <td>6</td>\n",
       "    </tr>\n",
       "    <tr>\n",
       "      <th>3</th>\n",
       "      <td>-0.542741</td>\n",
       "      <td>1.027485</td>\n",
       "      <td>-0.377062</td>\n",
       "      <td>0.458054</td>\n",
       "      <td>-0.429194</td>\n",
       "      <td>-0.785327</td>\n",
       "      <td>-0.742716</td>\n",
       "      <td>-0.997454</td>\n",
       "      <td>-0.583817</td>\n",
       "      <td>-0.961011</td>\n",
       "      <td>-0.953984</td>\n",
       "      <td>0.000000</td>\n",
       "      <td>6</td>\n",
       "    </tr>\n",
       "    <tr>\n",
       "      <th>4</th>\n",
       "      <td>-0.542741</td>\n",
       "      <td>1.027485</td>\n",
       "      <td>-0.280125</td>\n",
       "      <td>-2.180871</td>\n",
       "      <td>-1.060161</td>\n",
       "      <td>-0.785327</td>\n",
       "      <td>-0.424287</td>\n",
       "      <td>0.729107</td>\n",
       "      <td>-1.219256</td>\n",
       "      <td>-0.961011</td>\n",
       "      <td>-0.953984</td>\n",
       "      <td>0.000000</td>\n",
       "      <td>6</td>\n",
       "    </tr>\n",
       "  </tbody>\n",
       "</table>\n",
       "</div>"
      ],
      "text/plain": [
       "   COURSE_CODE  COURSE_NAME  SECTION_NUMBER     UNITS  CLASS_TYPE  \\\n",
       "0    -0.542741     1.027485       -0.377062  0.458054   -0.429194   \n",
       "1    -0.542741     1.027485       -0.280125 -2.180871   -1.060161   \n",
       "2    -0.542741     1.027485       -0.183189 -2.180871   -1.060161   \n",
       "3    -0.542741     1.027485       -0.377062  0.458054   -0.429194   \n",
       "4    -0.542741     1.027485       -0.280125 -2.180871   -1.060161   \n",
       "\n",
       "   SEATS_AVAILABLE  MEETING_DAYS  CLASS_HOURS  INSTRUCTOR      YEAR  SEMESTER  \\\n",
       "0        -0.670989     -0.742716    -0.997454   -0.583817 -0.961011  1.048235   \n",
       "1        -0.728158     -0.424287     0.729107    0.448771 -0.961011  1.048235   \n",
       "2        -0.728158      1.486291     0.729107   -1.219256 -0.961011  1.048235   \n",
       "3        -0.785327     -0.742716    -0.997454   -0.583817 -0.961011 -0.953984   \n",
       "4        -0.785327     -0.424287     0.729107   -1.219256 -0.961011 -0.953984   \n",
       "\n",
       "   SEATS_UNSCALED  SEATS_UNSCALED_max  \n",
       "0        0.333333                   6  \n",
       "1        0.166667                   6  \n",
       "2        0.166667                   6  \n",
       "3        0.000000                   6  \n",
       "4        0.000000                   6  "
      ]
     },
     "execution_count": 181,
     "metadata": {},
     "output_type": "execute_result"
    }
   ],
   "source": [
    "import numpy as np\n",
    "# Group the data by COURSE_CODE and calculate the max value of SEATS_AVAILABLE for each group\n",
    "max_seats = seats_andscaled.groupby('COURSE_CODE')['SEATS_UNSCALED'].max().reset_index()\n",
    "\n",
    "# Join the max_seats dataframe back to the original dataframe using COURSE_CODE as the key\n",
    "seats_prob = seats_andscaled.merge(max_seats, on='COURSE_CODE', suffixes=['', '_max'])\n",
    "\n",
    "# Divide the SEATS_AVAILABLE column by the max value for each group\n",
    "seats_prob['SEATS_UNSCALED'] = seats_prob['SEATS_UNSCALED'] / seats_prob['SEATS_UNSCALED_max']\n",
    "seats_prob['SEATS_UNSCALED'] = seats_prob['SEATS_UNSCALED'].fillna(0)\n",
    "# replace inf and -inf values with 0\n",
    "seats_prob['SEATS_UNSCALED'] = seats_prob['SEATS_UNSCALED'].replace([np.inf, -np.inf], 0)\n",
    "\n",
    "seats_prob.head()"
   ]
  },
  {
   "cell_type": "code",
   "execution_count": 219,
   "id": "c85f2053",
   "metadata": {},
   "outputs": [],
   "source": [
    "seats_prob.to_excel('seats_prob.xlsx', index = False)"
   ]
  },
  {
   "cell_type": "code",
   "execution_count": 182,
   "id": "001881b3",
   "metadata": {},
   "outputs": [
    {
     "name": "stdout",
     "output_type": "stream",
     "text": [
      "{-0.542741155818184: {-0.6709889664324392: 0.3333333333333333, -0.728158228327865: 0.16666666666666666, -0.785327490223291: 0.0, -0.6138197045370133: 0.5, -0.5566504426415875: 0.6666666666666666, -0.4423119188507357: 1.0}, -0.5316157661242393: {-0.728158228327865: 1.0}, -0.5260530712772671: {-0.21363487126903216: 0.4, -0.785327490223291: 0.0, 0.6439040571623561: 1.0, 0.015042176312671369: 0.56, -0.728158228327865: 0.04, 0.18654996199894902: 0.68, -0.27080413316445806: 0.36, -0.32797339505988393: 0.32, -0.6709889664324392: 0.08, -0.6138197045370133: 0.12}, -1.5551516179671472: {0.7010733190577819: 0.52, 0.8725811047440596: 0.58, 0.07221143820809725: 0.3, 0.35805774768522663: 0.4, -0.04212708558275451: 0.26, -0.09929634747818039: 0.24, -0.3851426569553098: 0.14, -0.6709889664324392: 0.04, -0.728158228327865: 0.02, 0.015042176312671369: 0.28, -0.32797339505988393: 0.16, -0.49948118074616155: 0.1, -0.21363487126903216: 0.2, -0.15646560937360626: 0.22, 0.6439040571623561: 0.5, 0.5867347952669302: 0.48, -0.785327490223291: 0.0, -0.27080413316445806: 0.18, -0.5566504426415875: 0.08, 2.0731356045480034: 1.0, -0.4423119188507357: 0.12, -0.6138197045370133: 0.06}, -1.5440262282732025: {-0.5566504426415875: 0.08, -0.785327490223291: 0.0, 0.5867347952669302: 0.48, -0.6709889664324392: 0.04, -0.728158228327865: 0.02, 0.8154118428486337: 0.56, 0.18654996199894902: 0.34, -0.21363487126903216: 0.2, 1.158427414221189: 0.68, 0.015042176312671369: 0.28, 0.5295655333715042: 0.46, -0.6138197045370133: 0.06, -0.49948118074616155: 0.1, -0.4423119188507357: 0.12, -0.3851426569553098: 0.14, -0.15646560937360626: 0.22, 0.07221143820809725: 0.3, 0.12938070010352312: 0.32, 2.0731356045480034: 1.0, 0.6439040571623561: 0.5}, -1.5329008385792577: {1.1012581523257632: 0.66, 0.35805774768522663: 0.4, 0.9297503666394855: 0.6, 0.8725811047440596: 0.58, 1.0440888904303371: 0.64, 0.07221143820809725: 0.3, -0.49948118074616155: 0.1, 0.8154118428486337: 0.56, 0.47239627147607843: 0.44, 1.7872892950708736: 0.9, 0.18654996199894902: 0.34, 0.7010733190577819: 0.52, 0.30088848578980076: 0.38, -0.6709889664324392: 0.04, -0.785327490223291: 0.0, 0.12938070010352312: 0.32, 2.0731356045480034: 1.0, 0.2437192238943749: 0.36, 0.015042176312671369: 0.28}, -1.5217754488853132: {-0.49948118074616155: 0.125, -0.5566504426415875: 0.1, -0.728158228327865: 0.025, -0.785327490223291: 0.0, 0.30088848578980076: 0.475, -0.4423119188507357: 0.15, -0.32797339505988393: 0.2, -0.6709889664324392: 0.05, -0.6138197045370133: 0.075, 0.35805774768522663: 0.5, 0.7010733190577819: 0.65, -0.3851426569553098: 0.175, -0.27080413316445806: 0.225, 1.5014429855937443: 1.0}, -1.5106500591913685: {0.30088848578980076: 0.25333333333333335, 0.12938070010352312: 0.21333333333333335, -0.785327490223291: 0.0, 0.2437192238943749: 0.24, 0.35805774768522663: 0.26666666666666666, -0.728158228327865: 0.013333333333333334, 0.07221143820809725: 0.2, -0.5566504426415875: 0.05333333333333334, -0.15646560937360626: 0.14666666666666667, 0.6439040571623561: 0.3333333333333333, -0.21363487126903216: 0.13333333333333333, -0.32797339505988393: 0.10666666666666667, -0.6138197045370133: 0.04, -0.6709889664324392: 0.02666666666666667, -0.3851426569553098: 0.09333333333333334, 3.50236715193365: 1.0, -0.49948118074616155: 0.06666666666666667}, -1.4995246694974238: {0.6439040571623561: 0.625, -0.728158228327865: 0.025, -0.6709889664324392: 0.05, 1.0440888904303371: 0.8, -0.785327490223291: 0.0, 0.8725811047440596: 0.725, -0.6138197045370133: 0.075, 0.35805774768522663: 0.5, -0.32797339505988393: 0.2, -0.04212708558275451: 0.325, 0.7010733190577819: 0.65, 0.30088848578980076: 0.475, -0.4423119188507357: 0.15, 0.07221143820809725: 0.375, 0.41522700958065256: 0.525, -0.27080413316445806: 0.225, -0.21363487126903216: 0.25, 0.5867347952669302: 0.6, 1.5014429855937443: 1.0, 0.12938070010352312: 0.4}, -1.488399279803479: {-0.4423119188507357: 0.125, 0.07221143820809725: 0.3125, 0.2437192238943749: 0.375, -0.785327490223291: 0.0, -0.728158228327865: 0.020833333333333332, -0.3851426569553098: 0.14583333333333334, -0.5566504426415875: 0.08333333333333333, -0.32797339505988393: 0.16666666666666666, -0.27080413316445806: 0.1875, -0.04212708558275451: 0.2708333333333333, -0.49948118074616155: 0.10416666666666667, -0.6138197045370133: 0.0625, 0.5867347952669302: 0.5, -0.6709889664324392: 0.041666666666666664, 1.9587970807571515: 1.0}, -1.4772738901095346: {-0.15646560937360626: 0.22, 0.18654996199894902: 0.34, -0.32797339505988393: 0.16, -0.6138197045370133: 0.06, 0.35805774768522663: 0.4, 0.30088848578980076: 0.38, -0.728158228327865: 0.02, -0.4423119188507357: 0.12, -0.785327490223291: 0.0, 0.5867347952669302: 0.48, -0.49948118074616155: 0.1, 0.7010733190577819: 0.52, 0.6439040571623561: 0.5, 0.015042176312671369: 0.28, 0.07221143820809725: 0.3, 2.0731356045480034: 1.0, -0.6709889664324392: 0.04}, -1.4661485004155899: {0.47239627147607843: 0.44, -0.785327490223291: 0.0, -0.27080413316445806: 0.18, 0.12938070010352312: 0.32, -0.5566504426415875: 0.08, 1.5014429855937443: 0.8, -0.4423119188507357: 0.12, -0.04212708558275451: 0.26, -0.09929634747818039: 0.24, 0.015042176312671369: 0.28, -0.32797339505988393: 0.16, -0.3851426569553098: 0.14, -0.15646560937360626: 0.22, 0.18654996199894902: 0.34, 0.8725811047440596: 0.58, 0.5295655333715042: 0.46, 0.35805774768522663: 0.4, 1.2155966761166148: 0.7, 0.2437192238943749: 0.36, -0.6709889664324392: 0.04, 0.41522700958065256: 0.42, 2.0731356045480034: 1.0, 0.07221143820809725: 0.3, 0.30088848578980076: 0.38, 0.5867347952669302: 0.48, -0.6138197045370133: 0.06, -0.21363487126903216: 0.2, -0.49948118074616155: 0.1}, -1.4438977210277006: {0.7010733190577819: 0.52, 0.9869196285349113: 0.62, 0.47239627147607843: 0.44, 1.3299351999074667: 0.74, 0.12938070010352312: 0.32, 1.0440888904303371: 0.64, 0.30088848578980076: 0.38, 0.015042176312671369: 0.28, -0.49948118074616155: 0.1, -0.27080413316445806: 0.18, -0.6138197045370133: 0.06, 0.35805774768522663: 0.4, -0.21363487126903216: 0.2, 2.0731356045480034: 1.0, 0.5295655333715042: 0.46, 0.9297503666394855: 0.6, 0.07221143820809725: 0.3, -0.32797339505988393: 0.16}, -1.4216469416398112: {0.8725811047440596: 0.58, 0.30088848578980076: 0.38, 0.5867347952669302: 0.48, 0.7582425809532078: 0.54, 0.35805774768522663: 0.4, -0.3851426569553098: 0.14, 0.7010733190577819: 0.52, -0.49948118074616155: 0.1, -0.04212708558275451: 0.26, 0.2437192238943749: 0.36, 0.015042176312671369: 0.28, -0.6138197045370133: 0.06, 0.6439040571623561: 0.5, -0.21363487126903216: 0.2, 2.0731356045480034: 1.0, 0.07221143820809725: 0.3, 0.41522700958065256: 0.42}, -1.4105215519458667: {0.8154118428486337: 0.56, -0.49948118074616155: 0.1, 0.5867347952669302: 0.48, 0.47239627147607843: 0.44, -0.785327490223291: 0.0, 0.7582425809532078: 0.54, 0.015042176312671369: 0.28, -0.09929634747818039: 0.24, -0.27080413316445806: 0.18, -0.728158228327865: 0.02, -0.5566504426415875: 0.08, -0.21363487126903216: 0.2, 2.0731356045480034: 1.0, -0.32797339505988393: 0.16, -0.6709889664324392: 0.04, -0.3851426569553098: 0.14}, -1.3938334674049497: {-0.21363487126903216: 0.13333333333333333, -0.27080413316445806: 0.12, -0.5566504426415875: 0.05333333333333334, 0.35805774768522663: 0.26666666666666666, 0.015042176312671369: 0.18666666666666668, -0.4423119188507357: 0.08, -0.09929634747818039: 0.16, -0.785327490223291: 0.0, -0.04212708558275451: 0.17333333333333334, -0.3851426569553098: 0.09333333333333334, -0.49948118074616155: 0.06666666666666667, -0.728158228327865: 0.013333333333333334, -0.32797339505988393: 0.10666666666666667, -0.6709889664324392: 0.02666666666666667, -0.6138197045370133: 0.04, 3.50236715193365: 1.0, 0.6439040571623561: 0.3333333333333333, 0.2437192238943749: 0.24}, -1.382708077711005: {-0.785327490223291: 0.0, -0.04212708558275451: 0.26, 1.3871044618028925: 0.76, -0.5566504426415875: 0.08, -0.27080413316445806: 0.18, 0.07221143820809725: 0.3, 1.2727659380120409: 0.72, 0.2437192238943749: 0.36, -0.49948118074616155: 0.1, 0.41522700958065256: 0.42, 0.8154118428486337: 0.56, -0.6709889664324392: 0.04, -0.4423119188507357: 0.12, 0.6439040571623561: 0.5, 2.0731356045480034: 1.0, -0.3851426569553098: 0.14}, -1.3715826880170603: {0.18654996199894902: 0.3541666666666667, -0.09929634747818039: 0.25, 0.015042176312671369: 0.2916666666666667, -0.04212708558275451: 0.2708333333333333, 0.30088848578980076: 0.3958333333333333, -0.3851426569553098: 0.14583333333333334, -0.785327490223291: 0.0, -0.27080413316445806: 0.1875, -0.21363487126903216: 0.20833333333333334, 0.6439040571623561: 0.5208333333333334, -0.6138197045370133: 0.0625, 0.07221143820809725: 0.3125, -0.5566504426415875: 0.08333333333333333, -0.728158228327865: 0.020833333333333332, 0.9297503666394855: 0.625, 1.9587970807571515: 1.0, 0.5867347952669302: 0.5, -0.49948118074616155: 0.10416666666666667, -0.4423119188507357: 0.125}, -1.3604572983231158: {-0.32797339505988393: 0.13333333333333333, 0.07221143820809725: 0.25, -0.15646560937360626: 0.18333333333333332, -0.5566504426415875: 0.06666666666666667, -0.3851426569553098: 0.11666666666666667, -0.4423119188507357: 0.1, -0.785327490223291: 0.0, 0.2437192238943749: 0.3, 0.47239627147607843: 0.36666666666666664, -0.21363487126903216: 0.16666666666666666, -0.6709889664324392: 0.03333333333333333, 2.644828223502262: 1.0, 0.12938070010352312: 0.26666666666666666, -0.04212708558275451: 0.21666666666666667, -0.09929634747818039: 0.2}, -1.3382065189352264: {0.2437192238943749: 0.3, 0.8154118428486337: 0.4666666666666667, -0.785327490223291: 0.0, 1.0440888904303371: 0.5333333333333333, -0.15646560937360626: 0.18333333333333332, 0.12938070010352312: 0.26666666666666666, -0.49948118074616155: 0.08333333333333333, -0.728158228327865: 0.016666666666666666, -0.6138197045370133: 0.05, -0.6709889664324392: 0.03333333333333333, 2.644828223502262: 1.0, 2.0731356045480034: 0.8333333333333334}, -1.293704960159448: {0.35805774768522663: 0.37037037037037035, 0.47239627147607843: 0.4074074074074074, -0.32797339505988393: 0.14814814814814814, 1.0440888904303371: 0.5925925925925926, 0.8725811047440596: 0.5370370370370371, 1.9016278188617257: 0.8703703703703703, 0.6439040571623561: 0.46296296296296297, -0.785327490223291: 0.0, 0.9297503666394855: 0.5555555555555556, 1.9587970807571515: 0.8888888888888888, 0.7582425809532078: 0.5, 1.8444585569662997: 0.8518518518518519, 2.3018126521297066: 1.0, -0.15646560937360626: 0.2037037037037037, -0.5566504426415875: 0.07407407407407407, 2.0731356045480034: 0.9259259259259259, 1.615781509384596: 0.7777777777777778, 0.2437192238943749: 0.3333333333333333, 0.07221143820809725: 0.2777777777777778, 1.672950771280022: 0.7962962962962963, -0.09929634747818039: 0.2222222222222222, -0.4423119188507357: 0.1111111111111111, -0.49948118074616155: 0.09259259259259259, 0.12938070010352312: 0.2962962962962963, -0.6709889664324392: 0.037037037037037035, -0.04212708558275451: 0.24074074074074073, -0.27080413316445806: 0.16666666666666666, 0.8154118428486337: 0.5185185185185185, -0.6138197045370133: 0.05555555555555555, -0.728158228327865: 0.018518518518518517, 0.5867347952669302: 0.4444444444444444, 0.5295655333715042: 0.42592592592592593, 1.2727659380120409: 0.6666666666666666, -0.21363487126903216: 0.18518518518518517, 0.18654996199894902: 0.3148148148148148, 0.015042176312671369: 0.25925925925925924, -0.3851426569553098: 0.12962962962962962, 0.9869196285349113: 0.5740740740740741, 1.1012581523257632: 0.6111111111111112}, -1.2213899271488076: {-0.21363487126903216: 0.14285714285714285, 0.015042176312671369: 0.2, 0.12938070010352312: 0.22857142857142856, 0.8154118428486337: 0.4, 2.130304866443429: 0.7285714285714285, -0.3851426569553098: 0.1, 0.07221143820809725: 0.21428571428571427, 0.8725811047440596: 0.4142857142857143, 0.41522700958065256: 0.3, -0.785327490223291: 0.0, 1.3299351999074667: 0.5285714285714286, 3.216520842456521: 1.0, 0.7582425809532078: 0.38571428571428573}, -1.1935764529139459: {0.12938070010352312: 0.22857142857142856, 0.07221143820809725: 0.21428571428571427, -0.49948118074616155: 0.07142857142857142, -0.27080413316445806: 0.12857142857142856, -0.785327490223291: 0.0, 1.2727659380120409: 0.5142857142857142, 0.47239627147607843: 0.3142857142857143, -0.04212708558275451: 0.18571428571428572, -0.6709889664324392: 0.02857142857142857, -0.21363487126903216: 0.14285714285714285, 1.3299351999074667: 0.5285714285714286, -0.09929634747818039: 0.17142857142857143, 1.5586122474891702: 0.5857142857142857, 3.216520842456521: 1.0, 0.35805774768522663: 0.2857142857142857, 0.2437192238943749: 0.2571428571428571, 0.18654996199894902: 0.24285714285714285, 0.6439040571623561: 0.35714285714285715, 1.0440888904303371: 0.45714285714285713}, -1.1379495044442227: {0.9297503666394855: 1.0, -0.04212708558275451: 0.43333333333333335}, -1.1323868095972505: {-0.785327490223291: 0.0, 1.9016278188617257: 0.734375, 0.5867347952669302: 0.375, 2.8735052710839657: 1.0, 1.2155966761166148: 0.546875, 1.0440888904303371: 0.5, 1.5014429855937443: 0.625, 1.2727659380120409: 0.5625, 0.9869196285349113: 0.484375, 1.3871044618028925: 0.59375, 1.1012581523257632: 0.515625, 1.4442737236983183: 0.609375, 2.358981914025133: 0.859375, 2.644828223502262: 0.9375, 1.3299351999074667: 0.578125, 0.6439040571623561: 0.390625, 1.158427414221189: 0.53125}, -1.1212614199033057: {0.9297503666394855: 0.6, 1.7872892950708736: 0.9, -0.09929634747818039: 0.24, -0.785327490223291: 0.0, 0.30088848578980076: 0.38, 1.5586122474891702: 0.82, -0.6138197045370133: 0.06, -0.21363487126903216: 0.2, -0.728158228327865: 0.02, -0.3851426569553098: 0.14, 0.35805774768522663: 0.4, -0.15646560937360626: 0.22, -0.5566504426415875: 0.08, 2.0731356045480034: 1.0, -0.6709889664324392: 0.04, 0.2437192238943749: 0.36, 0.12938070010352312: 0.32, 0.07221143820809725: 0.3, 0.41522700958065256: 0.42, 0.6439040571623561: 0.5}, -1.110136030209361: {-0.3851426569553098: 0.09859154929577464, -0.04212708558275451: 0.18309859154929578, -0.15646560937360626: 0.15492957746478872, -0.49948118074616155: 0.07042253521126761, 0.7582425809532078: 0.38028169014084506, -0.785327490223291: 0.0, 0.7010733190577819: 0.36619718309859156, 0.5867347952669302: 0.3380281690140845, 1.4442737236983183: 0.5492957746478874, -0.4423119188507357: 0.08450704225352113, 0.47239627147607843: 0.30985915492957744, 0.07221143820809725: 0.2112676056338028, -0.728158228327865: 0.014084507042253521, -0.27080413316445806: 0.1267605633802817, -0.09929634747818039: 0.16901408450704225, -0.6138197045370133: 0.04225352112676056, 0.9297503666394855: 0.4225352112676056, 0.6439040571623561: 0.352112676056338, 0.2437192238943749: 0.2535211267605634, -0.5566504426415875: 0.056338028169014086, 2.0731356045480034: 0.704225352112676, 2.644828223502262: 0.8450704225352113, 3.273690104351947: 1.0, 1.2727659380120409: 0.5070422535211268, 1.8444585569662997: 0.647887323943662, -0.21363487126903216: 0.14084507042253522}, -1.0990106405154165: {-0.785327490223291: 0.0, -0.49948118074616155: 0.08333333333333333, -0.3851426569553098: 0.11666666666666667, 0.015042176312671369: 0.23333333333333334, 1.615781509384596: 0.7, -0.6138197045370133: 0.05, -0.27080413316445806: 0.15, 1.0440888904303371: 0.5333333333333333, 2.644828223502262: 1.0, 1.7301200331754478: 0.7333333333333333, 1.7872892950708736: 0.75, -0.5566504426415875: 0.06666666666666667, 1.2155966761166148: 0.5833333333333334, 0.07221143820809725: 0.25, -0.15646560937360626: 0.18333333333333332, -0.32797339505988393: 0.13333333333333333, 0.5867347952669302: 0.4}, -1.093447945668444: {0.30088848578980076: 0.3275862068965517, -0.32797339505988393: 0.13793103448275862, -0.5566504426415875: 0.06896551724137931, -0.6709889664324392: 0.034482758620689655, 0.12938070010352312: 0.27586206896551724, -0.785327490223291: 0.0, 0.015042176312671369: 0.2413793103448276, -0.6138197045370133: 0.05172413793103448, -0.728158228327865: 0.017241379310344827, 1.3299351999074667: 0.6379310344827587, 2.5304896997114104: 1.0, 2.244643390234281: 0.9137931034482759, 2.0731356045480034: 0.8620689655172413, -0.3851426569553098: 0.1206896551724138, 0.18654996199894902: 0.29310344827586204, 0.41522700958065256: 0.3620689655172414}, -1.0823225559744996: {-0.3851426569553098: 0.12962962962962962, 0.12938070010352312: 0.2962962962962963, -0.4423119188507357: 0.1111111111111111, -0.49948118074616155: 0.09259259259259259, -0.785327490223291: 0.0, 0.6439040571623561: 0.46296296296296297, 0.30088848578980076: 0.35185185185185186, -0.21363487126903216: 0.18518518518518517, -0.27080413316445806: 0.16666666666666666, 0.8154118428486337: 0.5185185185185185, -0.32797339505988393: 0.14814814814814814, 0.5295655333715042: 0.42592592592592593, 2.0731356045480034: 0.9259259259259259, 1.4442737236983183: 0.7222222222222222, -0.5566504426415875: 0.07407407407407407, 1.2727659380120409: 0.6666666666666666, 2.3018126521297066: 1.0}, -1.0711971662805548: {0.18654996199894902: 0.24285714285714285, 0.8154118428486337: 0.4, -0.3851426569553098: 0.1, 0.47239627147607843: 0.3142857142857143, -0.785327490223291: 0.0, -0.49948118074616155: 0.07142857142857142, 0.5867347952669302: 0.34285714285714286, 2.5304896997114104: 0.8285714285714286, 1.9016278188617257: 0.6714285714285714, 3.216520842456521: 1.0, 2.244643390234281: 0.7571428571428571, 2.0731356045480034: 0.7142857142857143, -0.09929634747818039: 0.17142857142857143, -0.5566504426415875: 0.05714285714285714}, -1.0600717765866101: {1.5586122474891702: 0.6307692307692307, 0.18654996199894902: 0.26153846153846155, 1.8444585569662997: 0.7076923076923077, 1.4442737236983183: 0.6, 1.7872892950708736: 0.6923076923076923, 1.2155966761166148: 0.5384615384615384, -0.4423119188507357: 0.09230769230769231, 0.8154118428486337: 0.4307692307692308, 1.1012581523257632: 0.5076923076923077, 0.2437192238943749: 0.27692307692307694, 2.130304866443429: 0.7846153846153846, 2.187474128338855: 0.8, 0.8725811047440596: 0.4461538461538462, -0.27080413316445806: 0.13846153846153847, 2.9306745329793915: 1.0, 2.358981914025133: 0.8461538461538461, 1.9016278188617257: 0.7230769230769231, 1.3299351999074667: 0.5692307692307692, 2.0731356045480034: 0.7692307692307693, 1.7301200331754478: 0.676923076923077, 1.5014429855937443: 0.6153846153846154, 1.615781509384596: 0.6461538461538462}, -0.9988821332699146: {0.18654996199894902: 0.34, 1.0440888904303371: 0.64, 0.6439040571623561: 0.5, -0.785327490223291: 0.0, 0.30088848578980076: 0.38, 0.47239627147607843: 0.44, -0.6709889664324392: 0.04, -0.09929634747818039: 0.24, -0.04212708558275451: 0.26, 0.2437192238943749: 0.36, 2.0731356045480034: 1.0, 1.8444585569662997: 0.92, -0.728158228327865: 0.02, 0.35805774768522663: 0.4, 0.5295655333715042: 0.46, -0.3851426569553098: 0.14}, -0.971068659035053: {-0.728158228327865: 0.02040816326530612, -0.4423119188507357: 0.12244897959183673, -0.785327490223291: 0.0, -0.6138197045370133: 0.061224489795918366, 0.35805774768522663: 0.40816326530612246, -0.49948118074616155: 0.10204081632653061, -0.6709889664324392: 0.04081632653061224, 2.0159663426525776: 1.0}, -0.9655059641880807: {0.12938070010352312: 0.35555555555555557, 1.2727659380120409: 0.8, 0.47239627147607843: 0.4888888888888889, -0.728158228327865: 0.022222222222222223, -0.3851426569553098: 0.15555555555555556, 1.7872892950708736: 1.0, 0.07221143820809725: 0.3333333333333333, -0.785327490223291: 0.0, -0.6709889664324392: 0.044444444444444446, -0.04212708558275451: 0.28888888888888886, 0.9297503666394855: 0.6666666666666666, -0.6138197045370133: 0.06666666666666667, 0.35805774768522663: 0.4444444444444444, 0.18654996199894902: 0.37777777777777777, -0.32797339505988393: 0.17777777777777778, -0.49948118074616155: 0.1111111111111111, 1.5014429855937443: 0.8888888888888888, -0.15646560937360626: 0.24444444444444444, 0.7010733190577819: 0.5777777777777777, -0.5566504426415875: 0.08888888888888889}, -0.954380574494136: {0.47239627147607843: 0.4888888888888889, 0.12938070010352312: 0.35555555555555557, -0.09929634747818039: 0.26666666666666666, 0.9869196285349113: 0.6888888888888889, -0.4423119188507357: 0.13333333333333333, 0.7010733190577819: 0.5777777777777777, -0.15646560937360626: 0.24444444444444444, 0.8725811047440596: 0.6444444444444445, 1.7872892950708736: 1.0, -0.04212708558275451: 0.28888888888888886}, -0.9321297951062467: {0.2437192238943749: 0.6666666666666666, -0.785327490223291: 0.0, 0.7582425809532078: 1.0, 0.5295655333715042: 0.8518518518518519, -0.6138197045370133: 0.1111111111111111, 0.7010733190577819: 0.9629629629629629}, -0.8375639827077173: {0.41522700958065256: 0.525, 0.30088848578980076: 0.475, 0.07221143820809725: 0.375, -0.15646560937360626: 0.275, 1.5014429855937443: 1.0}, -0.8153132033198279: {-0.785327490223291: 0.0, -0.3851426569553098: 0.07777777777777778, 1.2155966761166148: 0.3888888888888889, -0.4423119188507357: 0.06666666666666667, -0.49948118074616155: 0.05555555555555555, 3.7882134614107796: 0.8888888888888888, -0.09929634747818039: 0.13333333333333333, -0.6709889664324392: 0.022222222222222223, -0.32797339505988393: 0.08888888888888889, -0.5566504426415875: 0.044444444444444446, 2.4733204378159845: 0.6333333333333333, -0.6138197045370133: 0.03333333333333333, 1.7301200331754478: 0.4888888888888889, 0.35805774768522663: 0.2222222222222222, 4.359906080365039: 1.0, -0.15646560937360626: 0.12222222222222222, -0.27080413316445806: 0.1}, -0.8041878136258832: {-0.09929634747818039: 0.13333333333333333, -0.785327490223291: 0.0, -0.6709889664324392: 0.022222222222222223, 0.9297503666394855: 0.3333333333333333, -0.728158228327865: 0.011111111111111112, 0.8154118428486337: 0.3111111111111111, -0.15646560937360626: 0.12222222222222222, -0.32797339505988393: 0.08888888888888889, -0.49948118074616155: 0.05555555555555555, 0.5867347952669302: 0.26666666666666666, -0.3851426569553098: 0.07777777777777778, -0.4423119188507357: 0.06666666666666667, 0.07221143820809725: 0.16666666666666666, -0.21363487126903216: 0.1111111111111111, 1.2727659380120409: 0.4, 0.30088848578980076: 0.2111111111111111, 1.3871044618028925: 0.4222222222222222, 4.359906080365039: 1.0, 2.644828223502262: 0.6666666666666666, 1.158427414221189: 0.37777777777777777, 3.731044199515354: 0.8777777777777778}, -0.781937034237994: {0.12938070010352312: 0.32, -0.728158228327865: 0.02, 0.18654996199894902: 0.34, 2.0731356045480034: 1.0, -0.785327490223291: 0.0, 0.5867347952669302: 0.48, -0.6709889664324392: 0.04, 0.6439040571623561: 0.5, 0.30088848578980076: 0.38, -0.04212708558275451: 0.26, -0.21363487126903216: 0.2, -0.6138197045370133: 0.06, -0.4423119188507357: 0.12, 1.7301200331754478: 0.88, 0.47239627147607843: 0.44, 0.35805774768522663: 0.4, 0.5295655333715042: 0.46, 1.672950771280022: 0.86, 1.5586122474891702: 0.82, 1.5014429855937443: 0.8}, -0.765248949697077: {-0.785327490223291: 0.0, -0.5566504426415875: 0.05, 0.18654996199894902: 0.2125, 3.7882134614107796: 1.0, -0.27080413316445806: 0.1125, 0.35805774768522663: 0.25, 0.8154118428486337: 0.35, 0.2437192238943749: 0.225, -0.3851426569553098: 0.0875, -0.04212708558275451: 0.1625, -0.15646560937360626: 0.1375, 2.644828223502262: 0.75, -0.728158228327865: 0.0125, 0.47239627147607843: 0.275, -0.49948118074616155: 0.0625, 2.130304866443429: 0.6375, 0.07221143820809725: 0.1875, 1.8444585569662997: 0.575}, -0.7318727806152431: {-0.6138197045370133: 0.05, 0.18654996199894902: 0.2833333333333333, -0.21363487126903216: 0.16666666666666666, -0.785327490223291: 0.0, 0.015042176312671369: 0.23333333333333334, -0.49948118074616155: 0.08333333333333333, -0.3851426569553098: 0.11666666666666667, 1.8444585569662997: 0.7666666666666667, 0.8725811047440596: 0.48333333333333334, 1.0440888904303371: 0.5333333333333333, 0.7010733190577819: 0.43333333333333335, 1.7872892950708736: 0.75, 2.644828223502262: 1.0, 1.615781509384596: 0.7, 0.41522700958065256: 0.35, 1.4442737236983183: 0.65, -0.09929634747818039: 0.2}, -0.7151846960743261: {-0.6138197045370133: 0.06, -0.04212708558275451: 0.26, 0.18654996199894902: 0.34, -0.728158228327865: 0.02, -0.21363487126903216: 0.2, 1.8444585569662997: 0.92, -0.785327490223291: 0.0, 0.5867347952669302: 0.48, 1.5014429855937443: 0.8, 0.7582425809532078: 0.54, -0.5566504426415875: 0.08, -0.09929634747818039: 0.24, -0.15646560937360626: 0.22, 0.5295655333715042: 0.46, 1.5586122474891702: 0.82, -0.49948118074616155: 0.1, 2.0731356045480034: 1.0, 0.07221143820809725: 0.3, 0.9869196285349113: 0.62}, -0.6984966115334091: {-0.32797339505988393: 0.13333333333333333, -0.3851426569553098: 0.11666666666666667, 0.41522700958065256: 0.35, -0.785327490223291: 0.0, 0.07221143820809725: 0.25, 0.6439040571623561: 0.4166666666666667, 1.5014429855937443: 0.6666666666666666, 0.35805774768522663: 0.3333333333333333, -0.09929634747818039: 0.2, -0.49948118074616155: 0.08333333333333333, 2.644828223502262: 1.0, 0.12938070010352312: 0.26666666666666666, -0.728158228327865: 0.016666666666666666, -0.15646560937360626: 0.18333333333333332}, -0.6818085269924922: {-0.3851426569553098: 0.11666666666666667, -0.15646560937360626: 0.18333333333333332, -0.728158228327865: 0.016666666666666666, -0.785327490223291: 0.0, 0.41522700958065256: 0.35, 0.015042176312671369: 0.23333333333333334, -0.49948118074616155: 0.08333333333333333, -0.5566504426415875: 0.06666666666666667, 0.9869196285349113: 0.5166666666666667, 1.5014429855937443: 0.6666666666666666, 0.47239627147607843: 0.36666666666666664, -0.6138197045370133: 0.05, 2.644828223502262: 1.0, 0.6439040571623561: 0.4166666666666667}, -0.6706831372985474: {-0.6138197045370133: 0.1, -0.785327490223291: 0.0, -0.6709889664324392: 0.06666666666666667, -0.27080413316445806: 0.3, 0.6439040571623561: 0.8333333333333334, -0.5566504426415875: 0.13333333333333333, -0.04212708558275451: 0.43333333333333335, 0.12938070010352312: 0.5333333333333333, -0.728158228327865: 0.03333333333333333, -0.49948118074616155: 0.16666666666666666, 0.9297503666394855: 1.0, -0.3851426569553098: 0.23333333333333334, -0.4423119188507357: 0.2}, -0.6595577476046028: {-0.785327490223291: 0.0, -0.6709889664324392: 0.06666666666666667, -0.6138197045370133: 0.1, -0.5566504426415875: 0.13333333333333333, -0.15646560937360626: 0.36666666666666664, -0.27080413316445806: 0.3, -0.21363487126903216: 0.3333333333333333, -0.728158228327865: 0.03333333333333333, 0.07221143820809725: 0.5, -0.49948118074616155: 0.16666666666666666, -0.3851426569553098: 0.23333333333333334, -0.4423119188507357: 0.2, -0.32797339505988393: 0.26666666666666666, 0.015042176312671369: 0.4666666666666667, 0.47239627147607843: 0.7333333333333333, 0.9297503666394855: 1.0, 0.2437192238943749: 0.6, 0.30088848578980076: 0.6333333333333333, 0.35805774768522663: 0.6666666666666666, -0.04212708558275451: 0.43333333333333335}, -0.6428696630636859: {-0.785327490223291: 0.0, -0.728158228327865: 0.03333333333333333, -0.6709889664324392: 0.06666666666666667, -0.09929634747818039: 0.4, 0.015042176312671369: 0.4666666666666667, 0.07221143820809725: 0.5, -0.04212708558275451: 0.43333333333333335, -0.21363487126903216: 0.3333333333333333, -0.6138197045370133: 0.1, -0.4423119188507357: 0.2, -0.5566504426415875: 0.13333333333333333, -0.27080413316445806: 0.3, -0.32797339505988393: 0.26666666666666666, -0.3851426569553098: 0.23333333333333334, -0.49948118074616155: 0.16666666666666666, -0.15646560937360626: 0.36666666666666664, 0.8154118428486337: 0.9333333333333333, 0.9297503666394855: 1.0, 0.2437192238943749: 0.6, 0.8725811047440596: 0.9666666666666667, 0.7582425809532078: 0.9, 0.5295655333715042: 0.7666666666666667, 0.41522700958065256: 0.7, 0.6439040571623561: 0.8333333333333334, 0.35805774768522663: 0.6666666666666666, 0.30088848578980076: 0.6333333333333333, 0.18654996199894902: 0.5666666666666667, 0.47239627147607843: 0.7333333333333333, 0.5867347952669302: 0.8}, -0.6039307991348796: {-0.728158228327865: 0.022222222222222223, -0.6709889664324392: 0.044444444444444446, 1.7872892950708736: 1.0, 1.615781509384596: 0.9333333333333333, 0.9297503666394855: 0.6666666666666666, -0.09929634747818039: 0.26666666666666666, 0.35805774768522663: 0.4444444444444444, 1.5586122474891702: 0.9111111111111111, 1.7301200331754478: 0.9777777777777777, -0.785327490223291: 0.0, 0.015042176312671369: 0.3111111111111111, 0.8725811047440596: 0.6444444444444445, 0.12938070010352312: 0.35555555555555557, -0.04212708558275451: 0.28888888888888886}, -0.592805409440935: {-0.6138197045370133: 0.061224489795918366, -0.785327490223291: 0.0, -0.728158228327865: 0.02040816326530612, -0.27080413316445806: 0.1836734693877551, 0.07221143820809725: 0.30612244897959184, -0.32797339505988393: 0.16326530612244897, -0.21363487126903216: 0.20408163265306123, 1.7872892950708736: 0.9183673469387755, 2.0159663426525776: 1.0, 1.5014429855937443: 0.8163265306122449, 0.8725811047440596: 0.5918367346938775, 1.7301200331754478: 0.8979591836734694, -0.5566504426415875: 0.08163265306122448, 0.35805774768522663: 0.40816326530612246, 0.18654996199894902: 0.3469387755102041, 0.5867347952669302: 0.4897959183673469, 0.6439040571623561: 0.5102040816326531, -0.6709889664324392: 0.04081632653061224, -0.4423119188507357: 0.12244897959183673, -0.04212708558275451: 0.2653061224489796, -0.3851426569553098: 0.14285714285714285, -0.49948118074616155: 0.10204081632653061, -0.09929634747818039: 0.24489795918367346}, -0.576117324900018: {-0.27080413316445806: 0.6, -0.3851426569553098: 0.4666666666666667, -0.32797339505988393: 0.5333333333333333, 0.015042176312671369: 0.9333333333333333, -0.21363487126903216: 0.6666666666666666, -0.09929634747818039: 0.8, -0.04212708558275451: 0.8666666666666667, -0.15646560937360626: 0.7333333333333333, 0.07221143820809725: 1.0}, -0.559429240359101: {-0.32797339505988393: 0.8, -0.27080413316445806: 0.9, -0.21363487126903216: 1.0, -0.4423119188507357: 0.6, -0.3851426569553098: 0.7, -0.6138197045370133: 0.3}, -0.4815515125014884: {-0.32797339505988393: 0.044444444444444446, -0.6138197045370133: 0.016666666666666666, -0.785327490223291: 0.0, -0.15646560937360626: 0.06111111111111111, -0.3851426569553098: 0.03888888888888889, -0.728158228327865: 0.005555555555555556, -0.5566504426415875: 0.022222222222222223, 0.015042176312671369: 0.07777777777777778, 1.2727659380120409: 0.2, -0.6709889664324392: 0.011111111111111112, 2.8735052710839657: 0.35555555555555557, -0.49948118074616155: 0.027777777777777776, -0.4423119188507357: 0.03333333333333333, 1.1012581523257632: 0.18333333333333332, 0.18654996199894902: 0.09444444444444444, 1.0440888904303371: 0.17777777777777778, -0.27080413316445806: 0.05, 9.505139650953367: 1.0, 0.9297503666394855: 0.16666666666666666, 0.41522700958065256: 0.11666666666666667, -0.21363487126903216: 0.05555555555555555}, -0.4704261228075438: {-0.21363487126903216: 0.05555555555555555, -0.5566504426415875: 0.022222222222222223, -0.6138197045370133: 0.016666666666666666, -0.27080413316445806: 0.05, -0.785327490223291: 0.0, -0.32797339505988393: 0.044444444444444446, -0.49948118074616155: 0.027777777777777776, -0.728158228327865: 0.005555555555555556, -0.6709889664324392: 0.011111111111111112, 1.3299351999074667: 0.20555555555555555, -0.3851426569553098: 0.03888888888888889, 2.9306745329793915: 0.3611111111111111, -0.4423119188507357: 0.03333333333333333, 9.505139650953367: 1.0, 0.9297503666394855: 0.16666666666666666, 0.30088848578980076: 0.10555555555555556, 0.07221143820809725: 0.08333333333333333}, 0.38066618877922187: {-0.785327490223291: 0.0, -0.6138197045370133: 0.25, -0.09929634747818039: 1.0}, -0.45930073311359915: {-0.785327490223291: 0.0, -0.728158228327865: 0.03333333333333333, -0.15646560937360626: 0.36666666666666664, -0.3851426569553098: 0.23333333333333334, -0.4423119188507357: 0.2, 0.18654996199894902: 0.5666666666666667, -0.21363487126903216: 0.3333333333333333, -0.6138197045370133: 0.1, 0.9297503666394855: 1.0, -0.5566504426415875: 0.13333333333333333, -0.49948118074616155: 0.16666666666666666, 0.2437192238943749: 0.6}, -0.4537380382666268: {-0.6138197045370133: 0.1, -0.09929634747818039: 0.4, -0.785327490223291: 0.0, 0.015042176312671369: 0.4666666666666667, -0.5566504426415875: 0.13333333333333333, -0.6709889664324392: 0.06666666666666667, -0.49948118074616155: 0.16666666666666666, 0.9297503666394855: 1.0, -0.728158228327865: 0.03333333333333333, -0.4423119188507357: 0.2, 0.07221143820809725: 0.5, -0.04212708558275451: 0.43333333333333335}, -0.4314872588787375: {-0.785327490223291: 0.0, -0.728158228327865: 0.04, -0.6709889664324392: 0.08, -0.49948118074616155: 0.2, -0.27080413316445806: 0.36, -0.3851426569553098: 0.28, 0.6439040571623561: 1.0}, -0.39254839494993127: {-0.4423119188507357: 0.2, 0.18654996199894902: 0.5666666666666667, -0.3851426569553098: 0.23333333333333334, -0.04212708558275451: 0.43333333333333335, 0.30088848578980076: 0.6333333333333333, 0.2437192238943749: 0.6, 0.9297503666394855: 1.0, 0.015042176312671369: 0.4666666666666667}, -0.3814230052559866: {0.07221143820809725: 0.8333333333333334, -0.09929634747818039: 0.6666666666666666, 0.2437192238943749: 1.0, 0.12938070010352312: 0.8888888888888888, -0.04212708558275451: 0.7222222222222222}, -0.37586031040901424: {-0.6709889664324392: 0.06666666666666667, -0.785327490223291: 0.0, 0.9297503666394855: 1.0, -0.27080413316445806: 0.3}, -0.35360953102112497: {0.41522700958065256: 0.7, 0.015042176312671369: 0.4666666666666667, 0.18654996199894902: 0.5666666666666667, 0.2437192238943749: 0.6, -0.04212708558275451: 0.43333333333333335, 0.9297503666394855: 1.0}, -0.3424841413271803: {-0.785327490223291: 0.0}, -0.32579605678626333: {-0.4423119188507357: 0.08, -0.785327490223291: 0.0, 0.2437192238943749: 0.24, -0.27080413316445806: 0.12, -0.728158228327865: 0.013333333333333334, -0.6138197045370133: 0.04, 3.50236715193365: 1.0, -0.6709889664324392: 0.02666666666666667}, -0.3146706670923187: {1.3299351999074667: 1.0, 0.6439040571623561: 0.6756756756756757, 0.5295655333715042: 0.6216216216216216, 0.47239627147607843: 0.5945945945945946, 0.5867347952669302: 0.6486486486486487, 0.9869196285349113: 0.8378378378378378, 0.41522700958065256: 0.5675675675675675}, -0.28129449801048473: {-0.5566504426415875: 0.05333333333333334, -0.785327490223291: 0.0, -0.49948118074616155: 0.06666666666666667, -0.3851426569553098: 0.09333333333333334, -0.6138197045370133: 0.04, -0.32797339505988393: 0.10666666666666667, -0.728158228327865: 0.013333333333333334, -0.6709889664324392: 0.02666666666666667, -0.27080413316445806: 0.12, -0.4423119188507357: 0.08, 0.7010733190577819: 0.3466666666666667, -0.04212708558275451: 0.17333333333333334, 0.9297503666394855: 0.4, 3.50236715193365: 1.0, -0.21363487126903216: 0.13333333333333333}, -0.2701691083165401: {-0.728158228327865: 0.013333333333333334, -0.6709889664324392: 0.02666666666666667, -0.785327490223291: 0.0, -0.5566504426415875: 0.05333333333333334, 0.12938070010352312: 0.21333333333333335, -0.27080413316445806: 0.12, -0.04212708558275451: 0.17333333333333334, -0.6138197045370133: 0.04, 0.41522700958065256: 0.28, 3.50236715193365: 1.0, -0.32797339505988393: 0.10666666666666667}, -0.25904371862259545: {-0.785327490223291: 0.0, -0.27080413316445806: 0.075, -0.21363487126903216: 0.08333333333333333, -0.6138197045370133: 0.025, -0.728158228327865: 0.008333333333333333, -0.6709889664324392: 0.016666666666666666, 0.9869196285349113: 0.25833333333333336, -0.4423119188507357: 0.05, -0.3851426569553098: 0.058333333333333334, 1.7301200331754478: 0.36666666666666664, -0.32797339505988393: 0.06666666666666667, -0.5566504426415875: 0.03333333333333333, 3.50236715193365: 0.625, 6.074983937227815: 1.0, 0.12938070010352312: 0.13333333333333333, -0.15646560937360626: 0.09166666666666666, -0.04212708558275451: 0.10833333333333334, -0.49948118074616155: 0.041666666666666664}, -0.2479183289286508: {-0.785327490223291: 0.0, -0.728158228327865: 0.03333333333333333, -0.15646560937360626: 0.36666666666666664, -0.49948118074616155: 0.16666666666666666, -0.4423119188507357: 0.2, -0.3851426569553098: 0.23333333333333334, -0.6138197045370133: 0.1, 0.18654996199894902: 0.5666666666666667, -0.6709889664324392: 0.06666666666666667, -0.09929634747818039: 0.4, -0.21363487126903216: 0.3333333333333333, 0.9297503666394855: 1.0}, -0.23679293923470615: {-0.785327490223291: 0.0, -0.728158228327865: 0.03333333333333333, 0.07221143820809725: 0.5, -0.6709889664324392: 0.06666666666666667, -0.32797339505988393: 0.26666666666666666, 0.015042176312671369: 0.4666666666666667, -0.15646560937360626: 0.36666666666666664, -0.6138197045370133: 0.1, -0.21363487126903216: 0.3333333333333333, -0.27080413316445806: 0.3, 0.9297503666394855: 1.0, -0.49948118074616155: 0.16666666666666666}, -0.21454215984681685: {-0.785327490223291: 0.0, -0.6138197045370133: 0.1, -0.4423119188507357: 0.2, -0.728158228327865: 0.03333333333333333, -0.21363487126903216: 0.3333333333333333, 0.9297503666394855: 1.0, -0.49948118074616155: 0.16666666666666666, -0.6709889664324392: 0.06666666666666667, 0.07221143820809725: 0.5, 0.41522700958065256: 0.7}, -0.2034167701528722: {-0.49948118074616155: 0.45454545454545453, -0.785327490223291: 0.0, -0.15646560937360626: 1.0, -0.4423119188507357: 0.5454545454545454, -0.6138197045370133: 0.2727272727272727}, -0.17004060107103824: {-0.5566504426415875: 0.13333333333333333, -0.49948118074616155: 0.16666666666666666, -0.15646560937360626: 0.36666666666666664, -0.6138197045370133: 0.1, -0.04212708558275451: 0.43333333333333335, 0.015042176312671369: 0.4666666666666667, -0.728158228327865: 0.03333333333333333, -0.6709889664324392: 0.06666666666666667, -0.785327490223291: 0.0, 0.47239627147607843: 0.7333333333333333, -0.3851426569553098: 0.23333333333333334, 0.9297503666394855: 1.0, -0.27080413316445806: 0.3}, -0.14778982168314897: {-0.785327490223291: 0.0, -0.49948118074616155: 0.16666666666666666, -0.4423119188507357: 0.2, 0.41522700958065256: 0.7, -0.728158228327865: 0.03333333333333333, -0.6138197045370133: 0.1, 0.18654996199894902: 0.5666666666666667, 0.9297503666394855: 1.0, -0.6709889664324392: 0.06666666666666667, -0.27080413316445806: 0.3}, -0.12553904229525967: {-0.04212708558275451: 0.43333333333333335, -0.49948118074616155: 0.16666666666666666, -0.3851426569553098: 0.23333333333333334, -0.27080413316445806: 0.3, -0.785327490223291: 0.0, -0.728158228327865: 0.03333333333333333, 0.9297503666394855: 1.0, -0.6709889664324392: 0.06666666666666667, -0.4423119188507357: 0.2}, -0.11441365260131502: {-0.785327490223291: 0.0, -0.728158228327865: 0.03333333333333333, -0.27080413316445806: 0.3, -0.49948118074616155: 0.16666666666666666, -0.4423119188507357: 0.2, -0.5566504426415875: 0.13333333333333333, 0.12938070010352312: 0.5333333333333333, 0.18654996199894902: 0.5666666666666667, -0.6709889664324392: 0.06666666666666667, -0.15646560937360626: 0.36666666666666664, 0.30088848578980076: 0.6333333333333333, -0.3851426569553098: 0.23333333333333334, 0.2437192238943749: 0.6, 0.9297503666394855: 1.0, -0.21363487126903216: 0.3333333333333333, -0.6138197045370133: 0.1, -0.32797339505988393: 0.26666666666666666, -0.09929634747818039: 0.4}, -0.09216287321342571: {-0.785327490223291: 0.0, -0.728158228327865: 0.005555555555555556, -0.4423119188507357: 0.03333333333333333, -0.3851426569553098: 0.03888888888888889, -0.15646560937360626: 0.06111111111111111, 0.07221143820809725: 0.08333333333333333, -0.6709889664324392: 0.011111111111111112, -0.6138197045370133: 0.016666666666666666, -0.32797339505988393: 0.044444444444444446, -0.04212708558275451: 0.07222222222222222, 0.12938070010352312: 0.08888888888888889, 0.9297503666394855: 0.16666666666666666, 9.505139650953367: 1.0, -0.5566504426415875: 0.022222222222222223, 0.2437192238943749: 0.1, -0.49948118074616155: 0.027777777777777776}, -0.08103748351948106: {-0.21363487126903216: 1.0, -0.32797339505988393: 0.8, -0.5566504426415875: 0.4}, -0.008722450508840842: {-0.5566504426415875: 1.0, -0.6138197045370133: 0.75, -0.6709889664324392: 0.5}, -0.0031597556618685177: {0.30088848578980076: 0.7307692307692307, -0.785327490223291: 0.0, -0.5566504426415875: 0.15384615384615385, -0.6138197045370133: 0.11538461538461539, 0.7010733190577819: 1.0}, 0.002402939185103807: {-0.32797339505988393: 0.26666666666666666, -0.21363487126903216: 0.3333333333333333, -0.785327490223291: 0.0, -0.5566504426415875: 0.13333333333333333, -0.3851426569553098: 0.23333333333333334, -0.728158228327865: 0.03333333333333333, -0.09929634747818039: 0.4, -0.15646560937360626: 0.36666666666666664, -0.49948118074616155: 0.16666666666666666, 0.5295655333715042: 0.7666666666666667, 0.9297503666394855: 1.0, 0.6439040571623561: 0.8333333333333334, 0.07221143820809725: 0.5, -0.4423119188507357: 0.2, -0.6138197045370133: 0.1, 0.18654996199894902: 0.5666666666666667, 0.47239627147607843: 0.7333333333333333, 0.015042176312671369: 0.4666666666666667, -0.27080413316445806: 0.3}, 0.035779108266937754: {-0.728158228327865: 0.05, -0.6709889664324392: 0.1, -0.6138197045370133: 0.15, -0.785327490223291: 0.0, 0.07221143820809725: 0.75, 0.18654996199894902: 0.85, -0.5566504426415875: 0.2, 0.35805774768522663: 1.0}, 0.06359258250179937: {0.015042176312671369: 1.0, -0.728158228327865: 0.07142857142857142, -0.15646560937360626: 0.7857142857142857, -0.3851426569553098: 0.5, -0.5566504426415875: 0.2857142857142857, -0.785327490223291: 0.0}, 0.14147031035941193: {-0.6709889664324392: 0.18181818181818182, -0.4423119188507357: 0.5454545454545454, -0.3851426569553098: 0.6363636363636364, -0.6138197045370133: 0.2727272727272727, -0.785327490223291: 0.0, -0.15646560937360626: 1.0}, 0.16928378459427354: {-0.3851426569553098: 0.35, -0.785327490223291: 0.0, -0.728158228327865: 0.05, -0.6709889664324392: 0.1, -0.49948118074616155: 0.25, 0.35805774768522663: 1.0}, 0.19153456398216284: {-0.785327490223291: 0.0, -0.728158228327865: 0.05, 0.07221143820809725: 0.75, -0.09929634747818039: 0.6, 0.18654996199894902: 0.85, -0.15646560937360626: 0.55, 0.35805774768522663: 1.0, -0.3851426569553098: 0.35}, 0.20265995367610748: {-0.32797339505988393: 1.0, -0.785327490223291: 0.0, -0.49948118074616155: 0.625, -0.3851426569553098: 0.875, -0.6709889664324392: 0.25, -0.5566504426415875: 0.5}, 0.23047342791096911: {-0.21363487126903216: 0.5, -0.6709889664324392: 0.1, -0.785327490223291: 0.0, -0.5566504426415875: 0.2, -0.728158228327865: 0.05, -0.3851426569553098: 0.35, -0.32797339505988393: 0.4, -0.6138197045370133: 0.15, -0.4423119188507357: 0.3, -0.27080413316445806: 0.45, 0.35805774768522663: 1.0}, 0.2527242072988584: {-0.32797339505988393: 0.4, -0.728158228327865: 0.05, -0.785327490223291: 0.0, -0.5566504426415875: 0.2, -0.3851426569553098: 0.35, -0.4423119188507357: 0.3, -0.09929634747818039: 0.6, 0.30088848578980076: 0.95, 0.35805774768522663: 1.0, -0.49948118074616155: 0.25}, 0.29166307122766466: {-0.728158228327865: 0.08333333333333333, -0.5566504426415875: 0.3333333333333333, -0.32797339505988393: 0.6666666666666666, -0.6709889664324392: 0.16666666666666666, -0.785327490223291: 0.0, -0.3851426569553098: 0.5833333333333334, -0.09929634747818039: 1.0}, 0.313913850615554: {-0.3851426569553098: 0.35, -0.09929634747818039: 0.6, 0.30088848578980076: 0.95, -0.27080413316445806: 0.45, -0.15646560937360626: 0.55, -0.728158228327865: 0.05, 0.18654996199894902: 0.85, -0.785327490223291: 0.0, -0.32797339505988393: 0.4, -0.4423119188507357: 0.3, 0.015042176312671369: 0.7, 0.35805774768522663: 1.0}, 1.3986393457751574: {-0.6709889664324392: 0.2, -0.785327490223291: 0.0, -0.49948118074616155: 0.5, -0.6138197045370133: 0.3, -0.5566504426415875: 0.4, -0.21363487126903216: 1.0}, 1.4097647354691019: {0.12938070010352312: 0.22857142857142856, -0.785327490223291: 0.0, -0.4423119188507357: 0.08571428571428572, -0.49948118074616155: 0.07142857142857142, -0.6138197045370133: 0.04285714285714286, -0.32797339505988393: 0.11428571428571428, 3.216520842456521: 1.0, -0.728158228327865: 0.014285714285714285, -0.6709889664324392: 0.02857142857142857, -0.5566504426415875: 0.05714285714285714}, 0.44185583209591744: {-0.27080413316445806: 0.06716417910447761, 3.731044199515354: 0.5895522388059702, -0.785327490223291: 0.0, 2.587658961606836: 0.44029850746268656, 3.7882134614107796: 0.5970149253731343, -0.6138197045370133: 0.022388059701492536, -0.3851426569553098: 0.05223880597014925, 0.35805774768522663: 0.14925373134328357, 0.18654996199894902: 0.12686567164179105, 1.2155966761166148: 0.26119402985074625, 6.875353603763777: 1.0, 1.1012581523257632: 0.2462686567164179, 4.76009091363302: 0.7238805970149254}, 0.44741852694288975: {-0.785327490223291: 0.0, -0.6138197045370133: 0.0375, -0.49948118074616155: 0.0625, -0.3851426569553098: 0.0875, -0.728158228327865: 0.0125, 0.12938070010352312: 0.2, 0.8154118428486337: 0.35, 0.2437192238943749: 0.225, 0.18654996199894902: 0.2125, 0.8725811047440596: 0.3625, 3.7882134614107796: 1.0, -0.21363487126903216: 0.125, -0.32797339505988393: 0.1}, 0.4585439166368344: {0.35805774768522663: 0.5714285714285714, 0.07221143820809725: 0.42857142857142855, -0.785327490223291: 0.0, 1.2155966761166148: 1.0}, 0.4696693063307791: {3.5595364138290764: 0.49032258064516127, 0.2437192238943749: 0.11612903225806452, 0.35805774768522663: 0.12903225806451613, 3.731044199515354: 0.5096774193548387, 0.30088848578980076: 0.12258064516129032, 3.045013056770243: 0.432258064516129, 3.102182318665669: 0.43870967741935485, 2.358981914025133: 0.3548387096774194, 0.015042176312671369: 0.09032258064516129, -0.04212708558275451: 0.08387096774193549, 0.07221143820809725: 0.0967741935483871, 2.187474128338855: 0.33548387096774196, -0.15646560937360626: 0.07096774193548387, -0.785327490223291: 0.0, 0.18654996199894902: 0.10967741935483871, 6.41799950860037: 0.8129032258064516, 0.12938070010352312: 0.1032258064516129, 3.9597212470970575: 0.535483870967742, 8.075908103567722: 1.0, 7.218369175136332: 0.9032258064516129, 2.9306745329793915: 0.41935483870967744, 2.81633600918854: 0.4064516129032258, 2.244643390234281: 0.3419354838709677, 2.0731356045480034: 0.3225806451612903}, 0.48079469602472374: {-0.5566504426415875: 0.044444444444444446, -0.785327490223291: 0.0, -0.3851426569553098: 0.07777777777777778, 0.7582425809532078: 0.3, 0.12938070010352312: 0.17777777777777778, 2.244643390234281: 0.5888888888888889, -0.32797339505988393: 0.08888888888888889, 1.7872892950708736: 0.5, 4.359906080365039: 1.0, 0.30088848578980076: 0.2111111111111111, -0.04212708558275451: 0.14444444444444443}, 0.503045475412613: {-0.785327490223291: 0.0, -0.6709889664324392: 0.038461538461538464, 0.5295655333715042: 0.4423076923076923, 0.41522700958065256: 0.40384615384615385, -0.04212708558275451: 0.25, 2.187474128338855: 1.0, -0.4423119188507357: 0.11538461538461539, 0.12938070010352312: 0.3076923076923077, 1.7872892950708736: 0.8653846153846154, -0.21363487126903216: 0.19230769230769232, -0.6138197045370133: 0.057692307692307696, 0.8725811047440596: 0.5576923076923077}, 0.5141708651065576: {-0.785327490223291: 0.0, -0.3851426569553098: 0.1076923076923077, -0.6709889664324392: 0.03076923076923077, -0.728158228327865: 0.015384615384615385, -0.04212708558275451: 0.2, -0.5566504426415875: 0.06153846153846154, -0.27080413316445806: 0.13846153846153847, 1.5014429855937443: 0.6153846153846154, 0.12938070010352312: 0.24615384615384617, -0.32797339505988393: 0.12307692307692308, -0.4423119188507357: 0.09230769230769231, 0.7010733190577819: 0.4, -0.6138197045370133: 0.046153846153846156, -0.49948118074616155: 0.07692307692307693, 2.9306745329793915: 1.0, 0.35805774768522663: 0.3076923076923077}, 0.5252962548005023: {-0.785327490223291: 0.0, -0.4423119188507357: 0.15, -0.728158228327865: 0.025, -0.5566504426415875: 0.1, -0.27080413316445806: 0.225, -0.32797339505988393: 0.2, -0.04212708558275451: 0.325, -0.15646560937360626: 0.275, -0.6709889664324392: 0.05, -0.6138197045370133: 0.075, -0.49948118074616155: 0.125, 0.7582425809532078: 0.675, 0.41522700958065256: 0.525, 0.07221143820809725: 0.375, 0.18654996199894902: 0.425, 1.5014429855937443: 1.0, 0.35805774768522663: 0.5}, 0.536421644494447: {-0.4423119188507357: 0.075, -0.5566504426415875: 0.05, -0.785327490223291: 0.0, -0.6138197045370133: 0.0375, -0.21363487126903216: 0.125, -0.27080413316445806: 0.1125, -0.6709889664324392: 0.025, 0.07221143820809725: 0.1875, -0.09929634747818039: 0.15, -0.3851426569553098: 0.0875, 0.30088848578980076: 0.2375, -0.728158228327865: 0.0125, 0.41522700958065256: 0.2625, -0.49948118074616155: 0.0625, 0.18654996199894902: 0.2125, -0.15646560937360626: 0.1375, 3.7882134614107796: 1.0, 0.35805774768522663: 0.25, 0.015042176312671369: 0.175, -0.32797339505988393: 0.1, -0.04212708558275451: 0.1625}, 0.5475470341883916: {-0.785327490223291: 0.0, -0.6709889664324392: 0.03076923076923077, -0.27080413316445806: 0.13846153846153847, -0.49948118074616155: 0.07692307692307693, -0.5566504426415875: 0.06153846153846154, -0.09929634747818039: 0.18461538461538463, 0.015042176312671369: 0.2153846153846154, -0.6138197045370133: 0.046153846153846156, -0.32797339505988393: 0.12307692307692308, -0.728158228327865: 0.015384615384615385, -0.21363487126903216: 0.15384615384615385, -0.4423119188507357: 0.09230769230769231, 2.9306745329793915: 1.0, 0.35805774768522663: 0.3076923076923077, -0.3851426569553098: 0.1076923076923077}, 0.5642351187293085: {-0.728158228327865: 0.025, -0.27080413316445806: 0.225, -0.785327490223291: 0.0, -0.15646560937360626: 0.275, 0.07221143820809725: 0.375, -0.6709889664324392: 0.05, 0.12938070010352312: 0.4, 1.5014429855937443: 1.0, -0.32797339505988393: 0.2}, 0.5753605084232533: {-0.6709889664324392: 0.025, -0.27080413316445806: 0.1125, -0.785327490223291: 0.0, -0.09929634747818039: 0.15, 0.18654996199894902: 0.2125, 0.07221143820809725: 0.1875, 0.47239627147607843: 0.275, 0.5295655333715042: 0.2875, 0.6439040571623561: 0.3125, 3.7882134614107796: 1.0, -0.3851426569553098: 0.0875, -0.32797339505988393: 0.1}, 0.5864858981171979: {-0.21363487126903216: 0.25, -0.3851426569553098: 0.175, -0.6138197045370133: 0.075, -0.09929634747818039: 0.3, 0.5295655333715042: 0.575, -0.15646560937360626: 0.275, -0.32797339505988393: 0.2, -0.4423119188507357: 0.15, -0.27080413316445806: 0.225, 0.07221143820809725: 0.375, -0.04212708558275451: 0.325, 1.2727659380120409: 0.9, 0.2437192238943749: 0.45, 1.5014429855937443: 1.0, 0.35805774768522663: 0.5, 0.015042176312671369: 0.35}, 0.6087366775050872: {-0.785327490223291: 0.0, -0.4423119188507357: 0.09230769230769231, -0.27080413316445806: 0.13846153846153847, 1.158427414221189: 0.5230769230769231, 2.9306745329793915: 1.0}, 0.6198620671990318: {-0.04212708558275451: 0.28888888888888886, 0.2437192238943749: 0.4, 0.30088848578980076: 0.4222222222222222, 0.015042176312671369: 0.3111111111111111, 0.5867347952669302: 0.5333333333333333, 1.7872892950708736: 1.0, -0.09929634747818039: 0.26666666666666666, -0.3851426569553098: 0.15555555555555556, 0.9869196285349113: 0.6888888888888889}, 0.6309874568929765: {0.6439040571623561: 0.7142857142857143, 0.18654996199894902: 0.4857142857142857, -0.09929634747818039: 0.34285714285714286, 0.41522700958065256: 0.6, -0.785327490223291: 0.0, -0.728158228327865: 0.02857142857142857, 1.2155966761166148: 1.0, 0.015042176312671369: 0.4, -0.6138197045370133: 0.08571428571428572}, 0.6421128465869211: {-0.6709889664324392: 0.05714285714285714, -0.15646560937360626: 0.3142857142857143, -0.21363487126903216: 0.2857142857142857, -0.6138197045370133: 0.08571428571428572, 0.015042176312671369: 0.4, -0.4423119188507357: 0.17142857142857143, -0.728158228327865: 0.02857142857142857, 0.47239627147607843: 0.6285714285714286, 1.2155966761166148: 1.0, -0.785327490223291: 0.0, 0.35805774768522663: 0.5714285714285714, 0.18654996199894902: 0.4857142857142857, -0.09929634747818039: 0.34285714285714286}, 0.6532382362808657: {-0.6138197045370133: 0.0375, -0.785327490223291: 0.0, -0.04212708558275451: 0.1625, -0.21363487126903216: 0.125, 0.30088848578980076: 0.2375, 0.015042176312671369: 0.175, 0.6439040571623561: 0.3125, 3.7882134614107796: 1.0, 0.12938070010352312: 0.2, -0.09929634747818039: 0.15}, 0.6866144053626997: {0.07221143820809725: 0.42857142857142855, 0.30088848578980076: 0.5428571428571428, 0.5295655333715042: 0.6571428571428571, -0.5566504426415875: 0.11428571428571428, -0.09929634747818039: 0.34285714285714286, 1.2155966761166148: 1.0, -0.785327490223291: 0.0}, 0.7033024899036167: {0.18654996199894902: 0.7727272727272727, -0.15646560937360626: 0.5, 0.47239627147607843: 1.0, 0.015042176312671369: 0.6363636363636364, -0.32797339505988393: 0.36363636363636365, -0.27080413316445806: 0.4090909090909091}, 0.7199905744445336: {0.5295655333715042: 1.0, 0.35805774768522663: 0.8695652173913043, 0.12938070010352312: 0.6956521739130435, 0.07221143820809725: 0.6521739130434783, 0.30088848578980076: 0.8260869565217391, -0.04212708558275451: 0.5652173913043478}, 0.7644921332203123: {-0.27080413316445806: 0.16363636363636364, 0.35805774768522663: 0.36363636363636365, -0.6709889664324392: 0.03636363636363636, -0.785327490223291: 0.0, -0.4423119188507357: 0.10909090909090909, -0.09929634747818039: 0.21818181818181817, 0.8725811047440596: 0.5272727272727272, 1.2727659380120409: 0.6545454545454545, 0.30088848578980076: 0.34545454545454546, 2.358981914025133: 1.0, -0.3851426569553098: 0.12727272727272726, -0.6138197045370133: 0.05454545454545454}, 0.7756175229142569: {-0.49948118074616155: 0.25, -0.6138197045370133: 0.15, -0.21363487126903216: 0.5, -0.27080413316445806: 0.45, 0.2437192238943749: 0.9, 0.35805774768522663: 1.0, 0.30088848578980076: 0.95, -0.32797339505988393: 0.4, -0.5566504426415875: 0.2}, 0.8089936919960908: {0.9297503666394855: 1.0, 0.35805774768522663: 0.6666666666666666}, 0.8145563868430632: {0.8725811047440596: 0.9666666666666667, 0.9297503666394855: 1.0, -0.785327490223291: 0.0, 0.07221143820809725: 0.5}, 0.8201190816900356: {-0.785327490223291: 0.0, -0.6709889664324392: 0.1, -0.21363487126903216: 0.5, -0.3851426569553098: 0.35, -0.27080413316445806: 0.45, 0.18654996199894902: 0.85, -0.49948118074616155: 0.25, 0.07221143820809725: 0.75, -0.6138197045370133: 0.15, 0.12938070010352312: 0.8, -0.728158228327865: 0.05, -0.5566504426415875: 0.2, -0.4423119188507357: 0.3, 0.35805774768522663: 1.0}, 0.8312444713839802: {-0.785327490223291: 0.0, -0.3851426569553098: 0.35, -0.5566504426415875: 0.2, -0.6709889664324392: 0.1, 0.18654996199894902: 0.85, 0.12938070010352312: 0.8, -0.27080413316445806: 0.45, 0.35805774768522663: 1.0, 0.30088848578980076: 0.95, 0.07221143820809725: 0.75, 0.015042176312671369: 0.7, -0.32797339505988393: 0.4, -0.15646560937360626: 0.55}, 0.8423698610779248: {0.6439040571623561: 0.38461538461538464, 2.130304866443429: 0.7846153846153846, -0.09929634747818039: 0.18461538461538463, 1.7872892950708736: 0.6923076923076923, 0.07221143820809725: 0.23076923076923078, 0.5867347952669302: 0.36923076923076925, 0.9297503666394855: 0.46153846153846156, 2.0159663426525776: 0.7538461538461538, 0.7010733190577819: 0.4, 1.672950771280022: 0.6615384615384615, 0.5295655333715042: 0.35384615384615387, 2.9306745329793915: 1.0, 1.5014429855937443: 0.6153846153846154, 1.0440888904303371: 0.49230769230769234, 2.0731356045480034: 0.7692307692307693, 2.358981914025133: 0.8461538461538461, -0.3851426569553098: 0.1076923076923077, 1.1012581523257632: 0.5076923076923077, 0.30088848578980076: 0.2923076923076923, 1.3871044618028925: 0.5846153846153846, 1.5586122474891702: 0.6307692307692307, 0.41522700958065256: 0.3230769230769231}, 0.8534952507718695: {-0.09929634747818039: 0.18461538461538463, 0.07221143820809725: 0.23076923076923078, -0.785327490223291: 0.0, 0.2437192238943749: 0.27692307692307694, 0.35805774768522663: 0.3076923076923077, -0.728158228327865: 0.015384615384615385, 0.9869196285349113: 0.47692307692307695, -0.3851426569553098: 0.1076923076923077, 1.0440888904303371: 0.49230769230769234, 0.12938070010352312: 0.24615384615384617, -0.49948118074616155: 0.07692307692307693, 1.3871044618028925: 0.5846153846153846, 1.615781509384596: 0.6461538461538462, -0.5566504426415875: 0.06153846153846154, -0.15646560937360626: 0.16923076923076924, 2.9306745329793915: 1.0, -0.6138197045370133: 0.046153846153846156, 0.18654996199894902: 0.26153846153846155, 0.41522700958065256: 0.3230769230769231, 0.015042176312671369: 0.2153846153846154, 1.1012581523257632: 0.5076923076923077, -0.27080413316445806: 0.13846153846153847, 0.8154118428486337: 0.4307692307692308}, 0.8757460301597588: {-0.15646560937360626: 0.16923076923076924, -0.27080413316445806: 0.13846153846153847, -0.785327490223291: 0.0, 0.18654996199894902: 0.26153846153846155, 1.7301200331754478: 0.676923076923077, -0.5566504426415875: 0.06153846153846154, 0.7010733190577819: 0.4, -0.728158228327865: 0.015384615384615385, 0.015042176312671369: 0.2153846153846154, -0.6138197045370133: 0.046153846153846156, -0.4423119188507357: 0.09230769230769231, 0.12938070010352312: 0.24615384615384617, 1.3871044618028925: 0.5846153846153846, -0.3851426569553098: 0.1076923076923077, -0.09929634747818039: 0.18461538461538463, 2.9306745329793915: 1.0, 0.6439040571623561: 0.38461538461538464}, 0.8924341147006758: {-0.21363487126903216: 0.45454545454545453, -0.09929634747818039: 0.5454545454545454, 0.07221143820809725: 0.6818181818181818, -0.4423119188507357: 0.2727272727272727, -0.6709889664324392: 0.09090909090909091, 0.12938070010352312: 0.7272727272727273, 0.30088848578980076: 0.8636363636363636, 0.47239627147607843: 1.0, 0.41522700958065256: 0.9545454545454546, -0.6138197045370133: 0.13636363636363635, -0.49948118074616155: 0.22727272727272727, 0.18654996199894902: 0.7727272727272727, 0.35805774768522663: 0.9090909090909091, 0.015042176312671369: 0.6363636363636364}, 0.9035595043946204: {-0.04212708558275451: 0.3023255813953488, -0.785327490223291: 0.0, -0.15646560937360626: 0.2558139534883721, 0.5295655333715042: 0.5348837209302325, 0.30088848578980076: 0.4418604651162791, -0.3851426569553098: 0.16279069767441862, 0.18654996199894902: 0.3953488372093023, -0.5566504426415875: 0.09302325581395349, 0.6439040571623561: 0.5813953488372093, 1.672950771280022: 1.0, 0.35805774768522663: 0.46511627906976744, 0.5867347952669302: 0.5581395348837209}, 0.9536237580173713: {0.8725811047440596: 1.0, 0.7010733190577819: 0.896551724137931, 0.47239627147607843: 0.7586206896551724, 0.5295655333715042: 0.7931034482758621, -0.785327490223291: 0.0, -0.5566504426415875: 0.13793103448275862, 0.18654996199894902: 0.5862068965517241, -0.04212708558275451: 0.4482758620689655, -0.27080413316445806: 0.3103448275862069}, 0.9814372322522329: {0.8725811047440596: 0.8285714285714286, 1.2155966761166148: 1.0, 0.6439040571623561: 0.7142857142857143, -0.785327490223291: 0.0, 0.015042176312671369: 0.4, -0.49948118074616155: 0.14285714285714285}, 0.9981253167931499: {-0.785327490223291: 0.0, 0.5867347952669302: 0.36923076923076925, 0.35805774768522663: 0.3076923076923077, 1.615781509384596: 0.6461538461538462, -0.04212708558275451: 0.2, 0.9297503666394855: 0.46153846153846156, 1.672950771280022: 0.6615384615384615, 1.0440888904303371: 0.49230769230769234, 0.18654996199894902: 0.26153846153846155, -0.21363487126903216: 0.15384615384615385, 0.5295655333715042: 0.35384615384615387, 0.12938070010352312: 0.24615384615384617, 0.41522700958065256: 0.3230769230769231, -0.09929634747818039: 0.18461538461538463, -0.6709889664324392: 0.03076923076923077, 2.9306745329793915: 1.0, -0.32797339505988393: 0.12307692307692308, 0.015042176312671369: 0.2153846153846154, -0.5566504426415875: 0.06153846153846154, -0.27080413316445806: 0.13846153846153847}, 1.0092507064870946: {0.5867347952669302: 0.8888888888888888, 0.35805774768522663: 0.7407407407407407, 0.7582425809532078: 1.0, 0.30088848578980076: 0.7037037037037037, 0.015042176312671369: 0.5185185185185185, 0.12938070010352312: 0.5925925925925926}, 1.0259387910280116: {0.47239627147607843: 0.6285714285714286, 0.41522700958065256: 0.6, 0.18654996199894902: 0.4857142857142857, 0.5295655333715042: 0.6571428571428571, 0.6439040571623561: 0.7142857142857143, 0.30088848578980076: 0.5428571428571428, -0.785327490223291: 0.0, 0.2437192238943749: 0.5142857142857142, 1.2155966761166148: 1.0, 0.35805774768522663: 0.5714285714285714, 0.5867347952669302: 0.6857142857142857}, 1.0481895704159008: {0.5867347952669302: 0.5581395348837209, 0.6439040571623561: 0.5813953488372093, 0.47239627147607843: 0.5116279069767442, 1.672950771280022: 1.0, -0.21363487126903216: 0.23255813953488372}, 1.0537522652628732: {0.2437192238943749: 0.782608695652174, 0.5295655333715042: 1.0, -0.785327490223291: 0.0}, 1.0926911291916794: {0.35805774768522663: 0.5714285714285714, 0.47239627147607843: 0.6285714285714286, 0.30088848578980076: 0.5428571428571428, 1.2155966761166148: 1.0}, 1.1093792137325964: {0.5295655333715042: 1.0}, 1.1260672982735134: {0.35805774768522663: 0.36363636363636365, -0.21363487126903216: 0.18181818181818182, 1.2155966761166148: 0.6363636363636364, -0.04212708558275451: 0.23636363636363636, -0.728158228327865: 0.01818181818181818, -0.3851426569553098: 0.12727272727272726, -0.09929634747818039: 0.21818181818181817, 0.5867347952669302: 0.43636363636363634, -0.785327490223291: 0.0, 0.18654996199894902: 0.3090909090909091, 0.30088848578980076: 0.34545454545454546, 1.9016278188617257: 0.8545454545454545, 2.358981914025133: 1.0, 0.9869196285349113: 0.5636363636363636, 0.41522700958065256: 0.38181818181818183, 0.015042176312671369: 0.2545454545454545}, 1.1316299931204856: {-0.785327490223291: 0.0, -0.6709889664324392: 0.03636363636363636, 0.12938070010352312: 0.2909090909090909, 0.9297503666394855: 0.5454545454545454, -0.6138197045370133: 0.05454545454545454, 1.158427414221189: 0.6181818181818182, 0.47239627147607843: 0.4, 2.358981914025133: 1.0, 0.30088848578980076: 0.34545454545454546, -0.09929634747818039: 0.21818181818181817}, 1.1650061622023196: {-0.785327490223291: 0.0, -0.6138197045370133: 0.05454545454545454, 0.35805774768522663: 0.36363636363636365, 1.1012581523257632: 0.6, -0.728158228327865: 0.01818181818181818, 2.358981914025133: 1.0, 0.7582425809532078: 0.4909090909090909}, 1.1761315518962643: {0.47239627147607843: 0.6285714285714286, 0.5867347952669302: 0.6857142857142857, 1.2155966761166148: 1.0}, 1.220633110672043: {-0.21363487126903216: 0.18181818181818182, -0.785327490223291: 0.0, -0.3851426569553098: 0.12727272727272726, -0.6709889664324392: 0.03636363636363636, 0.47239627147607843: 0.4, 0.8725811047440596: 0.5272727272727272, 0.015042176312671369: 0.2545454545454545, 1.158427414221189: 0.6181818181818182, -0.32797339505988393: 0.14545454545454545, -0.4423119188507357: 0.10909090909090909, 2.358981914025133: 1.0, 1.0440888904303371: 0.5818181818181818, 0.7582425809532078: 0.4909090909090909, -0.5566504426415875: 0.07272727272727272}, 1.2428838900599322: {-0.21363487126903216: 0.125, -0.785327490223291: 0.0, 1.615781509384596: 0.525, -0.4423119188507357: 0.075, 0.47239627147607843: 0.275, -0.6138197045370133: 0.0375, 0.9297503666394855: 0.375, 0.015042176312671369: 0.175, 3.7882134614107796: 1.0, 2.130304866443429: 0.6375, -0.728158228327865: 0.0125}, 1.276260059141766: {-0.785327490223291: 0.0, 0.015042176312671369: 0.23333333333333334, 0.9297503666394855: 0.5, 0.9869196285349113: 0.5166666666666667, 0.12938070010352312: 0.26666666666666666, 0.8725811047440596: 0.48333333333333334, -0.49948118074616155: 0.08333333333333333, 1.8444585569662997: 0.7666666666666667, 0.5867347952669302: 0.4, 0.8154118428486337: 0.4666666666666667, 2.644828223502262: 1.0, 1.158427414221189: 0.5666666666666667, 1.7872892950708736: 0.75, -0.15646560937360626: 0.18333333333333332}, 1.2873854488357108: {-0.32797339505988393: 0.22857142857142856, 0.47239627147607843: 0.6285714285714286, -0.09929634747818039: 0.34285714285714286, 1.2155966761166148: 1.0, 0.8154118428486337: 0.8}, 1.3040735333766278: {-0.785327490223291: 0.0, 0.12938070010352312: 0.27586206896551724, -0.21363487126903216: 0.1724137931034483, -0.728158228327865: 0.017241379310344827, -0.15646560937360626: 0.1896551724137931, -0.4423119188507357: 0.10344827586206896, 0.07221143820809725: 0.25862068965517243, 0.47239627147607843: 0.3793103448275862, -0.6709889664324392: 0.034482758620689655, -0.27080413316445806: 0.15517241379310345, 1.3299351999074667: 0.6379310344827587, 1.1012581523257632: 0.5689655172413793, -0.32797339505988393: 0.13793103448275862, 0.35805774768522663: 0.3448275862068966, 1.5014429855937443: 0.6896551724137931, 2.358981914025133: 0.9482758620689655, -0.5566504426415875: 0.06896551724137931, 2.5304896997114104: 1.0}, 1.326324312764517: {-0.785327490223291: 0.0, -0.3851426569553098: 0.4375, -0.21363487126903216: 0.625, -0.6709889664324392: 0.125, -0.27080413316445806: 0.5625, -0.15646560937360626: 0.6875, -0.728158228327865: 0.0625, -0.04212708558275451: 0.8125, 0.12938070010352312: 1.0, -0.5566504426415875: 0.25, -0.4423119188507357: 0.375, -0.49948118074616155: 0.3125, 0.07221143820809725: 0.9375}, 1.3374497024584617: {-0.785327490223291: 0.0, -0.728158228327865: 0.06666666666666667, -0.5566504426415875: 0.26666666666666666, -0.6709889664324392: 0.13333333333333333, -0.27080413316445806: 0.6, -0.3851426569553098: 0.4666666666666667, -0.4423119188507357: 0.4, -0.49948118074616155: 0.3333333333333333, -0.15646560937360626: 0.7333333333333333, -0.04212708558275451: 0.8666666666666667, 0.07221143820809725: 1.0, -0.6138197045370133: 0.2}, 1.3485750921524065: {-0.49948118074616155: 0.25, -0.21363487126903216: 0.5, 0.35805774768522663: 1.0, -0.27080413316445806: 0.45, 0.30088848578980076: 0.95, -0.785327490223291: 0.0, -0.5566504426415875: 0.2}, 1.3541377869993787: {-0.49948118074616155: 0.08333333333333333, 0.41522700958065256: 0.35, -0.5566504426415875: 0.06666666666666667, -0.785327490223291: 0.0, 0.30088848578980076: 0.31666666666666665, -0.3851426569553098: 0.11666666666666667, -0.6138197045370133: 0.05, 1.2155966761166148: 0.5833333333333334, 1.7301200331754478: 0.7333333333333333, -0.6709889664324392: 0.03333333333333333, 0.7582425809532078: 0.45, 2.644828223502262: 1.0, 0.7010733190577819: 0.43333333333333335, 0.8154118428486337: 0.4666666666666667, 1.9587970807571515: 0.8, 1.2727659380120409: 0.6}, 1.3652631766933234: {-0.49948118074616155: 0.2631578947368421, -0.785327490223291: 0.0, -0.21363487126903216: 0.5263157894736842, -0.5566504426415875: 0.21052631578947367, 0.12938070010352312: 0.8421052631578947, 0.30088848578980076: 1.0, -0.6709889664324392: 0.10526315789473684, -0.6138197045370133: 0.15789473684210525, -0.4423119188507357: 0.3157894736842105, -0.27080413316445806: 0.47368421052631576}, 1.376388566387268: {-0.32797339505988393: 0.4, -0.728158228327865: 0.05, -0.6709889664324392: 0.1, -0.49948118074616155: 0.25, -0.785327490223291: 0.0, 0.35805774768522663: 1.0, 0.2437192238943749: 0.9, 0.30088848578980076: 0.95, -0.5566504426415875: 0.2, -0.4423119188507357: 0.3, -0.6138197045370133: 0.15, -0.27080413316445806: 0.45}, 1.4208901251630466: {-0.785327490223291: 0.0, 0.7582425809532078: 0.15254237288135594, 0.6439040571623561: 0.14124293785310735, 0.8154118428486337: 0.15819209039548024, 0.41522700958065256: 0.11864406779661017, 0.5295655333715042: 0.12994350282485875, 0.7010733190577819: 0.14689265536723164, 0.5867347952669302: 0.13559322033898305, 1.5586122474891702: 0.23163841807909605, 0.8725811047440596: 0.1638418079096045, 1.3299351999074667: 0.20903954802259886, 1.5014429855937443: 0.22598870056497175, 3.3308593662473727: 0.4067796610169492, 0.9297503666394855: 0.1694915254237288, -0.15646560937360626: 0.062146892655367235, -0.27080413316445806: 0.05084745762711865, 9.33363186526709: 1.0, 9.047785555789961: 0.9717514124293786, 8.36175441304485: 0.903954802259887, 9.219293341476238: 0.9887005649717514}, 1.4264528200100188: {0.015042176312671369: 0.0782122905027933, 0.8725811047440596: 0.16201117318435754, 0.8154118428486337: 0.1564245810055866, -0.6709889664324392: 0.0111731843575419, 0.5295655333715042: 0.12849162011173185, 0.7010733190577819: 0.1452513966480447, 0.6439040571623561: 0.13966480446927373, -0.21363487126903216: 0.055865921787709494, 0.9297503666394855: 0.16759776536312848, 0.7582425809532078: 0.15083798882681565, 1.158427414221189: 0.18994413407821228, 3.5595364138290764: 0.4245810055865922, -0.785327490223291: 0.0, 9.162124079580812: 0.9720670391061452, 9.219293341476238: 0.9776536312849162, 8.876277770103684: 0.9441340782122905, 9.390801127162517: 0.994413407821229, 8.990616293894535: 0.9553072625698324, 9.447970389057941: 1.0}, 1.4320155148569913: {1.5586122474891702: 0.6612903225806451, 1.3299351999074667: 0.5967741935483871, 1.615781509384596: 0.6774193548387096, 1.3871044618028925: 0.6129032258064516, 1.7872892950708736: 0.7258064516129032, 1.4442737236983183: 0.6290322580645161, 1.2727659380120409: 0.5806451612903226, 1.7301200331754478: 0.7096774193548387, 0.5295655333715042: 0.3709677419354839, 0.6439040571623561: 0.4032258064516129, 2.0159663426525776: 0.7903225806451613, 0.8725811047440596: 0.46774193548387094, 0.2437192238943749: 0.2903225806451613, -0.785327490223291: 0.0, 1.9587970807571515: 0.7741935483870968, 2.587658961606836: 0.9516129032258065, 1.8444585569662997: 0.7419354838709677, 2.644828223502262: 0.967741935483871, 1.2155966761166148: 0.5645161290322581, 1.672950771280022: 0.6935483870967742, 2.3018126521297066: 0.8709677419354839, 2.759166747293114: 1.0, 1.158427414221189: 0.5483870967741935}, 1.4542662942448805: {0.9297503666394855: 1.0, 0.8725811047440596: 0.9666666666666667}, 1.4653916839388252: {0.6439040571623561: 0.5, 0.5295655333715042: 0.46, 1.1012581523257632: 0.66, 0.41522700958065256: 0.42, 1.0440888904303371: 0.64, 0.9869196285349113: 0.62, 0.7010733190577819: 0.52, -0.785327490223291: 0.0, 0.18654996199894902: 0.34, 0.8725811047440596: 0.58, 1.5586122474891702: 0.82, 1.2727659380120409: 0.72, 1.7301200331754478: 0.88, 2.0731356045480034: 1.0, 1.158427414221189: 0.68, 1.615781509384596: 0.84}, 1.4820797684797422: {0.9297503666394855: 1.0, 0.6439040571623561: 0.8333333333333334}, 1.4932051581736867: {0.9297503666394855: 1.0, 0.8725811047440596: 0.9666666666666667}, 1.4987678530206592: {0.9297503666394855: 0.375, 0.30088848578980076: 0.2375, 1.2727659380120409: 0.45, 1.1012581523257632: 0.4125, 1.5586122474891702: 0.5125, 1.2155966761166148: 0.4375, 1.4442737236983183: 0.4875, 0.9869196285349113: 0.3875, 0.35805774768522663: 0.25, -0.09929634747818039: 0.15, 0.12938070010352312: 0.2, 1.3299351999074667: 0.4625, 0.07221143820809725: 0.1875, -0.785327490223291: 0.0, 1.615781509384596: 0.525, 1.9016278188617257: 0.5875, 1.7301200331754478: 0.55, 2.0731356045480034: 0.625, 1.7872892950708736: 0.5625, 2.0159663426525776: 0.6125, 2.4733204378159845: 0.7125, 2.759166747293114: 0.775, 2.81633600918854: 0.7875, 3.7882134614107796: 1.0, 2.3018126521297066: 0.675}, 1.5043305478676314: {0.41522700958065256: 0.5675675675675675, 0.30088848578980076: 0.5135135135135135, 0.5867347952669302: 0.6486486486486487, 1.3299351999074667: 1.0, 0.12938070010352312: 0.43243243243243246, 1.0440888904303371: 0.8648648648648649, -0.04212708558275451: 0.35135135135135137, 0.35805774768522663: 0.5405405405405406, 1.2727659380120409: 0.972972972972973, 0.9297503666394855: 0.8108108108108109, 0.07221143820809725: 0.40540540540540543, 0.7010733190577819: 0.7027027027027027, 0.5295655333715042: 0.6216216216216216, -0.09929634747818039: 0.32432432432432434, -0.15646560937360626: 0.2972972972972973, -0.785327490223291: 0.0, -0.3851426569553098: 0.1891891891891892, 0.015042176312671369: 0.3783783783783784}, 1.5098932427146037: {0.8725811047440596: 0.38666666666666666, 0.8154118428486337: 0.37333333333333335, 0.6439040571623561: 0.3333333333333333, 0.7010733190577819: 0.3466666666666667, 0.9297503666394855: 0.4, 3.3308593662473727: 0.96, 3.50236715193365: 1.0, 1.9587970807571515: 0.64}, 1.5265813272555206: {1.2727659380120409: 0.75, 0.6439040571623561: 0.5208333333333334, 1.3299351999074667: 0.7708333333333334, 0.8154118428486337: 0.5833333333333334, 1.615781509384596: 0.875, 1.3871044618028925: 0.7916666666666666, 0.7582425809532078: 0.5625, -0.785327490223291: 0.0, 1.9587970807571515: 1.0, 1.9016278188617257: 0.9791666666666666, 1.8444585569662997: 0.9583333333333334, 1.672950771280022: 0.8958333333333334, 0.9869196285349113: 0.6458333333333334, 1.5586122474891702: 0.8541666666666666}, 1.5377067169494654: {0.9297503666394855: 1.0, 0.8725811047440596: 0.9666666666666667, 0.7010733190577819: 0.8666666666666667, 0.5867347952669302: 0.8, 0.8154118428486337: 0.9333333333333333, 0.7582425809532078: 0.9, 0.6439040571623561: 0.8333333333333334, 0.5295655333715042: 0.7666666666666667}, 1.5432694117964376: {1.2727659380120409: 0.6101694915254238, 1.7872892950708736: 0.7627118644067796, 1.3871044618028925: 0.6440677966101694, 1.2155966761166148: 0.5932203389830508, 1.158427414221189: 0.576271186440678, 2.0731356045480034: 0.847457627118644, 1.5014429855937443: 0.6779661016949152, 0.8725811047440596: 0.4915254237288136, 1.615781509384596: 0.711864406779661, -0.785327490223291: 0.0, 2.187474128338855: 0.8813559322033898, 1.672950771280022: 0.7288135593220338, 2.0159663426525776: 0.8305084745762712, 2.587658961606836: 1.0, 1.9016278188617257: 0.7966101694915254, 1.7301200331754478: 0.7457627118644068}, 1.54883210664341: {1.4442737236983183: 0.34513274336283184, 0.8725811047440596: 0.25663716814159293, 1.5586122474891702: 0.36283185840707965, 1.7301200331754478: 0.3893805309734513, 1.615781509384596: 0.37168141592920356, 2.701997485397688: 0.5398230088495575, 0.5867347952669302: 0.21238938053097345, 0.9297503666394855: 0.26548672566371684, 0.8154118428486337: 0.24778761061946902, 0.7010733190577819: 0.23008849557522124, -0.785327490223291: 0.0, 0.07221143820809725: 0.13274336283185842, 3.3308593662473727: 0.6371681415929203, 2.4161511759205587: 0.49557522123893805, 2.81633600918854: 0.5575221238938053, 2.9878437948748173: 0.584070796460177, 0.7582425809532078: 0.23893805309734514, 5.674799103959834: 1.0, 2.759166747293114: 0.5486725663716814, 3.045013056770243: 0.5929203539823009, 2.587658961606836: 0.5221238938053098, 2.5304896997114104: 0.5132743362831859}, 1.5543948014903823: {2.587658961606836: 0.9833333333333333, 2.0159663426525776: 0.8166666666666667, 2.0731356045480034: 0.8333333333333334, 0.8154118428486337: 0.4666666666666667, 0.9297503666394855: 0.5, 0.8725811047440596: 0.48333333333333334, 0.7582425809532078: 0.45, 2.644828223502262: 1.0}, 1.5710828860312993: {0.8725811047440596: 0.4142857142857143, 0.9297503666394855: 0.42857142857142855, 2.0731356045480034: 0.7142857142857143, 3.216520842456521: 1.0, 3.159351580561095: 0.9857142857142858}, 1.582208275725244: {0.9297503666394855: 1.0, 0.8725811047440596: 0.9666666666666667, 0.7582425809532078: 0.9}, 1.6100217499601057: {0.7010733190577819: 0.8666666666666667, 0.30088848578980076: 0.6333333333333333, 0.5867347952669302: 0.8, 0.8725811047440596: 0.9666666666666667, 0.18654996199894902: 0.5666666666666667, 0.2437192238943749: 0.6, 0.9297503666394855: 1.0, 0.8154118428486337: 0.9333333333333333, 0.7582425809532078: 0.9}, 1.6378352241949672: {-0.09929634747818039: 0.26666666666666666, -0.785327490223291: 0.0, 1.5586122474891702: 0.9111111111111111, -0.27080413316445806: 0.2, 0.47239627147607843: 0.4888888888888889, 0.07221143820809725: 0.3333333333333333, 0.35805774768522663: 0.4444444444444444, 0.7582425809532078: 0.6, 0.9297503666394855: 0.6666666666666666, 1.158427414221189: 0.7555555555555555, 1.7872892950708736: 1.0, 0.30088848578980076: 0.4222222222222222, 0.5295655333715042: 0.5111111111111111}, 1.6433979190419397: {-0.04212708558275451: 0.08609271523178808, 0.015042176312671369: 0.09271523178807947, 0.9297503666394855: 0.1986754966887417, -0.785327490223291: 0.0, 0.8154118428486337: 0.18543046357615894, 0.5295655333715042: 0.152317880794702, 0.7010733190577819: 0.17218543046357615, -0.09929634747818039: 0.07947019867549669, 0.07221143820809725: 0.09933774834437085, -0.27080413316445806: 0.059602649006622516, -0.32797339505988393: 0.052980132450331126, 2.701997485397688: 0.40397350993377484, 0.5867347952669302: 0.15894039735099338, 0.41522700958065256: 0.1390728476821192, 0.35805774768522663: 0.13245033112582782, 0.47239627147607843: 0.1456953642384106, 0.7582425809532078: 0.17880794701986755, 2.358981914025133: 0.36423841059602646, 7.8472310559860174: 1.0, 2.187474128338855: 0.3443708609271523, 0.6439040571623561: 0.16556291390728478, 0.8725811047440596: 0.19205298013245034}, 1.648960613888912: {0.2437192238943749: 0.42857142857142855, -0.15646560937360626: 0.2619047619047619, 1.2155966761166148: 0.8333333333333334, 0.30088848578980076: 0.4523809523809524, 0.7010733190577819: 0.6190476190476191, -0.49948118074616155: 0.11904761904761904, -0.27080413316445806: 0.21428571428571427, -0.4423119188507357: 0.14285714285714285, -0.3851426569553098: 0.16666666666666666, 0.7582425809532078: 0.6428571428571429, 1.0440888904303371: 0.7619047619047619, 1.5586122474891702: 0.9761904761904762, 1.615781509384596: 1.0, 0.41522700958065256: 0.5, 1.158427414221189: 0.8095238095238095}, 1.6656486984298289: {0.35805774768522663: 0.2222222222222222, 0.07221143820809725: 0.16666666666666666, -0.49948118074616155: 0.05555555555555555, 1.5586122474891702: 0.45555555555555555, -0.21363487126903216: 0.1111111111111111, 0.41522700958065256: 0.23333333333333334, 0.9869196285349113: 0.34444444444444444, 1.7301200331754478: 0.4888888888888889, 1.7872892950708736: 0.5, 0.6439040571623561: 0.2777777777777778, 2.0731356045480034: 0.5555555555555556, 0.7582425809532078: 0.3, 0.8725811047440596: 0.32222222222222224, 2.644828223502262: 0.6666666666666666, -0.09929634747818039: 0.13333333333333333, 1.615781509384596: 0.4666666666666667, 4.359906080365039: 1.0, 3.7882134614107796: 0.8888888888888888, 3.731044199515354: 0.8777777777777778, 0.9297503666394855: 0.3333333333333333, 0.30088848578980076: 0.2111111111111111, 4.302736818469612: 0.9888888888888889, 1.4442737236983183: 0.43333333333333335, 0.5867347952669302: 0.26666666666666666, 1.672950771280022: 0.4777777777777778, 2.244643390234281: 0.5888888888888889, 0.7010733190577819: 0.28888888888888886, -0.785327490223291: 0.0, 0.015042176312671369: 0.15555555555555556, 3.616705675724502: 0.8555555555555555, -0.15646560937360626: 0.12222222222222222}, 1.6767740881237736: {1.0440888904303371: 0.5818181818181818, 0.6439040571623561: 0.45454545454545453, 0.7582425809532078: 0.4909090909090909, 0.8154118428486337: 0.509090909090909, 1.672950771280022: 0.7818181818181819, 0.2437192238943749: 0.32727272727272727, 0.12938070010352312: 0.2909090909090909, -0.15646560937360626: 0.2, 2.0731356045480034: 0.9090909090909091, 2.0159663426525776: 0.8909090909090909, 2.358981914025133: 1.0, 2.187474128338855: 0.9454545454545454, 1.4442737236983183: 0.7090909090909091, 1.7872892950708736: 0.8181818181818182}, 1.687899477817718: {-0.09929634747818039: 0.2, 0.47239627147607843: 0.36666666666666664, 0.7582425809532078: 0.45, 0.07221143820809725: 0.25, -0.3851426569553098: 0.11666666666666667, 0.35805774768522663: 0.3333333333333333, 0.8154118428486337: 0.4666666666666667, 1.2155966761166148: 0.5833333333333334, 0.30088848578980076: 0.31666666666666665, 0.7010733190577819: 0.43333333333333335, 2.4161511759205587: 0.9333333333333333, 1.7301200331754478: 0.7333333333333333, 1.9587970807571515: 0.8, 1.615781509384596: 0.7, 1.9016278188617257: 0.7833333333333333, 2.358981914025133: 0.9166666666666666, 2.644828223502262: 1.0, 1.2727659380120409: 0.6, 1.7872892950708736: 0.75}, 1.6934621726646906: {0.30088848578980076: 0.2878787878787879, 0.35805774768522663: 0.30303030303030304, 0.07221143820809725: 0.22727272727272727, 0.9297503666394855: 0.45454545454545453, 1.158427414221189: 0.5151515151515151, -0.3851426569553098: 0.10606060606060606, -0.49948118074616155: 0.07575757575757576, -0.4423119188507357: 0.09090909090909091, 0.015042176312671369: 0.21212121212121213, -0.27080413316445806: 0.13636363636363635, -0.21363487126903216: 0.15151515151515152, 0.8154118428486337: 0.42424242424242425, 0.7582425809532078: 0.4090909090909091, -0.32797339505988393: 0.12121212121212122, 1.672950771280022: 0.6515151515151515, 1.4442737236983183: 0.5909090909090909, 2.0159663426525776: 0.7424242424242424, 1.5586122474891702: 0.6212121212121212, 2.9878437948748173: 1.0}, -1.3159557395473371: {0.9297503666394855: 0.6, 1.5014429855937443: 0.8, 0.18654996199894902: 0.34, 0.7582425809532078: 0.54, -0.4423119188507357: 0.12, -0.21363487126903216: 0.2, 0.12938070010352312: 0.32, -0.6138197045370133: 0.06, -0.32797339505988393: 0.16, 0.6439040571623561: 0.5, -0.785327490223291: 0.0, 1.0440888904303371: 0.64, 2.0731356045480034: 1.0, 1.3299351999074667: 0.74}, -1.3048303498533924: {-0.09929634747818039: 0.24, 0.7010733190577819: 0.52, -0.15646560937360626: 0.22, -0.49948118074616155: 0.1, -0.785327490223291: 0.0, -0.4423119188507357: 0.12, -0.27080413316445806: 0.18, 0.12938070010352312: 0.32, 0.5295655333715042: 0.46, 0.6439040571623561: 0.5, -0.21363487126903216: 0.2, 2.0731356045480034: 1.0, 0.8154118428486337: 0.56, 0.30088848578980076: 0.38}, -1.1824510632200014: {-0.15646560937360626: 0.15714285714285714, 0.9297503666394855: 0.42857142857142855, -0.09929634747818039: 0.17142857142857143, 0.5867347952669302: 0.34285714285714286, -0.49948118074616155: 0.07142857142857142, 0.07221143820809725: 0.21428571428571427, -0.21363487126903216: 0.14285714285714285, -0.6138197045370133: 0.04285714285714286, -0.3851426569553098: 0.1, -0.27080413316445806: 0.12857142857142856, -0.5566504426415875: 0.05714285714285714, 0.41522700958065256: 0.3, -0.4423119188507357: 0.08571428571428572, 0.9869196285349113: 0.44285714285714284, 3.216520842456521: 1.0, -0.785327490223291: 0.0, 0.7010733190577819: 0.37142857142857144}, -1.1713256735260567: {0.8725811047440596: 1.0, 0.35805774768522663: 0.6896551724137931, 0.8154118428486337: 0.9655172413793104, 0.07221143820809725: 0.5172413793103449}, -1.021132912657804: {1.4442737236983183: 0.78, 0.8725811047440596: 0.58, 2.0731356045480034: 1.0, 0.9297503666394855: 0.6, 1.0440888904303371: 0.64, 1.5586122474891702: 0.82, 1.9587970807571515: 0.96, -0.21363487126903216: 0.2, 1.5014429855937443: 0.8, 0.12938070010352312: 0.32}, -0.98775674357597: {-0.4423119188507357: 0.15, -0.785327490223291: 0.0, 0.8725811047440596: 0.725, -0.49948118074616155: 0.125, 1.0440888904303371: 0.8, -0.27080413316445806: 0.225, -0.728158228327865: 0.025, -0.32797339505988393: 0.2, 0.41522700958065256: 0.525, -0.04212708558275451: 0.325, 1.5014429855937443: 1.0, 0.9297503666394855: 0.75, 0.015042176312671369: 0.35, 0.7010733190577819: 0.65}, -0.9210044054123021: {0.07221143820809725: 0.5, 0.9297503666394855: 1.0, 0.30088848578980076: 0.6333333333333333, 0.5867347952669302: 0.8, 0.6439040571623561: 0.8333333333333334, 0.41522700958065256: 0.7, -0.21363487126903216: 0.3333333333333333}, -0.6150561888288242: {0.9297503666394855: 0.6, -0.785327490223291: 0.0, -0.6709889664324392: 0.04, 0.015042176312671369: 0.28, 1.1012581523257632: 0.66, 1.4442737236983183: 0.78, -0.27080413316445806: 0.18, -0.09929634747818039: 0.24, 0.2437192238943749: 0.36, 0.5295655333715042: 0.46, 1.5014429855937443: 0.8, -0.728158228327865: 0.02, 0.41522700958065256: 0.42, 0.7010733190577819: 0.52, 2.0731356045480034: 1.0, 1.7872892950708736: 0.9, 1.672950771280022: 0.86, 1.2155966761166148: 0.7, 0.6439040571623561: 0.5, 0.12938070010352312: 0.32, 1.0440888904303371: 0.64, 0.07221143820809725: 0.3, -0.6138197045370133: 0.06, -0.4423119188507357: 0.12}, 0.35285271454436024: {-0.6709889664324392: 1.0, -0.785327490223291: 0.0}, 0.4029169681671112: {0.5867347952669302: 1.0, 0.30088848578980076: 0.7916666666666666}, -0.42036186918479285: {0.8725811047440596: 0.6304347826086957, 0.6439040571623561: 0.5434782608695652, 0.35805774768522663: 0.43478260869565216, 0.5867347952669302: 0.5217391304347826, -0.27080413316445806: 0.1956521739130435, -0.49948118074616155: 0.10869565217391304, 1.8444585569662997: 1.0, -0.785327490223291: 0.0, 0.7010733190577819: 0.5652173913043478, -0.728158228327865: 0.021739130434782608, 0.9297503666394855: 0.6521739130434783, 0.12938070010352312: 0.34782608695652173, 0.41522700958065256: 0.45652173913043476, 0.18654996199894902: 0.3695652173913043}, -0.4036737846438759: {-0.49948118074616155: 0.3333333333333333, -0.785327490223291: 0.0, 0.07221143820809725: 1.0, -0.21363487126903216: 0.6666666666666666, -0.6709889664324392: 0.13333333333333333}, -0.36473492071506963: {-0.09929634747818039: 0.4, -0.21363487126903216: 0.3333333333333333, 0.015042176312671369: 0.4666666666666667, 0.2437192238943749: 0.6, -0.27080413316445806: 0.3, -0.15646560937360626: 0.36666666666666664, -0.04212708558275451: 0.43333333333333335, 0.9297503666394855: 1.0}, -0.30354527739837406: {0.5867347952669302: 0.75, 0.47239627147607843: 0.6875, 0.8725811047440596: 0.90625, 0.41522700958065256: 0.65625, 1.0440888904303371: 1.0, 0.9297503666394855: 0.9375, 0.5295655333715042: 0.71875, 0.30088848578980076: 0.59375, -0.15646560937360626: 0.34375}, -0.2924198877044294: {-0.785327490223291: 0.0, -0.6709889664324392: 0.06666666666666667, -0.6138197045370133: 0.1, 0.9297503666394855: 1.0, -0.32797339505988393: 0.26666666666666666}, -0.22566754954076151: {-0.785327490223291: 0.0, 0.015042176312671369: 1.0, -0.15646560937360626: 0.7857142857142857, -0.04212708558275451: 0.9285714285714286, -0.6138197045370133: 0.21428571428571427, -0.3851426569553098: 0.5}, -0.19229138045892755: {-0.785327490223291: 0.0, -0.15646560937360626: 0.36666666666666664, -0.49948118074616155: 0.16666666666666666, 0.015042176312671369: 0.4666666666666667, -0.728158228327865: 0.03333333333333333, -0.6709889664324392: 0.06666666666666667, 0.9297503666394855: 1.0}, -0.1811659907649829: {-0.785327490223291: 0.0, -0.728158228327865: 0.02857142857142857, -0.3851426569553098: 0.2, -0.09929634747818039: 0.34285714285714286, -0.32797339505988393: 0.22857142857142856, -0.5566504426415875: 0.11428571428571428, -0.6138197045370133: 0.08571428571428572, -0.04212708558275451: 0.37142857142857144, -0.15646560937360626: 0.3142857142857143, -0.49948118074616155: 0.14285714285714285, -0.6709889664324392: 0.05714285714285714, 0.9297503666394855: 0.8571428571428571, -0.4423119188507357: 0.17142857142857143, 0.8154118428486337: 0.8, 1.2155966761166148: 1.0}, -0.1366644319892043: {-0.49948118074616155: 0.38461538461538464, -0.04212708558275451: 1.0, -0.21363487126903216: 0.7692307692307693, -0.6138197045370133: 0.23076923076923078, -0.32797339505988393: 0.6153846153846154, -0.785327490223291: 0.0}, -0.07547478867250874: {-0.4423119188507357: 0.2608695652173913, 0.5295655333715042: 1.0, -0.32797339505988393: 0.34782608695652173, -0.3851426569553098: 0.30434782608695654}, -0.047661314437647116: {-0.32797339505988393: 0.044444444444444446, -0.785327490223291: 0.0, -0.728158228327865: 0.005555555555555556, 0.2437192238943749: 0.1, -0.5566504426415875: 0.022222222222222223, -0.6709889664324392: 0.011111111111111112, -0.3851426569553098: 0.03888888888888889, -0.4423119188507357: 0.03333333333333333, -0.6138197045370133: 0.016666666666666666, -0.21363487126903216: 0.05555555555555555, -0.27080413316445806: 0.05, 9.505139650953367: 1.0}, -0.036535924743702465: {-0.5566504426415875: 0.13333333333333333, -0.785327490223291: 0.0, -0.6709889664324392: 0.06666666666666667, 0.9297503666394855: 1.0}, 0.05246719280785473: {-0.728158228327865: 0.05, -0.785327490223291: 0.0, -0.15646560937360626: 0.55, 0.35805774768522663: 1.0, -0.6709889664324392: 0.1}, 0.10253144643060565: {0.6439040571623561: 1.0, 0.35805774768522663: 0.8}, 0.10809414127757798: {-0.785327490223291: 0.0, -0.4423119188507357: 0.42857142857142855, -0.09929634747818039: 0.8571428571428571, 0.015042176312671369: 1.0, -0.6709889664324392: 0.14285714285714285, -0.32797339505988393: 0.5714285714285714}, 0.11921953097152263: {-0.3851426569553098: 0.35, -0.6138197045370133: 0.15, -0.785327490223291: 0.0, 0.35805774768522663: 1.0}, 0.1359076155124396: {-0.728158228327865: 0.1, -0.32797339505988393: 0.8, -0.21363487126903216: 1.0, -0.785327490223291: 0.0, -0.27080413316445806: 0.9, -0.3851426569553098: 0.7}, 0.14703300520638424: {-0.3851426569553098: 0.875, -0.785327490223291: 0.0, -0.32797339505988393: 1.0, -0.728158228327865: 0.125, -0.6709889664324392: 0.25}, 0.1581583949003289: {-0.09929634747818039: 1.0, -0.49948118074616155: 0.4166666666666667}, 0.1804091742882182: {-0.04212708558275451: 0.65, -0.785327490223291: 0.0, -0.6138197045370133: 0.15, -0.5566504426415875: 0.2, -0.49948118074616155: 0.25, 0.35805774768522663: 1.0}, 0.21378534337005214: {-0.6709889664324392: 0.1, -0.785327490223291: 0.0, 0.35805774768522663: 1.0, -0.728158228327865: 0.05}, 0.2638495969928031: {-0.3851426569553098: 0.7, -0.6709889664324392: 0.2, -0.785327490223291: 0.0, -0.21363487126903216: 1.0, -0.6138197045370133: 0.3}, 0.33616463000344327: {-0.6709889664324392: 0.2, -0.49948118074616155: 0.5, -0.3851426569553098: 0.7, -0.21363487126903216: 1.0, -0.27080413316445806: 0.9, -0.785327490223291: 0.0, -0.5566504426415875: 0.4, -0.728158228327865: 0.1}, 0.5976112878111426: {0.41522700958065256: 0.38181818181818183, 0.8154118428486337: 0.509090909090909, 0.2437192238943749: 0.32727272727272727, -0.785327490223291: 0.0, 1.3299351999074667: 0.6727272727272727, 2.358981914025133: 1.0}, 0.6699263208217827: {0.7010733190577819: 1.0, 0.30088848578980076: 0.7307692307692307, 0.015042176312671369: 0.5384615384615384, 0.07221143820809725: 0.5769230769230769, 0.5867347952669302: 0.9230769230769231, -0.4423119188507357: 0.23076923076923078}, 0.6754890156687551: {-0.6709889664324392: 0.07692307692307693, -0.728158228327865: 0.038461538461538464, -0.49948118074616155: 0.19230769230769232, -0.27080413316445806: 0.34615384615384615, -0.5566504426415875: 0.15384615384615385, 0.015042176312671369: 0.5384615384615384, -0.32797339505988393: 0.3076923076923077, 0.5867347952669302: 0.9230769230769231, 0.7010733190577819: 1.0, 0.2437192238943749: 0.6923076923076923, -0.785327490223291: 0.0, 0.18654996199894902: 0.6538461538461539, 0.07221143820809725: 0.5769230769230769}, 0.6977397950566444: {0.12938070010352312: 1.0, 0.015042176312671369: 0.875, 0.07221143820809725: 0.9375, -0.21363487126903216: 0.625, -0.04212708558275451: 0.8125, -0.09929634747818039: 0.75}, 0.7811802177612293: {-0.5566504426415875: 0.125, 0.5295655333715042: 0.71875, -0.785327490223291: 0.0, -0.15646560937360626: 0.34375, -0.09929634747818039: 0.375, 1.0440888904303371: 1.0, -0.728158228327865: 0.03125, 0.18654996199894902: 0.53125}, 0.8034309971491186: {0.9297503666394855: 1.0, 0.35805774768522663: 0.6666666666666666, 0.07221143820809725: 0.5, 0.30088848578980076: 0.6333333333333333}, 0.8646206404658141: {-0.49948118074616155: 0.08333333333333333, -0.3851426569553098: 0.11666666666666667, -0.27080413316445806: 0.15, -0.09929634747818039: 0.2, 0.35805774768522663: 0.3333333333333333, 1.672950771280022: 0.7166666666666667, 2.644828223502262: 1.0, -0.5566504426415875: 0.06666666666666667}, 0.931372978629482: {0.015042176312671369: 0.32558139534883723, 0.47239627147607843: 0.5116279069767442, 0.30088848578980076: 0.4418604651162791, 1.672950771280022: 1.0, 0.18654996199894902: 0.3953488372093023, 0.5295655333715042: 0.5348837209302325}, 0.9647491477113159: {0.6439040571623561: 0.7142857142857143, 0.5867347952669302: 0.6857142857142857, 0.30088848578980076: 0.5428571428571428, 0.41522700958065256: 0.6, 1.2155966761166148: 1.0, 0.5295655333715042: 0.6571428571428571, 0.015042176312671369: 0.4}, 1.0203760961810393: {0.41522700958065256: 0.6, -0.15646560937360626: 0.3142857142857143, 0.6439040571623561: 0.7142857142857143, 0.30088848578980076: 0.5428571428571428, 0.5295655333715042: 0.6571428571428571, 0.8154118428486337: 0.8, 1.2155966761166148: 1.0}, 1.0815657394977347: {0.6439040571623561: 1.0, -0.3851426569553098: 0.28, 0.30088848578980076: 0.76}, 1.1427553828144303: {-0.785327490223291: 0.0, -0.6709889664324392: 0.05, 0.47239627147607843: 0.55, -0.09929634747818039: 0.3, 1.5014429855937443: 1.0, 1.158427414221189: 0.85, -0.32797339505988393: 0.2, -0.27080413316445806: 0.225, 0.18654996199894902: 0.425, 0.35805774768522663: 0.5, 0.8725811047440596: 0.725}, 1.1928196364371813: {-0.32797339505988393: 0.2962962962962963, -0.785327490223291: 0.0, -0.728158228327865: 0.037037037037037035, 0.35805774768522663: 0.7407407407407407, 0.7582425809532078: 1.0, 0.12938070010352312: 0.5925925925925926, 0.6439040571623561: 0.9259259259259259, 0.7010733190577819: 0.9629629629629629}, 1.2540092797538769: {-0.785327490223291: 0.0, 0.18654996199894902: 0.3541666666666667, -0.27080413316445806: 0.1875, 0.07221143820809725: 0.3125, -0.04212708558275451: 0.2708333333333333, -0.32797339505988393: 0.16666666666666666, -0.21363487126903216: 0.20833333333333334, 1.5014429855937443: 0.8333333333333334, 0.6439040571623561: 0.5208333333333334, 1.9587970807571515: 1.0, 0.30088848578980076: 0.3958333333333333}, 1.4431409045509358: {0.9297503666394855: 1.0, 0.8725811047440596: 0.9666666666666667, 0.7582425809532078: 0.9}, 1.4709543787857975: {0.6439040571623561: 0.8333333333333334, 0.8154118428486337: 0.9333333333333333, 0.9297503666394855: 1.0, 0.8725811047440596: 0.9666666666666667}, 1.6044590551131332: {0.7582425809532078: 0.4090909090909091, 0.5867347952669302: 0.36363636363636365, 0.9297503666394855: 0.45454545454545453, 0.47239627147607843: 0.3333333333333333, 0.7010733190577819: 0.3939393939393939, 0.8154118428486337: 0.42424242424242425, 0.6439040571623561: 0.3787878787878788, 2.701997485397688: 0.9242424242424242, 0.8725811047440596: 0.4393939393939394, 0.41522700958065256: 0.3181818181818182, 0.5295655333715042: 0.3484848484848485, 2.9878437948748173: 1.0, 0.18654996199894902: 0.25757575757575757, 2.358981914025133: 0.8333333333333334}, 1.6211471396540502: {0.9297503666394855: 1.0, 0.18654996199894902: 0.5666666666666667, 0.7010733190577819: 0.8666666666666667}, 1.6545233087358842: {1.7872892950708736: 0.25, 0.41522700958065256: 0.11666666666666667, 0.8725811047440596: 0.16111111111111112, 0.9297503666394855: 0.16666666666666666, 0.6439040571623561: 0.1388888888888889, 0.8154118428486337: 0.15555555555555556, 0.5867347952669302: 0.13333333333333333, 0.7010733190577819: 0.14444444444444443, 0.7582425809532078: 0.15, 8.761939246312831: 0.9277777777777778, 9.505139650953367: 1.0}, -1.1657629786790844: {0.9297503666394855: 1.0, 0.8154118428486337: 0.9333333333333333, 0.07221143820809725: 0.5}, -0.8208758981668003: {2.0731356045480034: 1.0, 1.2727659380120409: 0.72, -0.785327490223291: 0.0, 2.0159663426525776: 0.98}, -0.7930624239319386: {-0.785327490223291: 0.0, -0.6709889664324392: 0.02857142857142857, -0.32797339505988393: 0.11428571428571428, -0.4423119188507357: 0.08571428571428572, -0.6138197045370133: 0.04285714285714286, -0.728158228327865: 0.014285714285714285, 2.130304866443429: 0.7285714285714285, 0.8154118428486337: 0.4, 3.216520842456521: 1.0, 0.12938070010352312: 0.22857142857142856, 1.3299351999074667: 0.5285714285714286}, -0.7207473909212984: {-0.785327490223291: 0.0, 1.7301200331754478: 0.9166666666666666, 1.9587970807571515: 1.0}, -0.10328826290737037: {0.015042176312671369: 0.4666666666666667, -0.4423119188507357: 0.2, -0.49948118074616155: 0.16666666666666666, -0.32797339505988393: 0.26666666666666666, -0.785327490223291: 0.0, -0.15646560937360626: 0.36666666666666664, -0.6709889664324392: 0.06666666666666667, 0.9297503666394855: 1.0, -0.3851426569553098: 0.23333333333333334}, 0.046904497960882405: {-0.04212708558275451: 1.0}, 1.3875139560812126: {-0.785327490223291: 0.0, -0.09929634747818039: 0.9230769230769231, -0.49948118074616155: 0.38461538461538464, -0.728158228327865: 0.07692307692307693, -0.04212708558275451: 1.0}, 0.7366786589854507: {-0.49948118074616155: 0.14285714285714285, -0.15646560937360626: 0.3142857142857143, -0.09929634747818039: 0.34285714285714286, -0.32797339505988393: 0.22857142857142856, 0.47239627147607843: 0.6285714285714286, -0.4423119188507357: 0.17142857142857143, -0.785327490223291: 0.0, -0.6138197045370133: 0.08571428571428572, -0.5566504426415875: 0.11428571428571428, 1.2155966761166148: 1.0, 0.35805774768522663: 0.5714285714285714, 0.2437192238943749: 0.5142857142857142, -0.728158228327865: 0.02857142857142857}, 0.9424983683234267: {0.35805774768522663: 1.0, -0.785327490223291: 0.0, -0.09929634747818039: 0.6, 0.2437192238943749: 0.9, 0.015042176312671369: 0.7}, 1.0370641807219563: {0.8154118428486337: 1.0, 0.41522700958065256: 0.75, -0.785327490223291: 0.0}, -0.9766313538820254: {-0.728158228327865: 0.1, -0.785327490223291: 0.0, -0.21363487126903216: 1.0}, -0.9432551848001913: {-0.728158228327865: 0.022222222222222223, -0.785327490223291: 0.0, 1.7872892950708736: 1.0, -0.15646560937360626: 0.24444444444444444}, -0.8486893724016619: {1.3299351999074667: 1.0, 1.158427414221189: 0.918918918918919}, -0.8431266775546895: {0.47239627147607843: 0.7096774193548387, 0.9869196285349113: 1.0, -0.04212708558275451: 0.41935483870967744, 0.7010733190577819: 0.8387096774193549}, 0.08584336188968868: {-0.785327490223291: 0.0, -0.728158228327865: 1.0}, 0.09696875158363333: {0.5867347952669302: 0.8571428571428571, 0.8154118428486337: 1.0, 0.35805774768522663: 0.7142857142857143, 0.30088848578980076: 0.6785714285714286}, 0.24159881760491375: {-0.785327490223291: 0.0, -0.4423119188507357: 0.5454545454545454, -0.3851426569553098: 0.6363636363636364, -0.15646560937360626: 1.0, -0.5566504426415875: 0.36363636363636365}, 0.708865184750589: {0.2437192238943749: 0.9, 0.35805774768522663: 1.0, 0.18654996199894902: 0.85, 0.30088848578980076: 0.95}, 1.565520191184327: {0.9297503666394855: 1.0, 0.8725811047440596: 0.9666666666666667, 0.8154118428486337: 0.9333333333333333}, 1.5933336654191887: {0.8725811047440596: 0.9666666666666667, -0.27080413316445806: 0.3, -0.21363487126903216: 0.3333333333333333, 0.8154118428486337: 0.9333333333333333, 0.9297503666394855: 1.0, 0.7582425809532078: 0.9}, -1.4550231107216451: {-0.21363487126903216: 0.2, -0.5566504426415875: 0.08, -0.4423119188507357: 0.12, -0.27080413316445806: 0.18, 2.0731356045480034: 1.0, -0.15646560937360626: 0.22}, -0.7429981703091877: {-0.785327490223291: 0.0, 0.35805774768522663: 0.4, -0.6138197045370133: 0.06, 0.47239627147607843: 0.44, 2.0731356045480034: 1.0, 0.6439040571623561: 0.5}, -0.7040593063803814: {0.5867347952669302: 0.5, 1.9587970807571515: 1.0, -0.09929634747818039: 0.25}, 0.013528328879048456: {-0.27080413316445806: 0.3, -0.785327490223291: 0.0, 0.07221143820809725: 0.5, 0.9297503666394855: 1.0}, 0.024653718572993106: {-0.32797339505988393: 0.26666666666666666, 0.7010733190577819: 0.8666666666666667, 0.8725811047440596: 0.9666666666666667, 0.7582425809532078: 0.9, 0.9297503666394855: 1.0, 0.35805774768522663: 0.6666666666666666}, 1.0704403498037902: {-0.09929634747818039: 0.41379310344827586, 0.015042176312671369: 0.4827586206896552, 0.8725811047440596: 1.0, -0.785327490223291: 0.0}, 1.1149419085795687: {0.5295655333715042: 0.5897435897435898, 0.41522700958065256: 0.5384615384615384, 1.4442737236983183: 1.0, 0.35805774768522663: 0.5128205128205128}, 1.2985108385296555: {-0.785327490223291: 0.0, 0.6439040571623561: 1.0, -0.27080413316445806: 0.36, 0.015042176312671369: 0.56, 0.12938070010352312: 0.64}, -1.5829650922020087: {-0.49948118074616155: 0.3333333333333333, 0.07221143820809725: 1.0}, -1.5774023973550364: {-0.785327490223291: 0.0, -0.09929634747818039: 0.2, -0.32797339505988393: 0.13333333333333333, -0.5566504426415875: 0.06666666666666667, -0.6138197045370133: 0.05, -0.49948118074616155: 0.08333333333333333, 0.41522700958065256: 0.35, -0.6709889664324392: 0.03333333333333333, -0.3851426569553098: 0.11666666666666667, -0.728158228327865: 0.016666666666666666, 0.47239627147607843: 0.36666666666666664, -0.4423119188507357: 0.1, 0.12938070010352312: 0.26666666666666666, 2.644828223502262: 1.0, 0.9297503666394855: 0.5}, -1.5718397025080642: {0.2437192238943749: 0.75, -0.785327490223291: 0.0, 0.5867347952669302: 1.0, -0.728158228327865: 0.041666666666666664, -0.4423119188507357: 0.25, -0.6709889664324392: 0.08333333333333333, -0.5566504426415875: 0.16666666666666666, 0.07221143820809725: 0.625, -0.15646560937360626: 0.4583333333333333}, -1.5662770076610917: {0.2437192238943749: 0.3, -0.785327490223291: 0.0, 0.30088848578980076: 0.31666666666666665, 0.015042176312671369: 0.23333333333333334, -0.5566504426415875: 0.06666666666666667, -0.21363487126903216: 0.16666666666666666, -0.728158228327865: 0.016666666666666666, -0.6709889664324392: 0.03333333333333333, 0.07221143820809725: 0.25, -0.32797339505988393: 0.13333333333333333, 2.130304866443429: 0.85, -0.3851426569553098: 0.11666666666666667, 1.7872892950708736: 0.75, -0.6138197045370133: 0.05, -0.09929634747818039: 0.2, 1.158427414221189: 0.5666666666666667, 0.35805774768522663: 0.3333333333333333, 2.644828223502262: 1.0, 0.9297503666394855: 0.5, 0.9869196285349113: 0.5166666666666667, 0.5295655333715042: 0.38333333333333336, -0.49948118074616155: 0.08333333333333333}, -1.5607143128141194: {0.7582425809532078: 0.3698630136986301, 0.8154118428486337: 0.3835616438356164, 0.7010733190577819: 0.3561643835616438, 3.3880286281427985: 1.0, 0.8725811047440596: 0.3972602739726027}, -0.7708116445440493: {0.07221143820809725: 1.0, -0.21363487126903216: 0.6666666666666666, -0.785327490223291: 0.0}, -0.6206188836757965: {-0.728158228327865: 1.0}, -1.349331908629171: {-0.6709889664324392: 0.3333333333333333, -0.4423119188507357: 1.0}, -0.5038022918893778: {0.9869196285349113: 0.96875, 1.0440888904303371: 1.0, -0.3851426569553098: 0.21875, 0.18654996199894902: 0.53125, 0.12938070010352312: 0.5}, -0.4982395970424054: {-0.785327490223291: 0.0, 0.07221143820809725: 1.0, -0.5566504426415875: 0.26666666666666666}, -0.4481753434196545: {1.4442737236983183: 1.0, 0.5295655333715042: 0.5897435897435898, 0.2437192238943749: 0.46153846153846156, 0.5867347952669302: 0.6153846153846154, 0.12938070010352312: 0.41025641025641024, 0.18654996199894902: 0.4358974358974359}, -0.4426126485726822: {-0.785327490223291: 0.0}, -0.40923647949084824: {-0.6138197045370133: 0.6, -0.5566504426415875: 0.8, -0.6709889664324392: 0.4, -0.728158228327865: 0.2, -0.49948118074616155: 1.0}, -0.05878670413159176: {-0.728158228327865: 0.25, -0.5566504426415875: 1.0}, 0.1637210897473012: {-0.21363487126903216: 0.8333333333333334, -0.09929634747818039: 1.0}, 0.32503924030949866: {-0.785327490223291: 0.0, -0.32797339505988393: 1.0}, 1.4375782097039635: {-0.5566504426415875: 0.8, -0.49948118074616155: 1.0}, 0.4251677475550005: {-0.785327490223291: 0.0, -0.728158228327865: 0.05, -0.4423119188507357: 0.3, -0.6138197045370133: 0.15, -0.6709889664324392: 0.1, -0.21363487126903216: 0.5, -0.5566504426415875: 0.2, 0.35805774768522663: 1.0, -0.27080413316445806: 0.45}, 0.4307304424019728: {-0.785327490223291: 0.0, -0.728158228327865: 0.015384615384615385, -0.49948118074616155: 0.07692307692307693, -0.5566504426415875: 0.06153846153846154, -0.4423119188507357: 0.09230769230769231, -0.21363487126903216: 0.15384615384615385, -0.3851426569553098: 0.1076923076923077, 0.015042176312671369: 0.2153846153846154, -0.6709889664324392: 0.03076923076923077, -0.6138197045370133: 0.046153846153846156, 2.9306745329793915: 1.0, 0.6439040571623561: 0.38461538461538464}, 0.6643636259748105: {-0.785327490223291: 0.0, -0.21363487126903216: 0.3225806451612903, 0.9869196285349113: 1.0}, 0.7978683023021462: {1.4442737236983183: 1.0, 0.8154118428486337: 0.717948717948718}, -0.46486342796057145: {-0.785327490223291: 0.0, -0.4423119188507357: 0.08, -0.728158228327865: 0.013333333333333334, 0.9297503666394855: 0.4, 3.50236715193365: 1.0, 0.015042176312671369: 0.18666666666666668}, -0.05322400928461944: {0.015042176312671369: 1.0}, 0.3027884609216093: {-0.49948118074616155: 1.0, -0.5566504426415875: 0.8}, 0.34729001969738793: {-0.785327490223291: 0.0, -0.5566504426415875: 1.0}, 0.5586724238823363: {0.6439040571623561: 1.0, 0.2437192238943749: 0.72}, 0.725553269291506: {0.35805774768522663: 0.5714285714285714, -0.04212708558275451: 0.37142857142857144, -0.785327490223291: 0.0, 0.41522700958065256: 0.6, 0.07221143820809725: 0.42857142857142855, 1.2155966761166148: 1.0}, 0.7478040486793953: {1.0440888904303371: 1.0, -0.785327490223291: 0.0}, 0.7533667435263677: {0.41522700958065256: 0.6, 1.2155966761166148: 1.0}, 0.7589294383733399: {0.7010733190577819: 1.0}, 0.8868714198537034: {0.6439040571623561: 0.7142857142857143, 0.47239627147607843: 0.6285714285714286, 1.2155966761166148: 1.0}, 0.9369356734764543: {0.6439040571623561: 1.0, 0.2437192238943749: 0.72}, 1.0982538240386517: {0.9869196285349113: 1.0, 0.6439040571623561: 0.8064516129032258}, 1.2317585003659874: {-0.21363487126903216: 1.0, -0.32797339505988393: 0.8}, 1.3207616179175448: {0.47239627147607843: 1.0}, -0.4926769021954331: {-0.49948118074616155: 1.0}, -0.4759888176545161: {-0.785327490223291: 0.0}, 0.22491073306399678: {-0.3851426569553098: 0.6363636363636364, -0.5566504426415875: 0.36363636363636365, -0.15646560937360626: 1.0}, 1.1038165188856242: {-0.785327490223291: 0.0}, -1.432772331333756: {-0.32797339505988393: 0.16, 0.7582425809532078: 0.54, 0.5295655333715042: 0.46, 2.0731356045480034: 1.0, 0.9297503666394855: 0.6}, -1.399396162251922: {-0.49948118074616155: 0.10416666666666667, 1.9587970807571515: 1.0, -0.3851426569553098: 0.14583333333333334}, -1.3270811292412819: {1.2155966761166148: 0.9210526315789473, 1.158427414221189: 0.8947368421052632, 1.3871044618028925: 1.0}, -1.2825795704655032: {-0.785327490223291: 0.0, 0.015042176312671369: 0.2, 0.35805774768522663: 0.2857142857142857, 0.30088848578980076: 0.2714285714285714, 0.9297503666394855: 0.42857142857142855, -0.5566504426415875: 0.05714285714285714, -0.728158228327865: 0.014285714285714285, 3.216520842456521: 1.0, 2.0731356045480034: 0.7142857142857143}, -1.2714541807715585: {0.015042176312671369: 0.28, 0.9297503666394855: 0.6, -0.15646560937360626: 0.22, 2.0731356045480034: 1.0}, -1.260328791077614: {-0.785327490223291: 0.0, 0.9297503666394855: 0.42857142857142855, -0.4423119188507357: 0.08571428571428572, 0.015042176312671369: 0.2, 3.216520842456521: 1.0, 2.0731356045480034: 0.7142857142857143}, -1.2492034013836693: {-0.785327490223291: 0.0, 0.47239627147607843: 0.6666666666666666, 1.1012581523257632: 1.0}, -1.210264537454863: {-0.785327490223291: 0.0, -0.3851426569553098: 0.175, -0.6138197045370133: 0.075, 1.5014429855937443: 1.0, -0.27080413316445806: 0.225}, -1.1991391477609183: {-0.15646560937360626: 0.34375, 0.41522700958065256: 0.65625, 0.8154118428486337: 0.875, 0.2437192238943749: 0.5625, -0.785327490223291: 0.0, 0.7582425809532078: 0.84375, -0.5566504426415875: 0.125, 1.0440888904303371: 1.0}, -1.1490748941381674: {-0.785327490223291: 0.0, 0.7010733190577819: 0.3466666666666667, -0.6138197045370133: 0.04, 3.50236715193365: 1.0, -0.27080413316445806: 0.12}, -0.8987536260244128: {-0.785327490223291: 0.0, -0.6138197045370133: 0.075, -0.728158228327865: 0.025, 1.5014429855937443: 1.0, -0.4423119188507357: 0.15}, -0.8876282363304682: {-0.785327490223291: 0.0, -0.49948118074616155: 0.125, -0.4423119188507357: 0.15, 1.5014429855937443: 1.0}, -0.8765028466365234: {-0.785327490223291: 0.0, 0.8725811047440596: 0.58, 0.30088848578980076: 0.38, -0.5566504426415875: 0.08, 0.5867347952669302: 0.48, 2.0731356045480034: 1.0, -0.32797339505988393: 0.16}, -0.8653774569425788: {0.7582425809532078: 0.6, -0.785327490223291: 0.0, -0.728158228327865: 0.022222222222222223, 0.5867347952669302: 0.5333333333333333, 0.41522700958065256: 0.4666666666666667, 1.7872892950708736: 1.0}, -0.8320012878607449: {0.015042176312671369: 0.23333333333333334, -0.785327490223291: 0.0, 1.5014429855937443: 0.6666666666666666, -0.21363487126903216: 0.16666666666666666, 2.644828223502262: 1.0}, -0.7541235600031323: {1.158427414221189: 0.5666666666666667, 0.5867347952669302: 0.4, -0.27080413316445806: 0.15, 2.644828223502262: 1.0}, -0.6094934939818519: {-0.32797339505988393: 0.8888888888888888, -0.49948118074616155: 0.5555555555555556, -0.27080413316445806: 1.0}, 1.5210186324085484: {1.5014429855937443: 0.8, 2.0731356045480034: 1.0}, 1.5321440221024931: {0.9297503666394855: 0.625, 1.9587970807571515: 1.0}, 1.632272529347995: {2.0731356045480034: 1.0, 1.7872892950708736: 0.9}, 1.6823367829707458: {1.5014429855937443: 0.8888888888888888, 1.672950771280022: 0.9555555555555556, 1.2727659380120409: 0.8, 1.2155966761166148: 0.7777777777777778, 1.7872892950708736: 1.0}, -0.5149276815833224: {-0.785327490223291: 0.0, -0.728158228327865: 0.011111111111111112, -0.6709889664324392: 0.022222222222222223, -0.6138197045370133: 0.03333333333333333, 4.359906080365039: 1.0, 0.9297503666394855: 0.3333333333333333}, -0.4871142073484608: {1.158427414221189: 0.85, 1.2155966761166148: 0.875, 1.1012581523257632: 0.825, 1.0440888904303371: 0.8, 1.3871044618028925: 0.95, 1.4442737236983183: 0.975, 1.3299351999074667: 0.925, 1.5014429855937443: 1.0, 0.5867347952669302: 0.6, 0.8725811047440596: 0.725, 0.9869196285349113: 0.775}, 0.41960505270802817: {0.8725811047440596: 0.725, -0.09929634747818039: 0.3, 0.18654996199894902: 0.425, 1.1012581523257632: 0.825, 0.7010733190577819: 0.65, -0.21363487126903216: 0.25, -0.785327490223291: 0.0, 0.12938070010352312: 0.4, 1.5014429855937443: 1.0, 0.2437192238943749: 0.45, -0.6138197045370133: 0.075, 0.07221143820809725: 0.375, 0.35805774768522663: 0.5, -0.4423119188507357: 0.15, 0.015042176312671369: 0.35, 0.7582425809532078: 0.675, -0.728158228327865: 0.025}, 0.43629313724894514: {0.7010733190577819: 0.5909090909090909, 1.7301200331754478: 1.0}, 0.49192008571866835: {-0.785327490223291: 0.0, -0.728158228327865: 0.05, -0.04212708558275451: 0.65, 0.35805774768522663: 1.0, -0.6138197045370133: 0.15, -0.5566504426415875: 0.2, -0.6709889664324392: 0.1, -0.49948118074616155: 0.25}, 1.203945026131126: {1.0440888904303371: 0.9696969696969697, 0.9297503666394855: 0.9090909090909091, 1.1012581523257632: 1.0, 0.30088848578980076: 0.5757575757575758, 0.35805774768522663: 0.6060606060606061}, 1.2651346694478216: {1.3299351999074667: 0.6727272727272727, 0.18654996199894902: 0.3090909090909091, 0.9869196285349113: 0.5636363636363636, 2.358981914025133: 1.0, -0.27080413316445806: 0.16363636363636364}, -1.0489463868926656: {-0.785327490223291: 0.0, 0.9297503666394855: 0.9090909090909091, 0.41522700958065256: 0.6363636363636364, 1.1012581523257632: 1.0, -0.21363487126903216: 0.30303030303030304}, -1.0433836920456931: {1.7301200331754478: 1.0, 0.07221143820809725: 0.3409090909090909, 1.158427414221189: 0.7727272727272727, 1.2155966761166148: 0.7954545454545454}, -1.037820997198721: {-0.27080413316445806: 1.0}, -1.0322583023517486: {-0.728158228327865: 1.0, -0.785327490223291: 0.0}, -1.0100075229638592: {-0.4423119188507357: 0.12, -0.6709889664324392: 0.04, 2.0731356045480034: 1.0, 1.7301200331754478: 0.88, 0.8725811047440596: 0.58}, -0.5093649867363501: {-0.04212708558275451: 0.43333333333333335, -0.32797339505988393: 0.26666666666666666, -0.785327490223291: 0.0, 0.9297503666394855: 1.0}, -0.34804683617415266: {0.2437192238943749: 0.5625, 0.015042176312671369: 0.4375, 1.0440888904303371: 1.0, 0.7582425809532078: 0.84375}, 0.9703118425582883: {-0.27080413316445806: 0.16363636363636364, 0.8725811047440596: 0.5272727272727272, 2.358981914025133: 1.0, 0.6439040571623561: 0.45454545454545453, -0.5566504426415875: 0.07272727272727272}, 0.9925626219461776: {0.9297503666394855: 0.6666666666666666, 0.6439040571623561: 0.5555555555555556, 1.7872892950708736: 1.0, 1.7301200331754478: 0.9777777777777777, 1.0440888904303371: 0.7111111111111111}, 1.1816942467432365: {0.12938070010352312: 0.45714285714285713, 0.2437192238943749: 0.5142857142857142, 1.2155966761166148: 1.0, 0.7010733190577819: 0.7428571428571429}, -1.243640706536697: {0.9869196285349113: 0.62, 2.0731356045480034: 1.0}, -1.2380780116897245: {0.9869196285349113: 1.0}, -1.160200283832112: {0.07221143820809725: 0.2, -0.15646560937360626: 0.14666666666666667, 3.50236715193365: 1.0}, 0.2749749866867477: {-0.785327490223291: 0.0, 0.35805774768522663: 1.0}, 1.153880772508375: {-0.728158228327865: 0.016666666666666666, 1.4442737236983183: 0.65, 2.644828223502262: 1.0}, -0.6484323579106581: {-0.15646560937360626: 0.36666666666666664, 0.2437192238943749: 0.6, -0.21363487126903216: 0.3333333333333333, 0.9297503666394855: 1.0}, -0.6317442733697411: {-0.785327490223291: 0.0, -0.728158228327865: 0.03333333333333333, 0.07221143820809725: 0.5, 0.30088848578980076: 0.6333333333333333, 0.9297503666394855: 1.0, 0.8725811047440596: 0.9666666666666667}, -0.1589152113770936: {-0.785327490223291: 0.0, 0.9297503666394855: 1.0}, -0.019847840202785492: {-0.6138197045370133: 1.0}, 1.0593149601098455: {0.07221143820809725: 0.1875, 3.7882134614107796: 1.0}, -0.5816800197469902: {0.6439040571623561: 1.0}, -0.5649919352060733: {0.07221143820809725: 1.0}, -0.5483038506651563: {-0.21363487126903216: 1.0}, 0.914684894088565: {1.2155966761166148: 1.0}, 1.2095077209780982: {1.5014429855937443: 1.0}, -0.4370499537257098: {-0.5566504426415875: 0.6666666666666666, -0.728158228327865: 0.16666666666666666, -0.4423119188507357: 1.0}, 1.3151989230705725: {0.41522700958065256: 1.0, 0.12938070010352312: 0.7619047619047619}, -0.6261815785227689: {-0.4423119188507357: 1.0}, -1.3437692137821988: {-0.4423119188507357: 1.0}, -0.5371784609712117: {-0.6709889664324392: 0.1, -0.6138197045370133: 0.15, -0.785327490223291: 0.0, 0.35805774768522663: 1.0, -0.728158228327865: 0.05}, -0.5204903764302947: {-0.785327490223291: 0.0, 0.5867347952669302: 1.0, -0.728158228327865: 0.041666666666666664, -0.49948118074616155: 0.20833333333333334, -0.3851426569553098: 0.2916666666666667, 0.18654996199894902: 0.7083333333333334}, -1.5495889231201747: {-0.728158228327865: 0.125, -0.785327490223291: 0.0, -0.32797339505988393: 1.0, -0.6709889664324392: 0.25}, -1.5384635334262302: {-0.785327490223291: 0.0, -0.04212708558275451: 1.0, -0.49948118074616155: 0.38461538461538464, -0.5566504426415875: 0.3076923076923077, -0.728158228327865: 0.07692307692307693}, -1.5273381437322855: {-0.5566504426415875: 0.2, -0.6709889664324392: 0.1, -0.27080413316445806: 0.45, -0.6138197045370133: 0.15, 0.12938070010352312: 0.8, 0.35805774768522663: 1.0}, -1.5162127540383408: {-0.6709889664324392: 0.09090909090909091, -0.728158228327865: 0.045454545454545456, 0.35805774768522663: 0.9090909090909091, -0.785327490223291: 0.0, -0.09929634747818039: 0.5454545454545454, 0.47239627147607843: 1.0, -0.15646560937360626: 0.5, 0.2437192238943749: 0.8181818181818182}, -1.5050873643443963: {-0.785327490223291: 0.0, -0.6138197045370133: 0.11538461538461539, 0.6439040571623561: 0.9615384615384616, 0.7010733190577819: 1.0, 0.47239627147607843: 0.8461538461538461}, -1.4939619746504516: {0.7582425809532078: 1.0, -0.6709889664324392: 0.07407407407407407, -0.785327490223291: 0.0, -0.6138197045370133: 0.1111111111111111, 0.5867347952669302: 0.8888888888888888, -0.15646560937360626: 0.4074074074074074, -0.32797339505988393: 0.2962962962962963}, -1.4828365849565068: {-0.785327490223291: 0.0, 0.30088848578980076: 0.76, -0.6138197045370133: 0.12, 0.47239627147607843: 0.88, -0.728158228327865: 0.04, 0.6439040571623561: 1.0}, -1.471711195262562: {-0.728158228327865: 1.0, -0.785327490223291: 0.0}, -1.4605858055686176: {-0.785327490223291: 0.0, 0.47239627147607843: 0.7333333333333333, 0.015042176312671369: 0.4666666666666667, -0.32797339505988393: 0.26666666666666666, 0.7010733190577819: 0.8666666666666667, -0.728158228327865: 0.03333333333333333, 0.9297503666394855: 1.0}, -1.449460415874673: {0.35805774768522663: 1.0, -0.728158228327865: 0.05, -0.3851426569553098: 0.35}, -1.4383350261807282: {-0.5566504426415875: 0.19047619047619047, -0.728158228327865: 0.047619047619047616, 0.12938070010352312: 0.7619047619047619, 0.41522700958065256: 1.0, -0.785327490223291: 0.0}, -1.4272096364867837: {1.0440888904303371: 0.8648648648648649, 0.8725811047440596: 0.7837837837837838, 1.3299351999074667: 1.0}, -1.4049588570988942: {1.1012581523257632: 1.0, 0.07221143820809725: 0.45454545454545453, -0.4423119188507357: 0.18181818181818182}, -1.3882707725579773: {-0.5566504426415875: 0.11428571428571428, -0.6138197045370133: 0.08571428571428572, -0.728158228327865: 0.02857142857142857, -0.3851426569553098: 0.2, -0.785327490223291: 0.0, 1.2155966761166148: 1.0, 0.015042176312671369: 0.4}, -1.3771453828640328: {0.2437192238943749: 0.4864864864864865, 0.7582425809532078: 0.7297297297297297, 0.6439040571623561: 0.6756756756756757, 0.5295655333715042: 0.6216216216216216, 0.41522700958065256: 0.5675675675675675, 1.3299351999074667: 1.0}, -1.366019993170088: {0.35805774768522663: 1.0, -0.04212708558275451: 0.65, -0.3851426569553098: 0.35, -0.32797339505988393: 0.4, -0.785327490223291: 0.0, 0.18654996199894902: 0.85, -0.4423119188507357: 0.3, -0.15646560937360626: 0.55}, -1.3548946034761433: {-0.785327490223291: 0.0, 0.12938070010352312: 0.8888888888888888, -0.5566504426415875: 0.2222222222222222, 0.2437192238943749: 1.0, -0.728158228327865: 0.05555555555555555, -0.04212708558275451: 0.7222222222222222}, -1.332643824088254: {0.015042176312671369: 0.9333333333333333, -0.6138197045370133: 0.2, 0.07221143820809725: 1.0}, -1.3215184343943094: {0.9297503666394855: 1.0}, -1.3103930447003649: {-0.785327490223291: 0.0, -0.6138197045370133: 0.15, 0.35805774768522663: 1.0, -0.49948118074616155: 0.25}, -1.2992676550064202: {-0.27080413316445806: 0.3, -0.785327490223291: 0.0, 0.2437192238943749: 0.6, 0.9297503666394855: 1.0}, -1.2881422653124754: {-0.49948118074616155: 0.35714285714285715, 0.015042176312671369: 1.0, -0.32797339505988393: 0.5714285714285714, -0.04212708558275451: 0.9285714285714286}, -1.277016875618531: {-0.785327490223291: 0.0, 0.12938070010352312: 0.7619047619047619, 0.41522700958065256: 1.0}, -1.2658914859245862: {-0.5566504426415875: 0.08333333333333333, 1.9587970807571515: 1.0, 0.30088848578980076: 0.3958333333333333}, -1.2547660962306415: {-0.785327490223291: 0.0, 0.2437192238943749: 0.6666666666666666, 0.7582425809532078: 1.0}, -1.2325153168427523: {-0.5566504426415875: 1.0, -0.785327490223291: 0.0}, -1.2158272323018353: {-0.4423119188507357: 0.2222222222222222, 0.7582425809532078: 1.0, -0.785327490223291: 0.0}, -1.2047018426078906: {-0.3851426569553098: 1.0, -0.6138197045370133: 0.42857142857142855, -0.728158228327865: 0.14285714285714285}, -1.1880137580669736: {-0.6138197045370133: 0.17647058823529413, 0.18654996199894902: 1.0, -0.3851426569553098: 0.4117647058823529}, -1.176888368373029: {-0.3851426569553098: 1.0, -0.4423119188507357: 0.8571428571428571}, -1.1546375889851397: {1.3299351999074667: 1.0, 0.35805774768522663: 0.5405405405405406, 1.2727659380120409: 0.972972972972973}, -1.143512199291195: {0.47239627147607843: 1.0, -0.09929634747818039: 0.5454545454545454, 0.41522700958065256: 0.9545454545454546}, -1.126824114750278: {0.8725811047440596: 0.7435897435897436, 0.9869196285349113: 0.7948717948717948, 1.1012581523257632: 0.8461538461538461, 1.3299351999074667: 0.9487179487179487, 0.9297503666394855: 0.7692307692307693, 1.2727659380120409: 0.9230769230769231, 1.4442737236983183: 1.0, 1.0440888904303371: 0.8205128205128205}, -1.1156987250563335: {-0.785327490223291: 0.0, -0.27080413316445806: 0.6, 0.07221143820809725: 1.0}, -1.1045733353623888: {-0.785327490223291: 0.0, -0.32797339505988393: 0.25806451612903225, 0.9869196285349113: 1.0, 0.8154118428486337: 0.9032258064516129}, -1.0878852508214718: {0.35805774768522663: 0.8, 0.6439040571623561: 1.0}, -1.076759861127527: {1.0440888904303371: 1.0, 0.9869196285349113: 0.96875}, -1.0656344714335826: {1.158427414221189: 1.0}, -1.0545090817396379: {0.41522700958065256: 0.8076923076923077, 0.7010733190577819: 1.0, 0.6439040571623561: 0.9615384615384616, -0.21363487126903216: 0.38461538461538464}, -1.0266956075047762: {0.8154118428486337: 1.0, 0.5295655333715042: 0.8214285714285714}, -1.0155702178108317: {1.5014429855937443: 0.8333333333333334, 1.9587970807571515: 1.0, 1.1012581523257632: 0.6875, 1.7872892950708736: 0.9375}, -0.9933194384229423: {-0.32797339505988393: 1.0, -0.785327490223291: 0.0}, -0.9821940487289976: {0.9869196285349113: 1.0, 0.8725811047440596: 0.9354838709677419}, -0.9599432693411083: {-0.785327490223291: 0.0, -0.6709889664324392: 1.0}, -0.9265671002592744: {0.015042176312671369: 0.7368421052631579, 0.30088848578980076: 1.0}, -0.9154417105653297: {0.5867347952669302: 0.6857142857142857, 1.2155966761166148: 1.0}, -0.9098790157183574: {1.158427414221189: 1.0}, -0.9043163208713851: {-0.32797339505988393: 0.32, 0.07221143820809725: 0.6, -0.6709889664324392: 0.08, 0.6439040571623561: 1.0, -0.49948118074616155: 0.2, -0.04212708558275451: 0.52}, -0.8931909311774404: {-0.785327490223291: 0.0, -0.728158228327865: 0.14285714285714285, -0.6138197045370133: 0.42857142857142855, -0.3851426569553098: 1.0}, -0.8820655414834958: {0.12938070010352312: 0.8, 0.35805774768522663: 1.0, -0.4423119188507357: 0.3}, -0.8709401517895512: {-0.6138197045370133: 0.3333333333333333, -0.27080413316445806: 1.0, -0.728158228327865: 0.1111111111111111, -0.6709889664324392: 0.2222222222222222}, -0.8598147620956065: {-0.6709889664324392: 0.6666666666666666, -0.6138197045370133: 1.0, -0.785327490223291: 0.0}, -0.8264385930137725: {1.3299351999074667: 1.0, -0.785327490223291: 0.0, -0.21363487126903216: 0.2702702702702703}, -0.8097505084728556: {-0.785327490223291: 0.0, 0.30088848578980076: 1.0}, -0.798625118778911: {-0.6138197045370133: 0.6, -0.785327490223291: 0.0, -0.49948118074616155: 1.0}, -0.7874997290849662: {2.244643390234281: 1.0, -0.785327490223291: 0.0, -0.6709889664324392: 0.03773584905660377}, -0.7763743393910216: {-0.728158228327865: 0.047619047619047616, 0.12938070010352312: 0.7619047619047619, 0.41522700958065256: 1.0, -0.5566504426415875: 0.19047619047619047, -0.785327490223291: 0.0}, -0.7596862548501047: {1.1012581523257632: 0.8048780487804879, 1.5586122474891702: 1.0, 1.2155966761166148: 0.8536585365853658}, -0.74856086515616: {-0.785327490223291: 0.0, -0.6709889664324392: 1.0}, -0.7374354754622153: {0.5295655333715042: 1.0, -0.785327490223291: 0.0, -0.6138197045370133: 0.13043478260869565}, -0.7263100857682707: {-0.785327490223291: 0.0}, -0.7096220012273537: {-0.09929634747818039: 1.0, -0.6709889664324392: 0.16666666666666666, -0.728158228327865: 0.08333333333333333}, -0.6929339166864368: {0.5295655333715042: 1.0, -0.785327490223291: 0.0}, -0.6873712218394644: {-0.728158228327865: 0.2, -0.6138197045370133: 0.6, -0.49948118074616155: 1.0}, -0.6762458321455198: {0.5295655333715042: 1.0, 0.47239627147607843: 0.9565217391304348, -0.785327490223291: 0.0, -0.27080413316445806: 0.391304347826087, -0.6709889664324392: 0.08695652173913043}, -0.6651204424515752: {-0.728158228327865: 0.1, -0.6709889664324392: 0.2, -0.49948118074616155: 0.5, -0.21363487126903216: 1.0, -0.785327490223291: 0.0, -0.5566504426415875: 0.4, -0.6138197045370133: 0.3}, -0.6539950527576305: {-0.3851426569553098: 0.23333333333333334, 0.9297503666394855: 1.0, -0.6709889664324392: 0.06666666666666667, 0.47239627147607843: 0.7333333333333333, -0.785327490223291: 0.0}, -0.6373069682167135: {-0.785327490223291: 0.0, -0.15646560937360626: 0.36666666666666664, 0.6439040571623561: 0.8333333333333334, 0.7582425809532078: 0.9, 0.8725811047440596: 0.9666666666666667, 0.9297503666394855: 1.0, -0.27080413316445806: 0.3, -0.728158228327865: 0.03333333333333333}, -0.5983681042879072: {0.30088848578980076: 0.95, 0.35805774768522663: 1.0, -0.21363487126903216: 0.5, 0.07221143820809725: 0.75}, -0.5872427145939626: {-0.785327490223291: 0.0, 0.41522700958065256: 0.84, 0.6439040571623561: 1.0, 0.5295655333715042: 0.92}, -0.5705546300530456: {-0.49948118074616155: 0.38461538461538464, -0.3851426569553098: 0.5384615384615384, -0.04212708558275451: 1.0}, -0.5538665455121287: {-0.6138197045370133: 0.3333333333333333, -0.27080413316445806: 1.0, -0.4423119188507357: 0.6666666666666666}, 0.07471797219574403: {-0.728158228327865: 0.16666666666666666, -0.785327490223291: 0.0, -0.6709889664324392: 0.3333333333333333, -0.4423119188507357: 1.0}, 0.08028066704271636: {-0.04212708558275451: 0.5909090909090909, 0.47239627147607843: 1.0, -0.3851426569553098: 0.3181818181818182}, 0.13034492066546727: {0.47239627147607843: 1.0, -0.04212708558275451: 0.5909090909090909, -0.27080413316445806: 0.4090909090909091}, 0.3584154093913326: {0.35805774768522663: 0.5, 0.8154118428486337: 0.7, 1.2727659380120409: 0.9, 0.47239627147607843: 0.55, 1.5014429855937443: 1.0, 1.2155966761166148: 0.875, 0.5295655333715042: 0.575, 1.158427414221189: 0.85, 0.9297503666394855: 0.75, 0.8725811047440596: 0.725, 0.9869196285349113: 0.775, 1.0440888904303371: 0.8}, 0.3639781042383049: {0.35805774768522663: 1.0, -0.21363487126903216: 0.5, 0.07221143820809725: 0.75, -0.4423119188507357: 0.3, -0.27080413316445806: 0.45, -0.5566504426415875: 0.2, -0.32797339505988393: 0.4}, 0.3695407990852772: {-0.6138197045370133: 0.1875, -0.728158228327865: 0.0625, -0.49948118074616155: 0.3125, -0.785327490223291: 0.0, -0.6709889664324392: 0.125, -0.21363487126903216: 0.625, -0.5566504426415875: 0.25, -0.32797339505988393: 0.5, 0.12938070010352312: 1.0, -0.04212708558275451: 0.8125}, 0.37510349393224957: {-0.785327490223291: 0.0, -0.728158228327865: 0.04, -0.6138197045370133: 0.12, 0.6439040571623561: 1.0, 0.47239627147607843: 0.88, -0.5566504426415875: 0.16, 0.015042176312671369: 0.56, -0.21363487126903216: 0.4}, 0.38622888362619423: {1.7301200331754478: 1.0, 0.8154118428486337: 0.6363636363636364, -0.04212708558275451: 0.29545454545454547, 1.5014429855937443: 0.9090909090909091, 1.2155966761166148: 0.7954545454545454}, 0.39179157847316654: {-0.6709889664324392: 1.0}, 0.39735427332013884: {-0.728158228327865: 0.25, -0.5566504426415875: 1.0, -0.785327490223291: 0.0}, 0.4084796630140835: {0.5867347952669302: 1.0, 0.2437192238943749: 0.75}, -0.4259245640317652: {-0.785327490223291: 0.0, -0.4423119188507357: 1.0, -0.6138197045370133: 0.5, -0.728158228327865: 0.16666666666666666}, -0.41479917433782054: {0.015042176312671369: 0.5, 0.8154118428486337: 1.0, -0.6138197045370133: 0.10714285714285714, 0.12938070010352312: 0.5714285714285714, -0.21363487126903216: 0.35714285714285715, 0.6439040571623561: 0.8928571428571429}, -0.39811108979690357: {-0.785327490223291: 0.0, -0.6138197045370133: 1.0}, -0.37029761556204194: {-0.785327490223291: 0.0, 0.7582425809532078: 0.5, 2.3018126521297066: 1.0}, -0.3591722258680973: {0.2437192238943749: 0.72, 0.47239627147607843: 0.88, 0.5867347952669302: 0.96, 0.6439040571623561: 1.0, 0.5295655333715042: 0.92}, -0.32023336193929103: {-0.4423119188507357: 1.0, -0.49948118074616155: 0.8333333333333334}, -0.2979825825514017: {0.41522700958065256: 0.6774193548387096, 0.47239627147607843: 0.7096774193548387, 0.9297503666394855: 0.967741935483871, 0.9869196285349113: 1.0}, -0.2868571928574571: {1.7872892950708736: 1.0, 0.47239627147607843: 0.4888888888888889, -0.6709889664324392: 0.044444444444444446}, -0.2757318031635124: {-0.785327490223291: 0.0, 1.2155966761166148: 1.0, 0.35805774768522663: 0.5714285714285714, -0.5566504426415875: 0.11428571428571428, -0.6709889664324392: 0.05714285714285714, -0.6138197045370133: 0.08571428571428572, -0.04212708558275451: 0.37142857142857144, -0.3851426569553098: 0.2, -0.728158228327865: 0.02857142857142857, 0.12938070010352312: 0.45714285714285713}, -0.26460641346956776: {1.7872892950708736: 1.0, -0.785327490223291: 0.0, 0.47239627147607843: 0.4888888888888889, 0.2437192238943749: 0.4, -0.5566504426415875: 0.08888888888888889}, -0.25348102377562315: {-0.785327490223291: 0.0, 1.2155966761166148: 1.0, -0.5566504426415875: 0.11428571428571428, -0.49948118074616155: 0.14285714285714285, -0.6709889664324392: 0.05714285714285714, 0.6439040571623561: 0.7142857142857143, -0.15646560937360626: 0.3142857142857143}, -0.24235563408167848: {-0.6138197045370133: 0.3, -0.785327490223291: 0.0, -0.21363487126903216: 1.0, -0.5566504426415875: 0.4, -0.6709889664324392: 0.2, -0.32797339505988393: 0.8}, -0.23123024438773382: {-0.785327490223291: 0.0, -0.728158228327865: 0.045454545454545456, -0.15646560937360626: 0.5, -0.32797339505988393: 0.36363636363636365, -0.49948118074616155: 0.22727272727272727, 0.12938070010352312: 0.7272727272727273, 0.41522700958065256: 0.9545454545454546, 0.47239627147607843: 1.0, 0.35805774768522663: 0.9090909090909091}, -0.20897946499984452: {-0.728158228327865: 0.045454545454545456, -0.32797339505988393: 0.36363636363636365, -0.785327490223291: 0.0, -0.5566504426415875: 0.18181818181818182, -0.6709889664324392: 0.09090909090909091, -0.6138197045370133: 0.13636363636363635, 0.12938070010352312: 0.7272727272727273, 0.47239627147607843: 1.0}, -0.19785407530589988: {-0.32797339505988393: 0.36363636363636365, 0.47239627147607843: 1.0}, -0.18672868561195524: {-0.6709889664324392: 0.11764705882352941, -0.49948118074616155: 0.29411764705882354, -0.785327490223291: 0.0, 0.07221143820809725: 0.8823529411764706, -0.4423119188507357: 0.35294117647058826, 0.18654996199894902: 1.0, -0.728158228327865: 0.058823529411764705}, -0.17560329591801058: {-0.728158228327865: 0.011235955056179775, 3.159351580561095: 0.7752808988764045, -0.785327490223291: 0.0, 0.41522700958065256: 0.23595505617977527, -0.09929634747818039: 0.1348314606741573, -0.6709889664324392: 0.02247191011235955, 4.302736818469612: 1.0, 0.12938070010352312: 0.1797752808988764, -0.4423119188507357: 0.06741573033707865}, -0.14222712683617664: {0.35805774768522663: 0.5405405405405406, -0.21363487126903216: 0.2702702702702703, -0.785327490223291: 0.0, 1.3299351999074667: 1.0}, -0.13110173714223197: {-0.785327490223291: 0.0, -0.6709889664324392: 1.0}, -0.10885095775434268: {0.07221143820809725: 0.5555555555555556, -0.5566504426415875: 0.14814814814814814, -0.04212708558275451: 0.48148148148148145, -0.785327490223291: 0.0, 0.7582425809532078: 1.0, -0.728158228327865: 0.037037037037037035, -0.3851426569553098: 0.25925925925925924}, -0.08660017836645338: {-0.785327490223291: 0.0, 0.12938070010352312: 0.4, 0.18654996199894902: 0.425, -0.15646560937360626: 0.275, -0.32797339505988393: 0.2, 1.5014429855937443: 1.0, -0.728158228327865: 0.025}, -0.06991209382553641: {-0.09929634747818039: 0.75, 0.12938070010352312: 1.0}, -0.06434939897856409: {-0.785327490223291: 0.0, 0.41522700958065256: 1.0, 0.2437192238943749: 0.8571428571428571, -0.49948118074616155: 0.23809523809523808}, -0.04209861959067479: {-0.785327490223291: 0.0, -0.728158228327865: 1.0}, -0.03097322989673014: {-0.49948118074616155: 0.13513513513513514, 1.3299351999074667: 1.0, -0.728158228327865: 0.02702702702702703, -0.6138197045370133: 0.08108108108108109, 1.1012581523257632: 0.8918918918918919, 0.18654996199894902: 0.4594594594594595}, 0.007965634032076131: {0.07221143820809725: 0.5555555555555556, 0.7582425809532078: 1.0, 0.47239627147607843: 0.8148148148148148}, 0.01909102372602078: {0.6439040571623561: 1.0, -0.32797339505988393: 0.32, 0.2437192238943749: 0.72}, 0.03021641341996543: {0.9297503666394855: 1.0, 0.6439040571623561: 0.8333333333333334, 0.7010733190577819: 0.8666666666666667}, 0.04134180311391008: {-0.785327490223291: 0.0, -0.728158228327865: 0.25, -0.6709889664324392: 0.5, -0.6138197045370133: 0.75, -0.5566504426415875: 1.0}, 0.058029887654827056: {-0.728158228327865: 0.5, -0.6709889664324392: 1.0}, 0.06915527734877171: {-0.6709889664324392: 0.2857142857142857, -0.3851426569553098: 1.0}, 0.1136568361245503: {-0.785327490223291: 0.0}, 0.12478222581849495: {-0.728158228327865: 1.0, -0.785327490223291: 0.0}, 0.17484647944124587: {-0.785327490223291: 0.0}, 0.1859718691351905: {-0.728158228327865: 0.125, -0.5566504426415875: 0.5, -0.785327490223291: 0.0, -0.32797339505988393: 1.0}, 0.19709725882913517: {-0.32797339505988393: 0.6666666666666666, -0.09929634747818039: 1.0}, 0.21934803821702448: {-0.785327490223291: 0.0, -0.728158228327865: 1.0}, 0.23603612275794145: {-0.785327490223291: 0.0, -0.5566504426415875: 1.0}, 0.2582869021458307: {-0.785327490223291: 0.0, -0.728158228327865: 0.08333333333333333, -0.09929634747818039: 1.0, -0.32797339505988393: 0.6666666666666666, -0.5566504426415875: 0.3333333333333333}, 0.2694122918397754: {-0.785327490223291: 0.0}, 0.28053768153372005: {-0.785327490223291: 0.0, -0.3851426569553098: 1.0}, 0.3083511557685817: {-0.785327490223291: 0.0}, 0.3194765454625263: {-0.04212708558275451: 0.9285714285714286, 0.015042176312671369: 1.0, -0.785327490223291: 0.0, -0.49948118074616155: 0.35714285714285715}, 1.393076650928185: {0.5867347952669302: 1.0, -0.6138197045370133: 0.125, -0.728158228327865: 0.041666666666666664, -0.785327490223291: 0.0, -0.6709889664324392: 0.08333333333333333}, 1.4042020406221296: {-0.5566504426415875: 0.5, -0.785327490223291: 0.0, -0.728158228327865: 0.125, -0.6709889664324392: 0.25, -0.3851426569553098: 0.875, -0.4423119188507357: 0.75, -0.32797339505988393: 1.0}, 1.4153274303160743: {-0.6138197045370133: 0.21428571428571427, -0.5566504426415875: 0.2857142857142857, -0.49948118074616155: 0.35714285714285715, -0.785327490223291: 0.0, 0.015042176312671369: 1.0, -0.728158228327865: 0.07142857142857142, -0.32797339505988393: 0.5714285714285714}, 0.4529812217898621: {0.5295655333715042: 1.0, 0.30088848578980076: 0.8260869565217391, -0.32797339505988393: 0.34782608695652173}, 0.4641066114838068: {-0.09929634747818039: 1.0, -0.785327490223291: 0.0, -0.728158228327865: 0.08333333333333333}, 0.4752320011777514: {3.50236715193365: 0.646551724137931, 0.35805774768522663: 0.1724137931034483, 0.18654996199894902: 0.14655172413793102, 0.30088848578980076: 0.16379310344827586, 0.12938070010352312: 0.13793103448275862, 5.846306889646112: 1.0, 0.2437192238943749: 0.15517241379310345}, 0.48635739087169605: {-0.21363487126903216: 0.43478260869565216, -0.785327490223291: 0.0, 0.5295655333715042: 1.0}, 0.4974827805656407: {-0.728158228327865: 0.09090909090909091, -0.785327490223291: 0.0, -0.15646560937360626: 1.0, -0.32797339505988393: 0.7272727272727273, -0.21363487126903216: 0.9090909090909091}, 0.5086081702595854: {0.2437192238943749: 1.0, -0.785327490223291: 0.0, -0.27080413316445806: 0.5}, 0.51973355995353: {-0.32797339505988393: 0.34782608695652173, -0.785327490223291: 0.0, -0.6709889664324392: 0.08695652173913043, -0.3851426569553098: 0.30434782608695654, -0.728158228327865: 0.043478260869565216, -0.5566504426415875: 0.17391304347826086, -0.09929634747818039: 0.5217391304347826, 0.5295655333715042: 1.0, 0.47239627147607843: 0.9565217391304348}, 0.5308589496474746: {0.35805774768522663: 1.0, -0.6709889664324392: 0.1, -0.3851426569553098: 0.35, -0.4423119188507357: 0.3, 0.015042176312671369: 0.7, -0.6138197045370133: 0.15, -0.785327490223291: 0.0, -0.49948118074616155: 0.25, 0.07221143820809725: 0.75, -0.5566504426415875: 0.2}, 0.5419843393414193: {-0.21363487126903216: 0.43478260869565216, -0.785327490223291: 0.0, -0.728158228327865: 0.043478260869565216, -0.5566504426415875: 0.17391304347826086, -0.04212708558275451: 0.5652173913043478, -0.3851426569553098: 0.30434782608695654, 0.5295655333715042: 1.0, -0.6709889664324392: 0.08695652173913043, -0.27080413316445806: 0.391304347826087}, 0.5531097290353639: {0.12938070010352312: 1.0, -0.728158228327865: 0.0625, -0.5566504426415875: 0.25, -0.3851426569553098: 0.4375, -0.785327490223291: 0.0, -0.32797339505988393: 0.5, -0.6709889664324392: 0.125}, 0.5697978135762809: {0.07221143820809725: 0.625, 0.5867347952669302: 1.0}, 0.5809232032702256: {0.47239627147607843: 1.0, 0.12938070010352312: 0.7272727272727273, -0.5566504426415875: 0.18181818181818182}, 0.6142993723520596: {-0.4423119188507357: 1.0, -0.5566504426415875: 0.6666666666666666, -0.49948118074616155: 0.8333333333333334}, 0.6254247620460042: {-0.785327490223291: 0.0, -0.4423119188507357: 1.0}, 0.6365501517399488: {-0.728158228327865: 0.1, -0.21363487126903216: 1.0, -0.5566504426415875: 0.4}, 0.6588009311278381: {-0.785327490223291: 0.0, 0.41522700958065256: 1.0}, 0.6810517105157274: {-0.27080413316445806: 0.8181818181818182, -0.5566504426415875: 0.36363636363636365, -0.15646560937360626: 1.0}, 0.742241353832423: {-0.27080413316445806: 1.0, -0.785327490223291: 0.0}, 0.7700548280672846: {-0.728158228327865: 1.0, -0.785327490223291: 0.0}, 0.7923056074551739: {0.07221143820809725: 1.0, -0.4423119188507357: 0.4}, 0.8256817765370078: {-0.785327490223291: 0.0, -0.49948118074616155: 1.0, -0.728158228327865: 0.2, -0.6709889664324392: 0.4}, 0.8368071662309525: {-0.785327490223291: 0.0}, 0.8479325559248971: {0.8154118428486337: 0.7368421052631579, 1.3871044618028925: 1.0, 0.5867347952669302: 0.631578947368421}, 0.8590579456188417: {-0.785327490223291: 0.0, 0.5295655333715042: 0.92, 0.6439040571623561: 1.0, 0.35805774768522663: 0.8}, 0.8813087250067311: {-0.32797339505988393: 0.2, 1.5014429855937443: 1.0, 1.4442737236983183: 0.975}, 0.897996809547648: {-0.785327490223291: 0.0, 0.07221143820809725: 1.0}, 0.9202475889355374: {-0.15646560937360626: 1.0}, 0.948061063170399: {-0.09929634747818039: 0.6, 0.35805774768522663: 1.0}, 0.9591864528643437: {-0.21363487126903216: 0.5555555555555556, 0.2437192238943749: 1.0}, 1.0036880116401223: {-0.785327490223291: 0.0, -0.6709889664324392: 1.0}, 1.0148134013340668: {-0.15646560937360626: 0.3793103448275862, 0.8725811047440596: 1.0}, 1.0426268755689285: {0.12938070010352312: 1.0}, 1.0760030446507625: {-0.6709889664324392: 0.05405405405405406, 1.3299351999074667: 1.0}, 1.137192687967458: {-0.785327490223291: 0.0, -0.5566504426415875: 1.0}, 1.1483180776614026: {-0.728158228327865: 0.038461538461538464, 0.7010733190577819: 1.0}, 1.187256941590209: {0.2437192238943749: 0.9, 0.35805774768522663: 1.0}, 1.1983823312841535: {-0.49948118074616155: 1.0, -0.785327490223291: 0.0}, 1.2261958055190152: {0.07221143820809725: 0.5769230769230769, -0.785327490223291: 0.0, 0.7010733190577819: 1.0}, 1.2595719746008491: {0.6439040571623561: 1.0}, 1.3096362282236: {-0.6138197045370133: 0.08333333333333333, -0.27080413316445806: 0.25, 0.2437192238943749: 0.5, 1.2727659380120409: 1.0, -0.728158228327865: 0.027777777777777776, -0.32797339505988393: 0.2222222222222222}, 1.3318870076114895: {-0.785327490223291: 0.0, -0.728158228327865: 0.2, -0.49948118074616155: 1.0}, 1.343012397305434: {-0.785327490223291: 0.0, -0.6138197045370133: 1.0, -0.728158228327865: 0.3333333333333333}, 1.359700481846351: {1.5586122474891702: 0.9761904761904762, 0.015042176312671369: 0.3333333333333333, 1.615781509384596: 1.0}, 1.3708258715402957: {-0.6138197045370133: 0.6, -0.5566504426415875: 0.8, -0.49948118074616155: 1.0}, 1.4487035993979083: {1.1012581523257632: 1.0}, 1.4765170736327697: {1.158427414221189: 0.9714285714285714, 1.2155966761166148: 1.0}, 1.4876424633267145: {1.2155966761166148: 1.0, 1.0440888904303371: 0.9142857142857143}, 1.5154559375615761: {0.8725811047440596: 0.5576923076923077, 2.187474128338855: 1.0}, 1.5599574963373546: {1.2155966761166148: 1.0, 1.158427414221189: 0.9714285714285714}, 1.5766455808782718: {1.2155966761166148: 0.5, 3.216520842456521: 1.0}, 1.5877709705722163: {1.1012581523257632: 0.9428571428571428, 1.2155966761166148: 1.0}, 1.598896360266161: {1.2155966761166148: 0.5, 3.216520842456521: 1.0, 3.159351580561095: 0.9857142857142858, 1.1012581523257632: 0.4714285714285714, 1.158427414221189: 0.4857142857142857, 0.9297503666394855: 0.42857142857142855}, 1.6267098345010227: {3.159351580561095: 1.0}, 1.6600860035828566: {1.158427414221189: 1.0}, 1.6712113932768011: {0.07221143820809725: 1.0}, -1.22695262199578: {0.41522700958065256: 1.0}, -0.8542520672486342: {0.7010733190577819: 0.8387096774193549, 0.9869196285349113: 1.0}, 0.4140423578610558: {-0.04212708558275451: 1.0}, -0.336921446480208: {-0.785327490223291: 0.0}, -0.3313587516332357: {0.2437192238943749: 1.0}, -0.22010485469378918: {-0.09929634747818039: 1.0}, -0.15335251653012127: {-0.785327490223291: 0.0, -0.728158228327865: 1.0}, -0.014285145355813166: {-0.5566504426415875: 1.0}, 0.28610037638069236: {-0.6709889664324392: 1.0}, 0.33060193515647096: {-0.5566504426415875: 1.0}, 0.6476755414338935: {-0.6138197045370133: 1.0, -0.785327490223291: 0.0}, 0.7867429126082016: {0.07221143820809725: 1.0}, 0.9091221992415928: {0.2437192238943749: 1.0}, 0.9869999270992053: {0.6439040571623561: 1.0}, 1.1594434673553473: {-0.4423119188507357: 1.0, -0.6138197045370133: 0.5}, 1.170568857049292: {-0.728158228327865: 1.0, -0.785327490223291: 0.0}, 1.23732119521296: {0.2437192238943749: 1.0}, 1.3819512612342404: {-0.49948118074616155: 1.0, -0.6138197045370133: 0.6}, -1.416084246792839: {-0.27080413316445806: 1.0}, -1.004444828116887: {2.4161511759205587: 1.0}, -0.9488178796471637: {0.8154118428486337: 1.0}, -0.9376924899532191: {0.2437192238943749: 1.0}, -0.3869857001029589: {0.35805774768522663: 1.0}, -0.30910797224534636: {0.2437192238943749: 0.9, 0.35805774768522663: 1.0}, -0.16447790622406594: {0.8154118428486337: 1.0}, -0.11997634744828733: {-0.09929634747818039: 1.0}, -0.09772556806039803: {-0.3851426569553098: 1.0}, -0.025410535049757817: {0.5295655333715042: 1.0}, 0.091406056736661: {-0.785327490223291: 0.0}, 0.15259570005335657: {-0.5566504426415875: 1.0}, 0.2082226485230798: {-0.785327490223291: 0.0}, 0.24716151245188608: {-0.32797339505988393: 1.0}, 0.297225766074637: {-0.09929634747818039: 1.0}, 0.3417273248504156: {-0.5566504426415875: 0.8, -0.49948118074616155: 1.0}, 0.5920485929641702: {1.2727659380120409: 1.0, 0.12938070010352312: 0.4444444444444444}, 0.6031739826581148: {-0.15646560937360626: 1.0}, 0.692177100209672: {-0.4423119188507357: 1.0}, 0.7144278795975614: {0.07221143820809725: 1.0}, 0.7311159641384783: {0.7010733190577819: 1.0}, 0.8701833353127865: {-0.32797339505988393: 1.0}, 0.9258102837825097: {0.30088848578980076: 1.0}, 0.9758745374052606: {-0.21363487126903216: 1.0}, 1.0315014858749838: {0.8154118428486337: 1.0}, 1.0648776549568177: {-0.785327490223291: 0.0}, 1.0871284343447072: {0.5295655333715042: 1.0}, 1.1205046034265411: {-0.49948118074616155: 1.0}, 1.2150704158250705: {0.7582425809532078: 1.0}, 1.2484465849069044: {0.30088848578980076: 1.0}, 1.2706973642947939: {0.7582425809532078: 1.0}, 1.2818227539887386: {-0.5566504426415875: 1.0}, 1.292948143682683: {0.2437192238943749: 1.0}, 1.4598289890918528: {1.2155966761166148: 1.0}, 1.615584444807078: {3.216520842456521: 1.0}}\n"
     ]
    }
   ],
   "source": [
    "# create an empty dictionary\n",
    "course_dict = {}\n",
    "\n",
    "# iterate through the dataframe to match {course code:{Seats available scaled: Seats unscaled average}\n",
    "for index, row in seats_prob.iterrows():\n",
    "    # get the course code, seats available, and seats unscaled values\n",
    "    course_code = row['COURSE_CODE']\n",
    "    seats_available = row['SEATS_AVAILABLE']\n",
    "    seats_unscaled = row['SEATS_UNSCALED']\n",
    "    \n",
    "    # if the course code doesn't exist in the outer dictionary, create a new inner dictionary\n",
    "    if course_code not in course_dict:\n",
    "        course_dict[course_code] = {}\n",
    "    \n",
    "    # add the seats available and seats unscaled values to the inner dictionary\n",
    "    course_dict[course_code][seats_available] = seats_unscaled\n",
    "    \n",
    "\n",
    "print(course_dict)\n"
   ]
  },
  {
   "cell_type": "code",
   "execution_count": 183,
   "id": "ef950df6",
   "metadata": {},
   "outputs": [
    {
     "name": "stdout",
     "output_type": "stream",
     "text": [
      "{-0.6709889664324392: 2, -0.728158228327865: 1, -0.21363487126903216: 10, -0.785327490223291: 0, 0.7010733190577819: 26, 0.8725811047440596: 29, -0.5566504426415875: 4, 1.1012581523257632: 33, -0.49948118074616155: 5, 0.30088848578980076: 19, 0.6439040571623561: 25, -0.4423119188507357: 6, -0.15646560937360626: 11, 0.47239627147607843: 22, 0.8154118428486337: 28, 0.18654996199894902: 17, -0.32797339505988393: 8, 0.2437192238943749: 18, 0.35805774768522663: 20, 1.0440888904303371: 32, 0.12938070010352312: 16, 0.9297503666394855: 30, -0.3851426569553098: 7, -0.04212708558275451: 13, 1.5586122474891702: 41, 0.41522700958065256: 21, -0.09929634747818039: 12, -0.6138197045370133: 3, -0.27080413316445806: 9, 0.07221143820809725: 15, 1.3299351999074667: 37, 0.015042176312671369: 14, 3.5595364138290764: 76, 0.5295655333715042: 23, 0.5867347952669302: 24, 0.7582425809532078: 27, 1.2727659380120409: 36, 1.4442737236983183: 39, 2.587658961606836: 59, 0.9869196285349113: 31, 1.7301200331754478: 44, 1.7872892950708736: 45, 1.9016278188617257: 47, 1.615781509384596: 42, 1.2155966761166148: 35, 2.0731356045480034: 50, 3.731044199515354: 79, 2.130304866443429: 51, 1.3871044618028925: 38, 2.0159663426525776: 49, 2.644828223502262: 60, 1.5014429855937443: 40, 1.9587970807571515: 48, 1.8444585569662997: 46, 2.3018126521297066: 54, 3.216520842456521: 70, 4.359906080365039: 90, 3.7882134614107796: 80, 1.158427414221189: 34, 2.8735052710839657: 64, 3.045013056770243: 67, 1.672950771280022: 43, 2.9306745329793915: 65, 3.102182318665669: 68, 3.3308593662473727: 72, 2.701997485397688: 61, 4.302736818469612: 89, 2.358981914025133: 55, 3.3880286281427985: 73, 2.4733204378159845: 57, 2.244643390234281: 53, 2.187474128338855: 52, 2.5304896997114104: 58, 9.33363186526709: 177, 9.162124079580812: 174, 2.4161511759205587: 56, 2.9878437948748173: 66, 9.047785555789961: 172, 9.219293341476238: 175, 2.81633600918854: 63, 6.41799950860037: 126, 8.761939246312831: 167, 3.9597212470970575: 83, 8.36175441304485: 160, 8.876277770103684: 169, 5.674799103959834: 113, 7.8472310559860174: 151, 8.075908103567722: 155, 3.50236715193365: 75, 9.505139650953367: 180, 6.074983937227815: 120, 7.218369175136332: 140, 6.875353603763777: 134, 9.390801127162517: 178, 2.759166747293114: 62, 3.273690104351947: 71, 8.990616293894535: 171, 3.616705675724502: 77, 4.76009091363302: 97, 9.447970389057941: 179, 3.159351580561095: 69, 5.846306889646112: 116}\n"
     ]
    }
   ],
   "source": [
    "# convert the dataframe to a dictionary\n",
    "seats_dict = dict(zip(seats_andscaled['SEATS_AVAILABLE'], seats_andscaled['SEATS_UNSCALED']))\n",
    "\n",
    "# print the resulting dictionary\n",
    "print(seats_dict)"
   ]
  },
  {
   "cell_type": "markdown",
   "id": "ffa6635f",
   "metadata": {},
   "source": [
    "# Working on Outliers"
   ]
  },
  {
   "cell_type": "code",
   "execution_count": 184,
   "id": "0526e621",
   "metadata": {},
   "outputs": [],
   "source": [
    "# # calculate the first quartile (Q1)\n",
    "# Q1 = y['SEATS_AVAILABLE'].quantile(0.25)\n",
    "\n",
    "# # calculate the third quartile (Q3)\n",
    "# Q3 = y['SEATS_AVAILABLE'].quantile(0.75)\n",
    "\n",
    "# # calculate the interquartile range (IQR)\n",
    "# IQR = Q3 - Q1\n",
    "\n",
    "# # define the lower and upper bounds for outliers\n",
    "# lower_bound = Q1 - 1.5 * IQR\n",
    "# upper_bound = Q3 + 1.5 * IQR\n",
    "\n",
    "# # find the outliers\n",
    "# outliers = y[(y['SEATS_AVAILABLE'] < lower_bound) | (y['SEATS_AVAILABLE'] > upper_bound)]\n",
    "\n",
    "# # print the outliers\n",
    "# print(len(outliers))\n",
    "# print(max(outliers))\n"
   ]
  },
  {
   "cell_type": "code",
   "execution_count": 185,
   "id": "4e1c989a",
   "metadata": {},
   "outputs": [],
   "source": [
    "# import matplotlib.pyplot as plt\n",
    "\n",
    "# # assume your dataframe column with outliers is named 'column_with_outliers'\n",
    "# outliers = y['SEATS_AVAILABLE'][(y['SEATS_AVAILABLE'] > upper_bound) | (y['SEATS_AVAILABLE'] < lower_bound)]\n",
    "\n",
    "# # plot a histogram of the column values\n",
    "# plt.hist(y['SEATS_AVAILABLE'], bins=30)\n",
    "\n",
    "# # plot red circles around the outliers\n",
    "# plt.plot(outliers, [0]*len(outliers), 'ro', markersize=10)\n",
    "\n",
    "# # add labels and title\n",
    "# plt.xlabel('Column values')\n",
    "# plt.ylabel('Frequency')\n",
    "# plt.title('Outliers in Column_with_outliers')\n",
    "\n",
    "# # show the plot\n",
    "# plt.show()\n"
   ]
  },
  {
   "cell_type": "code",
   "execution_count": 186,
   "id": "0228a43c",
   "metadata": {},
   "outputs": [],
   "source": [
    "# unique_values = y[(y['SEATS_AVAILABLE'] < 0) | (y['SEATS_AVAILABLE'] > 40)]['SEATS_AVAILABLE'].unique()\n",
    "# unique_values.sort()\n",
    "# unique_values"
   ]
  },
  {
   "cell_type": "code",
   "execution_count": 187,
   "id": "ae54edd1",
   "metadata": {},
   "outputs": [],
   "source": [
    "# y.loc[y['SEATS_AVAILABLE'] < 0, 'SEATS_AVAILABLE'] = 0"
   ]
  },
  {
   "cell_type": "code",
   "execution_count": 188,
   "id": "fbd600b2",
   "metadata": {},
   "outputs": [],
   "source": [
    "# y['SEATS_AVAILABLE'].value_counts().head(10)"
   ]
  },
  {
   "cell_type": "code",
   "execution_count": 189,
   "id": "ceb3c0f2",
   "metadata": {},
   "outputs": [],
   "source": [
    "# y.loc[y['SEATS_AVAILABLE'] == 30, 'SEATS_AVAILABLE'] = 10\n",
    "# y.loc[y['SEATS_AVAILABLE'] == 29, 'SEATS_AVAILABLE'] = 10\n",
    "# y.loc[y['SEATS_AVAILABLE'] == 28, 'SEATS_AVAILABLE'] = 10\n",
    "# y.loc[y['SEATS_AVAILABLE'] == 25, 'SEATS_AVAILABLE'] = 10\n",
    "# y.loc[y['SEATS_AVAILABLE'] == 20, 'SEATS_AVAILABLE'] = 10"
   ]
  },
  {
   "cell_type": "code",
   "execution_count": 190,
   "id": "dea986cc",
   "metadata": {},
   "outputs": [],
   "source": [
    "#y['SEATS_AVAILABLE'].value_counts().head(20)"
   ]
  },
  {
   "cell_type": "code",
   "execution_count": 191,
   "id": "0019cbdf",
   "metadata": {},
   "outputs": [],
   "source": [
    "X = df_scaled.drop('SEATS_AVAILABLE', axis=1) "
   ]
  },
  {
   "cell_type": "code",
   "execution_count": 192,
   "id": "4be7919b",
   "metadata": {},
   "outputs": [
    {
     "data": {
      "text/html": [
       "<div>\n",
       "<style scoped>\n",
       "    .dataframe tbody tr th:only-of-type {\n",
       "        vertical-align: middle;\n",
       "    }\n",
       "\n",
       "    .dataframe tbody tr th {\n",
       "        vertical-align: top;\n",
       "    }\n",
       "\n",
       "    .dataframe thead th {\n",
       "        text-align: right;\n",
       "    }\n",
       "</style>\n",
       "<table border=\"1\" class=\"dataframe\">\n",
       "  <thead>\n",
       "    <tr style=\"text-align: right;\">\n",
       "      <th></th>\n",
       "      <th>SEATS_AVAILABLE</th>\n",
       "    </tr>\n",
       "  </thead>\n",
       "  <tbody>\n",
       "    <tr>\n",
       "      <th>0</th>\n",
       "      <td>-0.670989</td>\n",
       "    </tr>\n",
       "    <tr>\n",
       "      <th>1</th>\n",
       "      <td>-0.728158</td>\n",
       "    </tr>\n",
       "    <tr>\n",
       "      <th>2</th>\n",
       "      <td>-0.728158</td>\n",
       "    </tr>\n",
       "    <tr>\n",
       "      <th>3</th>\n",
       "      <td>-0.728158</td>\n",
       "    </tr>\n",
       "    <tr>\n",
       "      <th>4</th>\n",
       "      <td>-0.728158</td>\n",
       "    </tr>\n",
       "  </tbody>\n",
       "</table>\n",
       "</div>"
      ],
      "text/plain": [
       "   SEATS_AVAILABLE\n",
       "0        -0.670989\n",
       "1        -0.728158\n",
       "2        -0.728158\n",
       "3        -0.728158\n",
       "4        -0.728158"
      ]
     },
     "execution_count": 192,
     "metadata": {},
     "output_type": "execute_result"
    }
   ],
   "source": [
    "y= pd.DataFrame({'SEATS_AVAILABLE': df_scaled['SEATS_AVAILABLE'].values})\n",
    "temp=pd.DataFrame({'SEATS_AVAILABLE':y['SEATS_AVAILABLE'].values})\n",
    "temp.head()"
   ]
  },
  {
   "cell_type": "code",
   "execution_count": 193,
   "id": "0e21b3d2",
   "metadata": {},
   "outputs": [],
   "source": [
    "from sklearn.model_selection import train_test_split\n",
    "X_train, X_test, y_train, y_test = train_test_split(X, y, test_size=0.2, random_state=42)"
   ]
  },
  {
   "cell_type": "code",
   "execution_count": 194,
   "id": "37c4c6aa",
   "metadata": {},
   "outputs": [
    {
     "data": {
      "text/html": [
       "<div>\n",
       "<style scoped>\n",
       "    .dataframe tbody tr th:only-of-type {\n",
       "        vertical-align: middle;\n",
       "    }\n",
       "\n",
       "    .dataframe tbody tr th {\n",
       "        vertical-align: top;\n",
       "    }\n",
       "\n",
       "    .dataframe thead th {\n",
       "        text-align: right;\n",
       "    }\n",
       "</style>\n",
       "<table border=\"1\" class=\"dataframe\">\n",
       "  <thead>\n",
       "    <tr style=\"text-align: right;\">\n",
       "      <th></th>\n",
       "      <th>COURSE_CODE</th>\n",
       "      <th>COURSE_NAME</th>\n",
       "      <th>SECTION_NUMBER</th>\n",
       "      <th>UNITS</th>\n",
       "      <th>CLASS_TYPE</th>\n",
       "      <th>MEETING_DAYS</th>\n",
       "      <th>CLASS_HOURS</th>\n",
       "      <th>INSTRUCTOR</th>\n",
       "      <th>YEAR</th>\n",
       "      <th>SEMESTER</th>\n",
       "    </tr>\n",
       "  </thead>\n",
       "  <tbody>\n",
       "    <tr>\n",
       "      <th>0</th>\n",
       "      <td>-0.542741</td>\n",
       "      <td>1.027485</td>\n",
       "      <td>-0.377062</td>\n",
       "      <td>0.458054</td>\n",
       "      <td>-0.429194</td>\n",
       "      <td>-0.742716</td>\n",
       "      <td>-0.997454</td>\n",
       "      <td>-0.583817</td>\n",
       "      <td>-0.961011</td>\n",
       "      <td>1.048235</td>\n",
       "    </tr>\n",
       "    <tr>\n",
       "      <th>1</th>\n",
       "      <td>-0.542741</td>\n",
       "      <td>1.027485</td>\n",
       "      <td>-0.280125</td>\n",
       "      <td>-2.180871</td>\n",
       "      <td>-1.060161</td>\n",
       "      <td>-0.424287</td>\n",
       "      <td>0.729107</td>\n",
       "      <td>0.448771</td>\n",
       "      <td>-0.961011</td>\n",
       "      <td>1.048235</td>\n",
       "    </tr>\n",
       "    <tr>\n",
       "      <th>2</th>\n",
       "      <td>-0.542741</td>\n",
       "      <td>1.027485</td>\n",
       "      <td>-0.183189</td>\n",
       "      <td>-2.180871</td>\n",
       "      <td>-1.060161</td>\n",
       "      <td>1.486291</td>\n",
       "      <td>0.729107</td>\n",
       "      <td>-1.219256</td>\n",
       "      <td>-0.961011</td>\n",
       "      <td>1.048235</td>\n",
       "    </tr>\n",
       "    <tr>\n",
       "      <th>3</th>\n",
       "      <td>-0.531616</td>\n",
       "      <td>-0.869518</td>\n",
       "      <td>-0.377062</td>\n",
       "      <td>0.458054</td>\n",
       "      <td>0.958934</td>\n",
       "      <td>1.167861</td>\n",
       "      <td>-1.187186</td>\n",
       "      <td>-0.734316</td>\n",
       "      <td>-0.961011</td>\n",
       "      <td>1.048235</td>\n",
       "    </tr>\n",
       "    <tr>\n",
       "      <th>4</th>\n",
       "      <td>-0.531616</td>\n",
       "      <td>-0.869518</td>\n",
       "      <td>-0.280125</td>\n",
       "      <td>-2.180871</td>\n",
       "      <td>-1.060161</td>\n",
       "      <td>0.531002</td>\n",
       "      <td>-0.276472</td>\n",
       "      <td>-0.734316</td>\n",
       "      <td>-0.961011</td>\n",
       "      <td>1.048235</td>\n",
       "    </tr>\n",
       "  </tbody>\n",
       "</table>\n",
       "</div>"
      ],
      "text/plain": [
       "   COURSE_CODE  COURSE_NAME  SECTION_NUMBER     UNITS  CLASS_TYPE  \\\n",
       "0    -0.542741     1.027485       -0.377062  0.458054   -0.429194   \n",
       "1    -0.542741     1.027485       -0.280125 -2.180871   -1.060161   \n",
       "2    -0.542741     1.027485       -0.183189 -2.180871   -1.060161   \n",
       "3    -0.531616    -0.869518       -0.377062  0.458054    0.958934   \n",
       "4    -0.531616    -0.869518       -0.280125 -2.180871   -1.060161   \n",
       "\n",
       "   MEETING_DAYS  CLASS_HOURS  INSTRUCTOR      YEAR  SEMESTER  \n",
       "0     -0.742716    -0.997454   -0.583817 -0.961011  1.048235  \n",
       "1     -0.424287     0.729107    0.448771 -0.961011  1.048235  \n",
       "2      1.486291     0.729107   -1.219256 -0.961011  1.048235  \n",
       "3      1.167861    -1.187186   -0.734316 -0.961011  1.048235  \n",
       "4      0.531002    -0.276472   -0.734316 -0.961011  1.048235  "
      ]
     },
     "execution_count": 194,
     "metadata": {},
     "output_type": "execute_result"
    }
   ],
   "source": [
    "X.head()"
   ]
  },
  {
   "cell_type": "code",
   "execution_count": 195,
   "id": "e43f0e24",
   "metadata": {},
   "outputs": [
    {
     "data": {
      "text/html": [
       "<div>\n",
       "<style scoped>\n",
       "    .dataframe tbody tr th:only-of-type {\n",
       "        vertical-align: middle;\n",
       "    }\n",
       "\n",
       "    .dataframe tbody tr th {\n",
       "        vertical-align: top;\n",
       "    }\n",
       "\n",
       "    .dataframe thead th {\n",
       "        text-align: right;\n",
       "    }\n",
       "</style>\n",
       "<table border=\"1\" class=\"dataframe\">\n",
       "  <thead>\n",
       "    <tr style=\"text-align: right;\">\n",
       "      <th></th>\n",
       "      <th>COURSE_CODE</th>\n",
       "      <th>COURSE_NAME</th>\n",
       "      <th>SECTION_NUMBER</th>\n",
       "      <th>UNITS</th>\n",
       "      <th>CLASS_TYPE</th>\n",
       "      <th>MEETING_DAYS</th>\n",
       "      <th>CLASS_HOURS</th>\n",
       "      <th>INSTRUCTOR</th>\n",
       "      <th>YEAR</th>\n",
       "      <th>SEMESTER</th>\n",
       "    </tr>\n",
       "  </thead>\n",
       "  <tbody>\n",
       "    <tr>\n",
       "      <th>0</th>\n",
       "      <td>-1.582965</td>\n",
       "      <td>-0.417850</td>\n",
       "      <td>-0.344750</td>\n",
       "      <td>0.458054</td>\n",
       "      <td>-0.429194</td>\n",
       "      <td>-0.105857</td>\n",
       "      <td>0.140938</td>\n",
       "      <td>0.699602</td>\n",
       "      <td>-1.646708</td>\n",
       "      <td>-0.286578</td>\n",
       "    </tr>\n",
       "    <tr>\n",
       "      <th>1</th>\n",
       "      <td>-1.577402</td>\n",
       "      <td>1.025185</td>\n",
       "      <td>-0.163802</td>\n",
       "      <td>-1.269242</td>\n",
       "      <td>-0.842190</td>\n",
       "      <td>0.206783</td>\n",
       "      <td>-0.080531</td>\n",
       "      <td>-0.596587</td>\n",
       "      <td>-0.100774</td>\n",
       "      <td>0.283752</td>\n",
       "    </tr>\n",
       "    <tr>\n",
       "      <th>2</th>\n",
       "      <td>-1.571840</td>\n",
       "      <td>-0.874034</td>\n",
       "      <td>-0.263969</td>\n",
       "      <td>-1.301229</td>\n",
       "      <td>-0.387129</td>\n",
       "      <td>-0.105857</td>\n",
       "      <td>-0.072511</td>\n",
       "      <td>-1.300776</td>\n",
       "      <td>-1.548751</td>\n",
       "      <td>0.047126</td>\n",
       "    </tr>\n",
       "    <tr>\n",
       "      <th>3</th>\n",
       "      <td>-1.566277</td>\n",
       "      <td>0.789177</td>\n",
       "      <td>-0.243197</td>\n",
       "      <td>-1.364061</td>\n",
       "      <td>-0.864862</td>\n",
       "      <td>0.402114</td>\n",
       "      <td>-0.214584</td>\n",
       "      <td>-0.593970</td>\n",
       "      <td>-0.226337</td>\n",
       "      <td>0.142469</td>\n",
       "    </tr>\n",
       "    <tr>\n",
       "      <th>4</th>\n",
       "      <td>-1.560714</td>\n",
       "      <td>0.869401</td>\n",
       "      <td>-0.328593</td>\n",
       "      <td>-1.301229</td>\n",
       "      <td>0.958934</td>\n",
       "      <td>0.743289</td>\n",
       "      <td>0.817649</td>\n",
       "      <td>0.568612</td>\n",
       "      <td>-1.646708</td>\n",
       "      <td>-0.286578</td>\n",
       "    </tr>\n",
       "  </tbody>\n",
       "</table>\n",
       "</div>"
      ],
      "text/plain": [
       "   COURSE_CODE  COURSE_NAME  SECTION_NUMBER     UNITS  CLASS_TYPE  \\\n",
       "0    -1.582965    -0.417850       -0.344750  0.458054   -0.429194   \n",
       "1    -1.577402     1.025185       -0.163802 -1.269242   -0.842190   \n",
       "2    -1.571840    -0.874034       -0.263969 -1.301229   -0.387129   \n",
       "3    -1.566277     0.789177       -0.243197 -1.364061   -0.864862   \n",
       "4    -1.560714     0.869401       -0.328593 -1.301229    0.958934   \n",
       "\n",
       "   MEETING_DAYS  CLASS_HOURS  INSTRUCTOR      YEAR  SEMESTER  \n",
       "0     -0.105857     0.140938    0.699602 -1.646708 -0.286578  \n",
       "1      0.206783    -0.080531   -0.596587 -0.100774  0.283752  \n",
       "2     -0.105857    -0.072511   -1.300776 -1.548751  0.047126  \n",
       "3      0.402114    -0.214584   -0.593970 -0.226337  0.142469  \n",
       "4      0.743289     0.817649    0.568612 -1.646708 -0.286578  "
      ]
     },
     "execution_count": 195,
     "metadata": {},
     "output_type": "execute_result"
    }
   ],
   "source": [
    "#CALCULATING AVERAGE DATAFRAME\n",
    "\n",
    "# group the data by COURSE_CODE and calculate the mean of other columns\n",
    "grouped_data = X.groupby('COURSE_CODE').mean()\n",
    "\n",
    "# drop duplicates of COURSE_CODE\n",
    "grouped_data = grouped_data.drop_duplicates()\n",
    "\n",
    "# create a new dataframe with unique COURSE_CODE and the calculated means\n",
    "avg_df = pd.DataFrame({'COURSE_CODE': grouped_data.index,\n",
    "                       'COURSE_NAME': grouped_data['COURSE_NAME'],\n",
    "                       'SECTION_NUMBER': grouped_data['SECTION_NUMBER'],\n",
    "                       'UNITS': grouped_data['UNITS'],\n",
    "                       'CLASS_TYPE': grouped_data['CLASS_TYPE'],\n",
    "                       'MEETING_DAYS': grouped_data['MEETING_DAYS'],\n",
    "                       'CLASS_HOURS': grouped_data['CLASS_HOURS'],\n",
    "                       'INSTRUCTOR': grouped_data['INSTRUCTOR'],\n",
    "                       'YEAR': grouped_data['YEAR'],\n",
    "                       'SEMESTER': grouped_data['SEMESTER']})\n",
    "\n",
    "avg_df = avg_df.reset_index(drop=True)\n",
    "avg_df.head()\n"
   ]
  },
  {
   "cell_type": "code",
   "execution_count": 196,
   "id": "00b7f76b",
   "metadata": {},
   "outputs": [
    {
     "name": "stdout",
     "output_type": "stream",
     "text": [
      "             COURSE_NAME  SECTION_NUMBER     UNITS  CLASS_TYPE  MEETING_DAYS  \\\n",
      "COURSE_CODE                                                                    \n",
      "-1.582965      -0.417850       -0.344750  0.458054   -0.429194     -0.105857   \n",
      "-1.577402       1.025185       -0.163802 -1.269242   -0.842190      0.206783   \n",
      "-1.571840      -0.874034       -0.263969 -1.301229   -0.387129     -0.105857   \n",
      "-1.566277       0.789177       -0.243197 -1.364061   -0.864862      0.402114   \n",
      "-1.560714       0.869401       -0.328593 -1.301229    0.958934      0.743289   \n",
      "...                  ...             ...       ...         ...           ...   \n",
      " 1.671211       0.047367       -0.344750 -0.128374    1.589901      0.849432   \n",
      " 1.676774       1.150846       -0.358886  0.458054    0.927386      0.152867   \n",
      " 1.682337       0.444834       -0.377062  0.458054   -0.429194      0.849432   \n",
      " 1.687899       1.353274       -0.343345 -0.842286   -1.010781     -0.022788   \n",
      " 1.693462       1.233703       -0.285665  0.458054   -0.973628     -0.169543   \n",
      "\n",
      "             CLASS_HOURS  INSTRUCTOR      YEAR  SEMESTER  \n",
      "COURSE_CODE                                               \n",
      "-1.582965       0.140938    0.699602 -1.646708 -0.286578  \n",
      "-1.577402      -0.080531   -0.596587 -0.100774  0.283752  \n",
      "-1.571840      -0.072511   -1.300776 -1.548751  0.047126  \n",
      "-1.566277      -0.214584   -0.593970 -0.226337  0.142469  \n",
      "-1.560714       0.817649    0.568612 -1.646708 -0.286578  \n",
      "...                  ...         ...       ...       ...  \n",
      " 1.671211       1.374196   -0.061252  1.585860  0.380829  \n",
      " 1.676774       0.496686   -0.147214 -0.465106  0.047126  \n",
      " 1.682337      -0.591428    0.300781  0.567112  0.247348  \n",
      " 1.687899       0.329020    0.004727 -0.296610  0.003599  \n",
      " 1.693462      -0.106256    0.026061 -0.734312  0.018522  \n",
      "\n",
      "[585 rows x 9 columns]\n"
     ]
    }
   ],
   "source": [
    "print(grouped_data)"
   ]
  },
  {
   "cell_type": "code",
   "execution_count": 197,
   "id": "a65d83e7",
   "metadata": {},
   "outputs": [],
   "source": [
    "# filtered_rows = grouped_data[grouped_data['COURSE_CODE']==0.16928378459427354]\n",
    "# print(filtered_rows)"
   ]
  },
  {
   "cell_type": "code",
   "execution_count": 198,
   "id": "8c39ee38",
   "metadata": {},
   "outputs": [],
   "source": [
    "new_df = pd.DataFrame({'COURSE_CODE': avg_df['COURSE_CODE']})\n",
    "avg_df.to_excel('avg_df1.xlsx')\n",
    "new_df.head()\n",
    "\n",
    "new_df.to_excel('new_df1.xlsx', index = False)"
   ]
  },
  {
   "cell_type": "code",
   "execution_count": 199,
   "id": "61fc9bae",
   "metadata": {},
   "outputs": [
    {
     "data": {
      "text/html": [
       "<div>\n",
       "<style scoped>\n",
       "    .dataframe tbody tr th:only-of-type {\n",
       "        vertical-align: middle;\n",
       "    }\n",
       "\n",
       "    .dataframe tbody tr th {\n",
       "        vertical-align: top;\n",
       "    }\n",
       "\n",
       "    .dataframe thead th {\n",
       "        text-align: right;\n",
       "    }\n",
       "</style>\n",
       "<table border=\"1\" class=\"dataframe\">\n",
       "  <thead>\n",
       "    <tr style=\"text-align: right;\">\n",
       "      <th></th>\n",
       "      <th>COURSE_CODE</th>\n",
       "      <th>COURSE_NAME</th>\n",
       "      <th>SECTION_NUMBER</th>\n",
       "      <th>UNITS</th>\n",
       "      <th>CLASS_TYPE</th>\n",
       "      <th>MEETING_DAYS</th>\n",
       "      <th>CLASS_HOURS</th>\n",
       "      <th>INSTRUCTOR</th>\n",
       "      <th>YEAR</th>\n",
       "      <th>SEMESTER</th>\n",
       "      <th>COURSE_CODE</th>\n",
       "    </tr>\n",
       "  </thead>\n",
       "  <tbody>\n",
       "    <tr>\n",
       "      <th>0</th>\n",
       "      <td>-0.542741</td>\n",
       "      <td>1.027485</td>\n",
       "      <td>-0.377062</td>\n",
       "      <td>0.458054</td>\n",
       "      <td>-0.429194</td>\n",
       "      <td>-0.742716</td>\n",
       "      <td>-0.997454</td>\n",
       "      <td>-0.583817</td>\n",
       "      <td>-0.961011</td>\n",
       "      <td>1.048235</td>\n",
       "      <td>CMPE 30</td>\n",
       "    </tr>\n",
       "    <tr>\n",
       "      <th>1</th>\n",
       "      <td>-0.542741</td>\n",
       "      <td>1.027485</td>\n",
       "      <td>-0.280125</td>\n",
       "      <td>-2.180871</td>\n",
       "      <td>-1.060161</td>\n",
       "      <td>-0.424287</td>\n",
       "      <td>0.729107</td>\n",
       "      <td>0.448771</td>\n",
       "      <td>-0.961011</td>\n",
       "      <td>1.048235</td>\n",
       "      <td>CMPE 30</td>\n",
       "    </tr>\n",
       "    <tr>\n",
       "      <th>2</th>\n",
       "      <td>-0.542741</td>\n",
       "      <td>1.027485</td>\n",
       "      <td>-0.183189</td>\n",
       "      <td>-2.180871</td>\n",
       "      <td>-1.060161</td>\n",
       "      <td>1.486291</td>\n",
       "      <td>0.729107</td>\n",
       "      <td>-1.219256</td>\n",
       "      <td>-0.961011</td>\n",
       "      <td>1.048235</td>\n",
       "      <td>CMPE 30</td>\n",
       "    </tr>\n",
       "    <tr>\n",
       "      <th>3</th>\n",
       "      <td>-0.531616</td>\n",
       "      <td>-0.869518</td>\n",
       "      <td>-0.377062</td>\n",
       "      <td>0.458054</td>\n",
       "      <td>0.958934</td>\n",
       "      <td>1.167861</td>\n",
       "      <td>-1.187186</td>\n",
       "      <td>-0.734316</td>\n",
       "      <td>-0.961011</td>\n",
       "      <td>1.048235</td>\n",
       "      <td>CMPE 46</td>\n",
       "    </tr>\n",
       "    <tr>\n",
       "      <th>4</th>\n",
       "      <td>-0.531616</td>\n",
       "      <td>-0.869518</td>\n",
       "      <td>-0.280125</td>\n",
       "      <td>-2.180871</td>\n",
       "      <td>-1.060161</td>\n",
       "      <td>0.531002</td>\n",
       "      <td>-0.276472</td>\n",
       "      <td>-0.734316</td>\n",
       "      <td>-0.961011</td>\n",
       "      <td>1.048235</td>\n",
       "      <td>CMPE 46</td>\n",
       "    </tr>\n",
       "  </tbody>\n",
       "</table>\n",
       "</div>"
      ],
      "text/plain": [
       "  COURSE_CODE  COURSE_NAME  SECTION_NUMBER     UNITS  CLASS_TYPE  \\\n",
       "0   -0.542741     1.027485       -0.377062  0.458054   -0.429194   \n",
       "1   -0.542741     1.027485       -0.280125 -2.180871   -1.060161   \n",
       "2   -0.542741     1.027485       -0.183189 -2.180871   -1.060161   \n",
       "3   -0.531616    -0.869518       -0.377062  0.458054    0.958934   \n",
       "4   -0.531616    -0.869518       -0.280125 -2.180871   -1.060161   \n",
       "\n",
       "   MEETING_DAYS  CLASS_HOURS  INSTRUCTOR      YEAR  SEMESTER COURSE_CODE  \n",
       "0     -0.742716    -0.997454   -0.583817 -0.961011  1.048235     CMPE 30  \n",
       "1     -0.424287     0.729107    0.448771 -0.961011  1.048235     CMPE 30  \n",
       "2      1.486291     0.729107   -1.219256 -0.961011  1.048235     CMPE 30  \n",
       "3      1.167861    -1.187186   -0.734316 -0.961011  1.048235     CMPE 46  \n",
       "4      0.531002    -0.276472   -0.734316 -0.961011  1.048235     CMPE 46  "
      ]
     },
     "execution_count": 199,
     "metadata": {},
     "output_type": "execute_result"
    }
   ],
   "source": [
    "DICT_X = pd.concat([X, df['COURSE_CODE']], axis=1)\n",
    "DICT_X.head()"
   ]
  },
  {
   "cell_type": "code",
   "execution_count": 200,
   "id": "0442bf74",
   "metadata": {},
   "outputs": [
    {
     "data": {
      "text/html": [
       "<div>\n",
       "<style scoped>\n",
       "    .dataframe tbody tr th:only-of-type {\n",
       "        vertical-align: middle;\n",
       "    }\n",
       "\n",
       "    .dataframe tbody tr th {\n",
       "        vertical-align: top;\n",
       "    }\n",
       "\n",
       "    .dataframe thead th {\n",
       "        text-align: right;\n",
       "    }\n",
       "</style>\n",
       "<table border=\"1\" class=\"dataframe\">\n",
       "  <thead>\n",
       "    <tr style=\"text-align: right;\">\n",
       "      <th></th>\n",
       "      <th>COURSE_CODE</th>\n",
       "      <th>COURSE_NAME</th>\n",
       "      <th>SECTION_NUMBER</th>\n",
       "      <th>UNITS</th>\n",
       "      <th>CLASS_TYPE</th>\n",
       "      <th>MEETING_DAYS</th>\n",
       "      <th>CLASS_HOURS</th>\n",
       "      <th>INSTRUCTOR</th>\n",
       "      <th>YEAR</th>\n",
       "      <th>SEMESTER</th>\n",
       "      <th>COURSE_TEXT</th>\n",
       "    </tr>\n",
       "  </thead>\n",
       "  <tbody>\n",
       "    <tr>\n",
       "      <th>0</th>\n",
       "      <td>-0.542741</td>\n",
       "      <td>1.027485</td>\n",
       "      <td>-0.377062</td>\n",
       "      <td>0.458054</td>\n",
       "      <td>-0.429194</td>\n",
       "      <td>-0.742716</td>\n",
       "      <td>-0.997454</td>\n",
       "      <td>-0.583817</td>\n",
       "      <td>-0.961011</td>\n",
       "      <td>1.048235</td>\n",
       "      <td>CMPE 30</td>\n",
       "    </tr>\n",
       "    <tr>\n",
       "      <th>1</th>\n",
       "      <td>-0.542741</td>\n",
       "      <td>1.027485</td>\n",
       "      <td>-0.280125</td>\n",
       "      <td>-2.180871</td>\n",
       "      <td>-1.060161</td>\n",
       "      <td>-0.424287</td>\n",
       "      <td>0.729107</td>\n",
       "      <td>0.448771</td>\n",
       "      <td>-0.961011</td>\n",
       "      <td>1.048235</td>\n",
       "      <td>CMPE 30</td>\n",
       "    </tr>\n",
       "    <tr>\n",
       "      <th>2</th>\n",
       "      <td>-0.542741</td>\n",
       "      <td>1.027485</td>\n",
       "      <td>-0.183189</td>\n",
       "      <td>-2.180871</td>\n",
       "      <td>-1.060161</td>\n",
       "      <td>1.486291</td>\n",
       "      <td>0.729107</td>\n",
       "      <td>-1.219256</td>\n",
       "      <td>-0.961011</td>\n",
       "      <td>1.048235</td>\n",
       "      <td>CMPE 30</td>\n",
       "    </tr>\n",
       "    <tr>\n",
       "      <th>3</th>\n",
       "      <td>-0.531616</td>\n",
       "      <td>-0.869518</td>\n",
       "      <td>-0.377062</td>\n",
       "      <td>0.458054</td>\n",
       "      <td>0.958934</td>\n",
       "      <td>1.167861</td>\n",
       "      <td>-1.187186</td>\n",
       "      <td>-0.734316</td>\n",
       "      <td>-0.961011</td>\n",
       "      <td>1.048235</td>\n",
       "      <td>CMPE 46</td>\n",
       "    </tr>\n",
       "    <tr>\n",
       "      <th>4</th>\n",
       "      <td>-0.531616</td>\n",
       "      <td>-0.869518</td>\n",
       "      <td>-0.280125</td>\n",
       "      <td>-2.180871</td>\n",
       "      <td>-1.060161</td>\n",
       "      <td>0.531002</td>\n",
       "      <td>-0.276472</td>\n",
       "      <td>-0.734316</td>\n",
       "      <td>-0.961011</td>\n",
       "      <td>1.048235</td>\n",
       "      <td>CMPE 46</td>\n",
       "    </tr>\n",
       "  </tbody>\n",
       "</table>\n",
       "</div>"
      ],
      "text/plain": [
       "   COURSE_CODE  COURSE_NAME  SECTION_NUMBER     UNITS  CLASS_TYPE  \\\n",
       "0    -0.542741     1.027485       -0.377062  0.458054   -0.429194   \n",
       "1    -0.542741     1.027485       -0.280125 -2.180871   -1.060161   \n",
       "2    -0.542741     1.027485       -0.183189 -2.180871   -1.060161   \n",
       "3    -0.531616    -0.869518       -0.377062  0.458054    0.958934   \n",
       "4    -0.531616    -0.869518       -0.280125 -2.180871   -1.060161   \n",
       "\n",
       "   MEETING_DAYS  CLASS_HOURS  INSTRUCTOR      YEAR  SEMESTER COURSE_TEXT  \n",
       "0     -0.742716    -0.997454   -0.583817 -0.961011  1.048235     CMPE 30  \n",
       "1     -0.424287     0.729107    0.448771 -0.961011  1.048235     CMPE 30  \n",
       "2      1.486291     0.729107   -1.219256 -0.961011  1.048235     CMPE 30  \n",
       "3      1.167861    -1.187186   -0.734316 -0.961011  1.048235     CMPE 46  \n",
       "4      0.531002    -0.276472   -0.734316 -0.961011  1.048235     CMPE 46  "
      ]
     },
     "execution_count": 200,
     "metadata": {},
     "output_type": "execute_result"
    }
   ],
   "source": [
    "#Renaming last column\n",
    "# get the old column names\n",
    "old_col_names = DICT_X.columns.tolist()\n",
    "\n",
    "# rename the last column only\n",
    "new_col_name = 'COURSE_TEXT'\n",
    "old_col_names[-1] = new_col_name\n",
    "\n",
    "# set the new column names\n",
    "DICT_X.columns = old_col_names\n",
    "\n",
    "DICT_X.head()"
   ]
  },
  {
   "cell_type": "code",
   "execution_count": 218,
   "id": "80bf5003",
   "metadata": {},
   "outputs": [],
   "source": [
    "# Drop all but first and last columns\n",
    "DICT_X = DICT_X.iloc[:, [0, -1]]\n",
    "\n",
    "# Save the DataFrame to Excel\n",
    "DICT_X.to_excel('course_codes.xlsx', index=False)"
   ]
  },
  {
   "cell_type": "code",
   "execution_count": 201,
   "id": "63b4200c",
   "metadata": {},
   "outputs": [
    {
     "name": "stdout",
     "output_type": "stream",
     "text": [
      "{'CMPE 30': -0.542741155818184, 'CMPE 46': -0.5316157661242393, 'CMPE 50': -0.5260530712772671, 'CMPE 102': -1.5551516179671472, 'CMPE 110': -1.5440262282732025, 'CMPE 120': -1.5329008385792577, 'CMPE 124': -1.5217754488853132, 'CMPE 125': -1.5106500591913685, 'CMPE 126': -1.4995246694974238, 'CMPE 127': -1.488399279803479, 'CMPE 130': -1.4772738901095346, 'CMPE 131': -1.4661485004155899, 'CMPE 133': -1.4438977210277006, 'CMPE 137': -1.4216469416398112, 'CMPE 138': -1.4105215519458667, 'CMPE 140': -1.3938334674049497, 'CMPE 142': -1.382708077711005, 'CMPE 146': -1.3715826880170603, 'CMPE 148': -1.3604572983231158, 'CMPE 152': -1.3382065189352264, 'CMPE 180': -1.293704960159448, 'CMPE 187': -1.2213899271488076, 'CMPE 195A': -1.1935764529139459, 'CMPE 197': -1.1379495044442227, 'CMPE 198': -1.1323868095972505, 'CMPE 200': -1.1212614199033057, 'CMPE 202': -1.110136030209361, 'CMPE 203': -1.0990106405154165, 'CMPE 206': -1.093447945668444, 'CMPE 207': -1.0823225559744996, 'CMPE 208': -1.0711971662805548, 'CMPE 209': -1.0600717765866101, 'CMPE 220': -0.9988821332699146, 'CMPE 239': -0.971068659035053, 'CMPE 240': -0.9655059641880807, 'CMPE 242': -0.954380574494136, 'CMPE 244': -0.9321297951062467, 'CMPE 265': -0.8375639827077173, 'CMPE 272': -0.8153132033198279, 'CMPE 273': -0.8041878136258832, 'CMPE 275': -0.781937034237994, 'CMPE 277': -0.765248949697077, 'CMPE 281': -0.7318727806152431, 'CMPE 283': -0.7151846960743261, 'CMPE 285': -0.6984966115334091, 'CMPE 287': -0.6818085269924922, 'CMPE 294': -0.6706831372985474, 'CMPE 295A': -0.6595577476046028, 'CMPE 295B': -0.6428696630636859, 'CMPE 298': -0.6039307991348796, 'CMPE 298I': -0.592805409440935, 'CMPE 299A': -0.576117324900018, 'CMPE 299B': -0.559429240359101, 'CS 046A': -0.4815515125014884, 'CS 046B': -0.4704261228075438, 'CS 47': 0.38066618877922187, 'CS 049C': -0.45930073311359915, 'CS 049J': -0.4537380382666268, 'CS 100W': -0.4314872588787375, 'CS 116B': -0.39254839494993127, 'CS 120A': -0.3814230052559866, 'CS 122': -0.37586031040901424, 'CS 123B': -0.35360953102112497, 'CS 130': -0.3424841413271803, 'CS 134': -0.32579605678626333, 'CS 143C': -0.3146706670923187, 'CS 146': -0.28129449801048473, 'CS 147': -0.2701691083165401, 'CS 149': -0.25904371862259545, 'CS 151': -0.2479183289286508, 'CS 152': -0.23679293923470615, 'CS 154': -0.21454215984681685, 'CS 155': -0.2034167701528722, 'CS 157B': -0.17004060107103824, 'CS 158A': -0.14778982168314897, 'CS 159': -0.12553904229525967, 'CS 160': -0.11441365260131502, 'CS 166': -0.09216287321342571, 'CS 167B': -0.08103748351948106, 'CS 180H': -0.008722450508840842, 'CS 180I': -0.0031597556618685177, 'CS 185C': 0.002402939185103807, 'CS 200W': 0.035779108266937754, 'CS 223': 0.06359258250179937, 'CS 251B': 0.14147031035941193, 'CS 255': 0.16928378459427354, 'CS 257': 0.19153456398216284, 'CS 258': 0.20265995367610748, 'CS 265': 0.23047342791096911, 'CS 267': 0.2527242072988584, 'CS 274': 0.29166307122766466, 'CS 286': 0.313913850615554, 'EE 97': 1.3986393457751574, 'EE 98': 1.4097647354691019, 'EE 101': 0.44185583209591744, 'EE 102': 0.44741852694288975, 'EE 104': 0.4585439166368344, 'EE 106': 0.4696693063307791, 'EE 110': 0.48079469602472374, 'EE 112': 0.503045475412613, 'EE 118': 0.5141708651065576, 'EE 120': 0.5252962548005023, 'EE 122': 0.536421644494447, 'EE 124': 0.5475470341883916, 'EE 127': 0.5642351187293085, 'EE 128': 0.5753605084232533, 'EE 129': 0.5864858981171979, 'EE 132': 0.6087366775050872, 'EE 134': 0.6198620671990318, 'EE 136': 0.6309874568929765, 'EE 138': 0.6421128465869211, 'EE 140': 0.6532382362808657, 'EE 161': 0.6866144053626997, 'EE 166': 0.7033024899036167, 'EE 169': 0.7199905744445336, 'EE 178': 0.7644921332203123, 'EE 180': 0.7756175229142569, 'EE 195D': 0.8089936919960908, 'EE 197': 0.8145563868430632, 'EE 198A': 0.8201190816900356, 'EE 198B': 0.8312444713839802, 'EE 209': 0.8423698610779248, 'EE 210': 0.8534952507718695, 'EE 221': 0.8757460301597588, 'EE 223': 0.8924341147006758, 'EE 224': 0.9035595043946204, 'EE 231': 0.9536237580173713, 'EE 239': 0.9814372322522329, 'EE 250': 0.9981253167931499, 'EE 251': 1.0092507064870946, 'EE 253': 1.0259387910280116, 'EE 255': 1.0481895704159008, 'EE 256': 1.0537522652628732, 'EE 260': 1.0926911291916794, 'EE 263': 1.1093792137325964, 'EE 270': 1.1260672982735134, 'EE 271': 1.1316299931204856, 'EE 275': 1.1650061622023196, 'EE 276': 1.1761315518962643, 'EE 281': 1.220633110672043, 'EE 283': 1.2428838900599322, 'EE 287': 1.276260059141766, 'EE 288': 1.2873854488357108, 'EE 295': 1.3040735333766278, 'EE 297A': 1.326324312764517, 'EE 297B': 1.3374497024584617, 'EE 298': 1.3485750921524065, 'EE 298I': 1.3541377869993787, 'EE 299A': 1.3652631766933234, 'EE 299B': 1.376388566387268, 'SE 046A': 1.4208901251630466, 'SE 046B': 1.4264528200100188, 'SE 102': 1.4320155148569913, 'SE 116B': 1.4542662942448805, 'SE 120': 1.4653916839388252, 'SE 123B': 1.4820797684797422, 'SE 130': 1.4932051581736867, 'SE 131': 1.4987678530206592, 'SE 133': 1.5043305478676314, 'SE 134': 1.5098932427146037, 'SE 137': 1.5265813272555206, 'SE 146': 1.5377067169494654, 'SE 148': 1.5432694117964376, 'SE 149': 1.54883210664341, 'SE 152': 1.5543948014903823, 'SE 154': 1.5710828860312993, 'SE 155': 1.582208275725244, 'SE 157B': 1.6100217499601057, 'SE 165': 1.6378352241949672, 'SE 166': 1.6433979190419397, 'SE 172': 1.648960613888912, 'SE 180': 1.6656486984298289, 'SE 187': 1.6767740881237736, 'SE 195A': 1.687899477817718, 'SE 195B': 1.6934621726646906, 'CMPE 165': -1.3159557395473371, 'CMPE 172': -1.3048303498533924, 'CMPE 195B': -1.1824510632200014, 'CMPE 195C': -1.1713256735260567, 'CMPE 217': -1.021132912657804, 'CMPE 226': -0.98775674357597, 'CMPE 245': -0.9210044054123021, 'CMPE 297': -0.6150561888288242, 'CS 40': 0.35285271454436024, 'CS 50': 0.4029169681671112, 'CS 108': -0.42036186918479285, 'CS 116A': -0.4036737846438759, 'CS 123A': -0.36473492071506963, 'CS 143M': -0.30354527739837406, 'CS 144': -0.2924198877044294, 'CS 153': -0.22566754954076151, 'CS 156': -0.19229138045892755, 'CS 157A': -0.1811659907649829, 'CS 158B': -0.1366644319892043, 'CS 167C': -0.07547478867250874, 'CS 174': -0.047661314437647116, 'CS 175': -0.036535924743702465, 'CS 218': 0.05246719280785473, 'CS 243B': 0.10253144643060565, 'CS 247': 0.10809414127757798, 'CS 249': 0.11921953097152263, 'CS 251A': 0.1359076155124396, 'CS 252': 0.14703300520638424, 'CS 253': 0.1581583949003289, 'CS 256': 0.1804091742882182, 'CS 259': 0.21378534337005214, 'CS 268': 0.2638495969928031, 'CS 298': 0.33616463000344327, 'EE 130': 0.5976112878111426, 'EE 153': 0.6699263208217827, 'EE 160': 0.6754890156687551, 'EE 165': 0.6977397950566444, 'EE 181': 0.7811802177612293, 'EE 195C': 0.8034309971491186, 'EE 220': 0.8646206404658141, 'EE 227': 0.931372978629482, 'EE 237': 0.9647491477113159, 'EE 252': 1.0203760961810393, 'EE 259': 1.0815657394977347, 'EE 272': 1.1427553828144303, 'EE 278': 1.1928196364371813, 'EE 284': 1.2540092797538769, 'SE 116A': 1.4431409045509358, 'SE 123A': 1.4709543787857975, 'SE 157A': 1.6044590551131332, 'SE 158B': 1.6211471396540502, 'SE 174': 1.6545233087358842, 'CMPE 195D': -1.1657629786790844, 'CMPE 270': -0.8208758981668003, 'CMPE 274': -0.7930624239319386, 'CMPE 282': -0.7207473909212984, 'CS 161': -0.10328826290737037, 'CS 216': 0.046904497960882405, 'EE 30': 1.3875139560812126, 'EE 174': 0.7366786589854507, 'EE 230': 0.9424983683234267, 'EE 254': 1.0370641807219563, 'CMPE 235': -0.9766313538820254, 'CMPE 243': -0.9432551848001913, 'CMPE 262': -0.8486893724016619, 'CMPE 264': -0.8431266775546895, 'CS 235': 0.08584336188968868, 'CS 243A': 0.09696875158363333, 'CS 266': 0.24159881760491375, 'EE 168': 0.708865184750589, 'SE 153': 1.565520191184327, 'SE 156': 1.5933336654191887, 'CMPE 132': -1.4550231107216451, 'CMPE 280': -0.7429981703091877, 'CMPE 284': -0.7040593063803814, 'CS 190': 0.013528328879048456, 'CS 190I': 0.024653718572993106, 'EE 258': 1.0704403498037902, 'EE 265': 1.1149419085795687, 'EE 289': 1.2985108385296555, 'CMPE 025': -1.5829650922020087, 'CMPE 030': -1.5774023973550364, 'CMPE 046': -1.5718397025080642, 'CMPE 050': -1.5662770076610917, 'CMPE 101': -1.5607143128141194, 'CMPE 276': -0.7708116445440493, 'CMPE 296M': -0.6206188836757965, 'CMPE 149': -1.349331908629171, 'CS 025': -0.5038022918893778, 'CS 040': -0.4982395970424054, 'CS 050': -0.4481753434196545, 'CS 072': -0.4426126485726822, 'CS 110L': -0.40923647949084824, 'CS 172A': -0.05878670413159176, 'CS 254': 0.1637210897473012, 'CS 297': 0.32503924030949866, 'SE 110L': 1.4375782097039635, 'EE 097': 0.4251677475550005, 'EE 098': 0.4307304424019728, 'EE 142': 0.6643636259748105, 'EE 189': 0.7978683023021462, 'CS 047': -0.46486342796057145, 'CS 172B': -0.05322400928461944, 'CS 280': 0.3027884609216093, 'CS 299': 0.34729001969738793, 'EE 125': 0.5586724238823363, 'EE 172': 0.725553269291506, 'EE 175': 0.7478040486793953, 'EE 176': 0.7533667435263677, 'EE 177': 0.7589294383733399, 'EE 222': 0.8868714198537034, 'EE 229': 0.9369356734764543, 'EE 261': 1.0982538240386517, 'EE 282': 1.2317585003659874, 'EE 296X': 1.3207616179175448, 'CS 040 ': -0.4926769021954331, 'CS 046A ': -0.4759888176545161, 'CS 262': 0.22491073306399678, 'EE 262': 1.1038165188856242, 'CMPE 135': -1.432772331333756, 'CMPE 139': -1.399396162251922, 'CMPE 163': -1.3270811292412819, 'CMPE 180A': -1.2825795704655032, 'CMPE 180B': -1.2714541807715585, 'CMPE 180C': -1.260328791077614, 'CMPE 180D': -1.2492034013836693, 'CMPE 188': -1.210264537454863, 'CMPE 189': -1.1991391477609183, 'CMPE 195F': -1.1490748941381674, 'CMPE 255': -0.8987536260244128, 'CMPE 256': -0.8876282363304682, 'CMPE 257': -0.8765028466365234, 'CMPE 258': -0.8653774569425788, 'CMPE 266': -0.8320012878607449, 'CMPE 279': -0.7541235600031323, 'CMPE 297 ': -0.6094934939818519, 'SE 135': 1.5210186324085484, 'SE 139': 1.5321440221024931, 'SE 163': 1.632272529347995, 'SE 188': 1.6823367829707458, 'CS 022A': -0.5149276815833224, 'CS 042': -0.4871142073484608, 'EE 030': 0.41960505270802817, 'EE 098H': 0.43629313724894514, 'EE 110L': 0.49192008571866835, 'EE 279': 1.203945026131126, 'EE 286': 1.2651346694478216, 'CMPE 210': -1.0489463868926656, 'CMPE 212': -1.0433836920456931, 'CMPE 213': -1.037820997198721, 'CMPE 214': -1.0322583023517486, 'CMPE 219': -1.0100075229638592, 'CS 022B': -0.5093649867363501, 'CS 123B ': -0.34804683617415266, 'EE 238': 0.9703118425582883, 'EE 242': 0.9925626219461776, 'EE 277A': 1.1816942467432365, 'CMPE 181': -1.243640706536697, 'CMPE 182': -1.2380780116897245, 'CMPE 195E': -1.160200283832112, 'CS 271': 0.2749749866867477, 'EE 273': 1.153880772508375, 'CMPE 295A MASTER PROJECT I': -0.6484323579106581, 'CMPE 295B MASTER PROJECT II': -0.6317442733697411, 'CS 157C': -0.1589152113770936, 'CS 180': -0.019847840202785492, 'EE 257': 1.0593149601098455, 'CMPE 298I CMPE/SE INTERNSHIP': -0.5816800197469902, 'CMPE 299A MASTER THESIS I': -0.5649919352060733, 'CMPE 299B MASTER THESIS II': -0.5483038506651563, 'EE 225': 0.914684894088565, 'EE 280': 1.2095077209780982, 'CS 085C': -0.4370499537257098, 'EE 296A': 1.3151989230705725, 'CMPE 296A': -0.6261815785227689, 'CMPE 150': -1.3437692137821988, 'CMPE 30 ': -0.5371784609712117, 'CMPE 50 ': -0.5204903764302947, 'CMPE 102 ': -1.5495889231201747, 'CMPE 110 ': -1.5384635334262302, 'CMPE 120 ': -1.5273381437322855, 'CMPE 124 ': -1.5162127540383408, 'CMPE 125 ': -1.5050873643443963, 'CMPE 126 ': -1.4939619746504516, 'CMPE 127 ': -1.4828365849565068, 'CMPE 130 ': -1.471711195262562, 'CMPE 131 ': -1.4605858055686176, 'CMPE 132 ': -1.449460415874673, 'CMPE 133 ': -1.4383350261807282, 'CMPE 135 ': -1.4272096364867837, 'CMPE 138 ': -1.4049588570988942, 'CMPE 140 ': -1.3882707725579773, 'CMPE 142 ': -1.3771453828640328, 'CMPE 146 ': -1.366019993170088, 'CMPE 148 ': -1.3548946034761433, 'CMPE 152 ': -1.332643824088254, 'CMPE 163 ': -1.3215184343943094, 'CMPE 165 ': -1.3103930447003649, 'CMPE 172 ': -1.2992676550064202, 'CMPE 180 ': -1.2881422653124754, 'CMPE 180A ': -1.277016875618531, 'CMPE 180B ': -1.2658914859245862, 'CMPE 180C ': -1.2547660962306415, 'CMPE 183 ': -1.2325153168427523, 'CMPE 187 ': -1.2158272323018353, 'CMPE 188 ': -1.2047018426078906, 'CMPE 195A ': -1.1880137580669736, 'CMPE 195B ': -1.176888368373029, 'CMPE 195E ': -1.1546375889851397, 'CMPE 195F ': -1.143512199291195, 'CMPE 198 ': -1.126824114750278, 'CMPE 200 ': -1.1156987250563335, 'CMPE 202 ': -1.1045733353623888, 'CMPE 206 ': -1.0878852508214718, 'CMPE 207 ': -1.076759861127527, 'CMPE 208 ': -1.0656344714335826, 'CMPE 209 ': -1.0545090817396379, 'CMPE 214 ': -1.0266956075047762, 'CMPE 217 ': -1.0155702178108317, 'CMPE 220 ': -0.9933194384229423, 'CMPE 226 ': -0.9821940487289976, 'CMPE 240 ': -0.9599432693411083, 'CMPE 244 ': -0.9265671002592744, 'CMPE 245 ': -0.9154417105653297, 'CMPE 249 ': -0.9098790157183574, 'CMPE 252 ': -0.9043163208713851, 'CMPE 255 ': -0.8931909311774404, 'CMPE 256 ': -0.8820655414834958, 'CMPE 257 ': -0.8709401517895512, 'CMPE 258 ': -0.8598147620956065, 'CMPE 266 ': -0.8264385930137725, 'CMPE 272 ': -0.8097505084728556, 'CMPE 273 ': -0.798625118778911, 'CMPE 274 ': -0.7874997290849662, 'CMPE 275 ': -0.7763743393910216, 'CMPE 277 ': -0.7596862548501047, 'CMPE 279 ': -0.74856086515616, 'CMPE 280 ': -0.7374354754622153, 'CMPE 281 ': -0.7263100857682707, 'CMPE 283 ': -0.7096220012273537, 'CMPE 285 ': -0.6929339166864368, 'CMPE 286 ': -0.6873712218394644, 'CMPE 287 ': -0.6762458321455198, 'CMPE 294 ': -0.6651204424515752, 'CMPE 295A ': -0.6539950527576305, 'CMPE 295B ': -0.6373069682167135, 'CMPE 298 ': -0.5983681042879072, 'CMPE 298I ': -0.5872427145939626, 'CMPE 299A ': -0.5705546300530456, 'CMPE 299B ': -0.5538665455121287, 'CS 22A ': 0.07471797219574403, 'CS 22B ': 0.08028066704271636, 'CS 25 ': 0.13034492066546727, 'CS 42 ': 0.3584154093913326, 'CS 42X ': 0.3639781042383049, 'CS 46A ': 0.3695407990852772, 'CS 46B ': 0.37510349393224957, 'CS 47 ': 0.38622888362619423, 'CS 49C ': 0.39179157847316654, 'CS 49J ': 0.39735427332013884, 'CS 50 ': 0.4084796630140835, 'CS 100W ': -0.4259245640317652, 'CS 108 ': -0.41479917433782054, 'CS 116A ': -0.39811108979690357, 'CS 122 ': -0.37029761556204194, 'CS 123A ': -0.3591722258680973, 'CS 134 ': -0.32023336193929103, 'CS 143M ': -0.2979825825514017, 'CS 144 ': -0.2868571928574571, 'CS 146 ': -0.2757318031635124, 'CS 147 ': -0.26460641346956776, 'CS 149 ': -0.25348102377562315, 'CS 151 ': -0.24235563408167848, 'CS 152 ': -0.23123024438773382, 'CS 154 ': -0.20897946499984452, 'CS 155 ': -0.19785407530589988, 'CS 156 ': -0.18672868561195524, 'CS 157A ': -0.17560329591801058, 'CS 158A ': -0.14222712683617664, 'CS 158B ': -0.13110173714223197, 'CS 160 ': -0.10885095775434268, 'CS 166 ': -0.08660017836645338, 'CS 168 ': -0.06991209382553641, 'CS 171 ': -0.06434939897856409, 'CS 174 ': -0.04209861959067479, 'CS 175 ': -0.03097322989673014, 'CS 185C ': 0.007965634032076131, 'CS 190 ': 0.01909102372602078, 'CS 190I ': 0.03021641341996543, 'CS 200W ': 0.04134180311391008, 'CS 218 ': 0.058029887654827056, 'CS 223 ': 0.06915527734877171, 'CS 247 ': 0.1136568361245503, 'CS 249 ': 0.12478222581849495, 'CS 255 ': 0.17484647944124587, 'CS 256 ': 0.1859718691351905, 'CS 257 ': 0.19709725882913517, 'CS 259 ': 0.21934803821702448, 'CS 265 ': 0.23603612275794145, 'CS 267 ': 0.2582869021458307, 'CS 268 ': 0.2694122918397754, 'CS 271 ': 0.28053768153372005, 'CS 280 ': 0.3083511557685817, 'CS 286 ': 0.3194765454625263, 'EE 30 ': 1.393076650928185, 'EE 97 ': 1.4042020406221296, 'EE 98 ': 1.4153274303160743, 'EE 102 ': 0.4529812217898621, 'EE 104 ': 0.4641066114838068, 'EE 106 ': 0.4752320011777514, 'EE 110 ': 0.48635739087169605, 'EE 110L ': 0.4974827805656407, 'EE 112 ': 0.5086081702595854, 'EE 118 ': 0.51973355995353, 'EE 120 ': 0.5308589496474746, 'EE 122 ': 0.5419843393414193, 'EE 124 ': 0.5531097290353639, 'EE 127 ': 0.5697978135762809, 'EE 128 ': 0.5809232032702256, 'EE 132 ': 0.6142993723520596, 'EE 134 ': 0.6254247620460042, 'EE 136 ': 0.6365501517399488, 'EE 140 ': 0.6588009311278381, 'EE 160 ': 0.6810517105157274, 'EE 174 ': 0.742241353832423, 'EE 178 ': 0.7700548280672846, 'EE 182 ': 0.7923056074551739, 'EE 198A ': 0.8256817765370078, 'EE 198B ': 0.8368071662309525, 'EE 209 ': 0.8479325559248971, 'EE 210 ': 0.8590579456188417, 'EE 221 ': 0.8813087250067311, 'EE 223 ': 0.897996809547648, 'EE 225 ': 0.9202475889355374, 'EE 230 ': 0.948061063170399, 'EE 231 ': 0.9591864528643437, 'EE 250 ': 1.0036880116401223, 'EE 251 ': 1.0148134013340668, 'EE 254 ': 1.0426268755689285, 'EE 258 ': 1.0760030446507625, 'EE 271 ': 1.137192687967458, 'EE 272 ': 1.1483180776614026, 'EE 277A ': 1.187256941590209, 'EE 278 ': 1.1983823312841535, 'EE 281 ': 1.2261958055190152, 'EE 284 ': 1.2595719746008491, 'EE 295 ': 1.3096362282236, 'EE 297A ': 1.3318870076114895, 'EE 297B ': 1.343012397305434, 'EE 298I ': 1.359700481846351, 'EE 299A ': 1.3708258715402957, 'SE 116A ': 1.4487035993979083, 'SE 123A ': 1.4765170736327697, 'SE 123B ': 1.4876424633267145, 'SE 134 ': 1.5154559375615761, 'SE 152 ': 1.5599574963373546, 'SE 154 ': 1.5766455808782718, 'SE 155 ': 1.5877709705722163, 'SE 156 ': 1.598896360266161, 'SE 158B ': 1.6267098345010227, 'SE 174 ': 1.6600860035828566, 'SE 180 ': 1.6712113932768011, 'CMPE 185 ': -1.22695262199578, 'CMPE 260 ': -0.8542520672486342, 'CS 85A ': 0.4140423578610558, 'CS 131 ': -0.336921446480208, 'CS 133 ': -0.3313587516332357, 'CS 153 ': -0.22010485469378918, 'CS 157C ': -0.15335251653012127, 'CS 180 ': -0.014285145355813166, 'CS 272 ': 0.28610037638069236, 'CS 297 ': 0.33060193515647096, 'EE 138 ': 0.6476755414338935, 'EE 181 ': 0.7867429126082016, 'EE 224 ': 0.9091221992415928, 'EE 239 ': 0.9869999270992053, 'EE 273 ': 1.1594434673553473, 'EE 275 ': 1.170568857049292, 'EE 282A ': 1.23732119521296, 'EE 299B ': 1.3819512612342404, 'CMPE 137 ': -1.416084246792839, 'CMPE 219 ': -1.004444828116887, 'CMPE 242 ': -0.9488178796471637, 'CMPE 243 ': -0.9376924899532191, 'CS 116B ': -0.3869857001029589, 'CS 143C ': -0.30910797224534636, 'CS 157B ': -0.16447790622406594, 'CS 159 ': -0.11997634744828733, 'CS 161 ': -0.09772556806039803, 'CS 176 ': -0.025410535049757817, 'CS 235 ': 0.091406056736661, 'CS 252 ': 0.15259570005335657, 'CS 258 ': 0.2082226485230798, 'CS 266 ': 0.24716151245188608, 'CS 274 ': 0.297225766074637, 'CS 298 ': 0.3417273248504156, 'EE 129 ': 0.5920485929641702, 'EE 130 ': 0.6031739826581148, 'EE 161 ': 0.692177100209672, 'EE 168 ': 0.7144278795975614, 'EE 172 ': 0.7311159641384783, 'EE 220 ': 0.8701833353127865, 'EE 226 ': 0.9258102837825097, 'EE 238 ': 0.9758745374052606, 'EE 253 ': 1.0315014858749838, 'EE 257 ': 1.0648776549568177, 'EE 259 ': 1.0871284343447072, 'EE 267 ': 1.1205046034265411, 'EE 280 ': 1.2150704158250705, 'EE 283 ': 1.2484465849069044, 'EE 286 ': 1.2706973642947939, 'EE 287 ': 1.2818227539887386, 'EE 288 ': 1.292948143682683, 'SE 116B ': 1.4598289890918528, 'SE 157B ': 1.615584444807078}\n"
     ]
    }
   ],
   "source": [
    "# convert the dataframe to a dictionary\n",
    "result_dict = dict(zip(DICT_X['COURSE_TEXT'], DICT_X['COURSE_CODE']))\n",
    "\n",
    "# print the resulting dictionary\n",
    "print(result_dict)"
   ]
  },
  {
   "cell_type": "code",
   "execution_count": 202,
   "id": "898338cf",
   "metadata": {},
   "outputs": [
    {
     "name": "stderr",
     "output_type": "stream",
     "text": [
      "C:\\Users\\Checkout\\AppData\\Local\\Temp\\ipykernel_26860\\3300557753.py:3: DataConversionWarning: A column-vector y was passed when a 1d array was expected. Please change the shape of y to (n_samples,), for example using ravel().\n",
      "  rf.fit(X_train, y_train)\n"
     ]
    },
    {
     "data": {
      "text/html": [
       "<style>#sk-container-id-4 {color: black;background-color: white;}#sk-container-id-4 pre{padding: 0;}#sk-container-id-4 div.sk-toggleable {background-color: white;}#sk-container-id-4 label.sk-toggleable__label {cursor: pointer;display: block;width: 100%;margin-bottom: 0;padding: 0.3em;box-sizing: border-box;text-align: center;}#sk-container-id-4 label.sk-toggleable__label-arrow:before {content: \"▸\";float: left;margin-right: 0.25em;color: #696969;}#sk-container-id-4 label.sk-toggleable__label-arrow:hover:before {color: black;}#sk-container-id-4 div.sk-estimator:hover label.sk-toggleable__label-arrow:before {color: black;}#sk-container-id-4 div.sk-toggleable__content {max-height: 0;max-width: 0;overflow: hidden;text-align: left;background-color: #f0f8ff;}#sk-container-id-4 div.sk-toggleable__content pre {margin: 0.2em;color: black;border-radius: 0.25em;background-color: #f0f8ff;}#sk-container-id-4 input.sk-toggleable__control:checked~div.sk-toggleable__content {max-height: 200px;max-width: 100%;overflow: auto;}#sk-container-id-4 input.sk-toggleable__control:checked~label.sk-toggleable__label-arrow:before {content: \"▾\";}#sk-container-id-4 div.sk-estimator input.sk-toggleable__control:checked~label.sk-toggleable__label {background-color: #d4ebff;}#sk-container-id-4 div.sk-label input.sk-toggleable__control:checked~label.sk-toggleable__label {background-color: #d4ebff;}#sk-container-id-4 input.sk-hidden--visually {border: 0;clip: rect(1px 1px 1px 1px);clip: rect(1px, 1px, 1px, 1px);height: 1px;margin: -1px;overflow: hidden;padding: 0;position: absolute;width: 1px;}#sk-container-id-4 div.sk-estimator {font-family: monospace;background-color: #f0f8ff;border: 1px dotted black;border-radius: 0.25em;box-sizing: border-box;margin-bottom: 0.5em;}#sk-container-id-4 div.sk-estimator:hover {background-color: #d4ebff;}#sk-container-id-4 div.sk-parallel-item::after {content: \"\";width: 100%;border-bottom: 1px solid gray;flex-grow: 1;}#sk-container-id-4 div.sk-label:hover label.sk-toggleable__label {background-color: #d4ebff;}#sk-container-id-4 div.sk-serial::before {content: \"\";position: absolute;border-left: 1px solid gray;box-sizing: border-box;top: 0;bottom: 0;left: 50%;z-index: 0;}#sk-container-id-4 div.sk-serial {display: flex;flex-direction: column;align-items: center;background-color: white;padding-right: 0.2em;padding-left: 0.2em;position: relative;}#sk-container-id-4 div.sk-item {position: relative;z-index: 1;}#sk-container-id-4 div.sk-parallel {display: flex;align-items: stretch;justify-content: center;background-color: white;position: relative;}#sk-container-id-4 div.sk-item::before, #sk-container-id-4 div.sk-parallel-item::before {content: \"\";position: absolute;border-left: 1px solid gray;box-sizing: border-box;top: 0;bottom: 0;left: 50%;z-index: -1;}#sk-container-id-4 div.sk-parallel-item {display: flex;flex-direction: column;z-index: 1;position: relative;background-color: white;}#sk-container-id-4 div.sk-parallel-item:first-child::after {align-self: flex-end;width: 50%;}#sk-container-id-4 div.sk-parallel-item:last-child::after {align-self: flex-start;width: 50%;}#sk-container-id-4 div.sk-parallel-item:only-child::after {width: 0;}#sk-container-id-4 div.sk-dashed-wrapped {border: 1px dashed gray;margin: 0 0.4em 0.5em 0.4em;box-sizing: border-box;padding-bottom: 0.4em;background-color: white;}#sk-container-id-4 div.sk-label label {font-family: monospace;font-weight: bold;display: inline-block;line-height: 1.2em;}#sk-container-id-4 div.sk-label-container {text-align: center;}#sk-container-id-4 div.sk-container {/* jupyter's `normalize.less` sets `[hidden] { display: none; }` but bootstrap.min.css set `[hidden] { display: none !important; }` so we also need the `!important` here to be able to override the default hidden behavior on the sphinx rendered scikit-learn.org. See: https://github.com/scikit-learn/scikit-learn/issues/21755 */display: inline-block !important;position: relative;}#sk-container-id-4 div.sk-text-repr-fallback {display: none;}</style><div id=\"sk-container-id-4\" class=\"sk-top-container\"><div class=\"sk-text-repr-fallback\"><pre>RandomForestRegressor()</pre><b>In a Jupyter environment, please rerun this cell to show the HTML representation or trust the notebook. <br />On GitHub, the HTML representation is unable to render, please try loading this page with nbviewer.org.</b></div><div class=\"sk-container\" hidden><div class=\"sk-item\"><div class=\"sk-estimator sk-toggleable\"><input class=\"sk-toggleable__control sk-hidden--visually\" id=\"sk-estimator-id-4\" type=\"checkbox\" checked><label for=\"sk-estimator-id-4\" class=\"sk-toggleable__label sk-toggleable__label-arrow\">RandomForestRegressor</label><div class=\"sk-toggleable__content\"><pre>RandomForestRegressor()</pre></div></div></div></div></div>"
      ],
      "text/plain": [
       "RandomForestRegressor()"
      ]
     },
     "execution_count": 202,
     "metadata": {},
     "output_type": "execute_result"
    }
   ],
   "source": [
    "from sklearn.ensemble import RandomForestRegressor\n",
    "rf = RandomForestRegressor()\n",
    "rf.fit(X_train, y_train)"
   ]
  },
  {
   "cell_type": "code",
   "execution_count": 203,
   "id": "bcd852ac",
   "metadata": {},
   "outputs": [
    {
     "name": "stdout",
     "output_type": "stream",
     "text": [
      "Feature ranking:\n",
      "1. feature 0 (0.298816)\n",
      "2. feature 8 (0.170683)\n",
      "3. feature 7 (0.138153)\n",
      "4. feature 6 (0.085277)\n",
      "5. feature 1 (0.083633)\n",
      "6. feature 2 (0.074497)\n",
      "7. feature 3 (0.054169)\n",
      "8. feature 4 (0.048271)\n",
      "9. feature 5 (0.024803)\n",
      "10. feature 9 (0.021699)\n"
     ]
    }
   ],
   "source": [
    "import numpy as np\n",
    "from sklearn.metrics import mean_squared_error, mean_absolute_error\n",
    "importances = rf.feature_importances_\n",
    "indices = np.argsort(importances)[::-1]\n",
    "\n",
    "# Print the feature ranking\n",
    "print(\"Feature ranking:\")\n",
    "\n",
    "for f in range(X_train.shape[1]):\n",
    "    print(\"%d. feature %d (%f)\" % (f + 1, indices[f], importances[indices[f]]))"
   ]
  },
  {
   "cell_type": "code",
   "execution_count": 204,
   "id": "48237f79",
   "metadata": {},
   "outputs": [
    {
     "data": {
      "image/png": "[encoded data removed]",
      "text/plain": [
       "<Figure size 640x480 with 1 Axes>"
      ]
     },
     "metadata": {},
     "output_type": "display_data"
    }
   ],
   "source": [
    "import matplotlib.pyplot as plt\n",
    "plt.figure()\n",
    "plt.title(\"Feature importances\")\n",
    "std = np.std([tree.feature_importances_ for tree in rf.estimators_], axis=0)\n",
    "plt.bar(range(X_train.shape[1]), importances[indices],\n",
    "        color=\"r\", yerr=std[indices], align=\"center\")\n",
    "plt.xticks(range(X_train.shape[1]), X.columns[indices], rotation='vertical')\n",
    "plt.xlim([-1, X_train.shape[1]])\n",
    "plt.show()"
   ]
  },
  {
   "cell_type": "markdown",
   "id": "76c091ff",
   "metadata": {},
   "source": [
    "# Linear Models"
   ]
  },
  {
   "cell_type": "code",
   "execution_count": 205,
   "id": "a8032c30",
   "metadata": {},
   "outputs": [],
   "source": [
    "from sklearn.linear_model import LinearRegression, Ridge, Lasso, ElasticNet"
   ]
  },
  {
   "cell_type": "code",
   "execution_count": 206,
   "id": "c71d069d",
   "metadata": {},
   "outputs": [
    {
     "name": "stdout",
     "output_type": "stream",
     "text": [
      "Linear Regression score: 0.08\n",
      "Linear Regression RMSE: 0.98\n",
      "Linear Regression MAE: 0.70\n"
     ]
    }
   ],
   "source": [
    "#Linear Regression\n",
    "linreg = LinearRegression()\n",
    "linreg.fit(X_train, y_train)\n",
    "linreg_score = linreg.score(X_test, y_test)\n",
    "linear_y_pred = linreg.predict(X_test)\n",
    "linearRmse = np.sqrt(mean_squared_error(y_test, linear_y_pred))\n",
    "linearMae = mean_absolute_error(y_test, linear_y_pred)\n",
    "print(f'Linear Regression score: {linreg_score:.2f}')\n",
    "print(f'Linear Regression RMSE: {linearRmse:.2f}')\n",
    "print(f'Linear Regression MAE: {linearMae:.2f}')"
   ]
  },
  {
   "cell_type": "code",
   "execution_count": 207,
   "id": "87357c9e",
   "metadata": {},
   "outputs": [
    {
     "name": "stdout",
     "output_type": "stream",
     "text": [
      "Ridge Regression score: 0.08\n",
      "Ridge Regression RMSE: 0.98\n",
      "Ridge Regression MAE: 0.70\n"
     ]
    }
   ],
   "source": [
    "#RidgeRegression\n",
    "ridge = Ridge(alpha=0.5)\n",
    "ridge.fit(X_train, y_train)\n",
    "ridge_score = ridge.score(X_test, y_test)\n",
    "ridge_y_pred=ridge.predict(X_test)\n",
    "ridgeRmse=np.sqrt(mean_squared_error(y_test, ridge_y_pred))\n",
    "ridgeMae = mean_absolute_error(y_test, ridge_y_pred)\n",
    "print(f'Ridge Regression score: {ridge_score:.2f}')\n",
    "print(f'Ridge Regression RMSE: {ridgeRmse:.2f}')\n",
    "print(f'Ridge Regression MAE: {ridgeMae:.2f}')"
   ]
  },
  {
   "cell_type": "code",
   "execution_count": 208,
   "id": "d1b39ffc",
   "metadata": {},
   "outputs": [
    {
     "name": "stdout",
     "output_type": "stream",
     "text": [
      "Lasso Regression score: 0.04\n",
      "Lasso Regression RMSE: 1.00\n",
      "Lasso Regression MAE: 0.72\n"
     ]
    }
   ],
   "source": [
    "#Lasso\n",
    "lasso = Lasso(alpha=0.1)\n",
    "lasso.fit(X_train, y_train)\n",
    "lasso_score = lasso.score(X_test, y_test)\n",
    "print(f'Lasso Regression score: {lasso_score:.2f}')\n",
    "lasso_y_pred=lasso.predict(X_test)\n",
    "lassoRmse=np.sqrt(mean_squared_error(y_test, lasso_y_pred))\n",
    "lassoMae = mean_absolute_error(y_test, lasso_y_pred)\n",
    "print(f'Lasso Regression RMSE: {lassoRmse:.2f}')\n",
    "print(f'Lasso Regression MAE: {lassoMae:.2f}')"
   ]
  },
  {
   "cell_type": "markdown",
   "id": "43d3d39d",
   "metadata": {},
   "source": [
    "# Nonlinear regression models"
   ]
  },
  {
   "cell_type": "code",
   "execution_count": 209,
   "id": "23a27003",
   "metadata": {},
   "outputs": [],
   "source": [
    "import numpy as np\n",
    "import pandas as pd\n",
    "from sklearn.model_selection import train_test_split\n",
    "from sklearn.preprocessing import PolynomialFeatures\n",
    "from sklearn.svm import SVR\n",
    "from sklearn.neighbors import KNeighborsRegressor\n",
    "from sklearn.ensemble import RandomForestRegressor"
   ]
  },
  {
   "cell_type": "code",
   "execution_count": 210,
   "id": "b4fd95c6",
   "metadata": {},
   "outputs": [
    {
     "name": "stderr",
     "output_type": "stream",
     "text": [
      "C:\\Users\\Checkout\\anaconda3\\lib\\site-packages\\sklearn\\utils\\validation.py:1143: DataConversionWarning: A column-vector y was passed when a 1d array was expected. Please change the shape of y to (n_samples, ), for example using ravel().\n",
      "  y = column_or_1d(y, warn=True)\n"
     ]
    },
    {
     "name": "stdout",
     "output_type": "stream",
     "text": [
      "SVR score: 0.33\n",
      "SVR Regression RMSE: 0.83\n",
      "SVR Regression MAE: 0.49\n"
     ]
    }
   ],
   "source": [
    "#SVR\n",
    "svr_reg = SVR(kernel='rbf')\n",
    "svr_reg.fit(X_train, y_train)\n",
    "svr_score = svr_reg.score(X_test, y_test)\n",
    "print(f'SVR score: {svr_score:.2f}')\n",
    "y_pred_SVR=svr_reg.predict(X_test)\n",
    "mse_SVR=mean_squared_error(y_test,y_pred_SVR)\n",
    "#print(f'SVR MSE:{mse_SVR}')\n",
    "SVR_y_pred=svr_reg.predict(X_test)\n",
    "SVRRmse=np.sqrt(mean_squared_error(y_test, SVR_y_pred))\n",
    "SVRMae = mean_absolute_error(y_test, SVR_y_pred)\n",
    "print(f'SVR Regression RMSE: {SVRRmse:.2f}')\n",
    "print(f'SVR Regression MAE: {SVRMae:.2f}')"
   ]
  },
  {
   "cell_type": "code",
   "execution_count": 211,
   "id": "733fac30",
   "metadata": {},
   "outputs": [
    {
     "name": "stdout",
     "output_type": "stream",
     "text": [
      "KNN score: 0.30\n",
      "Mean squared error: 0.7297790405726302\n",
      "Mean Absolute error: 0.5523975918204348\n"
     ]
    }
   ],
   "source": [
    "#KNN\n",
    "knn = KNeighborsRegressor(n_neighbors=20)\n",
    "knn.fit(X_train, y_train)\n",
    "knn_score=knn.score(X_test, y_test)\n",
    "print(f'KNN score: {knn_score:.2f}')\n",
    "y_pred = knn.predict(X_test)\n",
    "mse = mean_squared_error(y_test, y_pred)\n",
    "print(\"Mean squared error:\", mse)\n",
    "mae = mean_absolute_error(y_test, y_pred)\n",
    "print(\"Mean Absolute error:\", mae)"
   ]
  },
  {
   "cell_type": "code",
   "execution_count": 212,
   "id": "09c57bf4",
   "metadata": {},
   "outputs": [],
   "source": [
    "# RANDOM FOREST MODEL"
   ]
  },
  {
   "cell_type": "code",
   "execution_count": 213,
   "id": "062e1bd4",
   "metadata": {},
   "outputs": [
    {
     "name": "stderr",
     "output_type": "stream",
     "text": [
      "C:\\Users\\Checkout\\AppData\\Local\\Temp\\ipykernel_26860\\1543396057.py:2: DataConversionWarning: A column-vector y was passed when a 1d array was expected. Please change the shape of y to (n_samples,), for example using ravel().\n",
      "  rf_reg.fit(X_train, y_train)\n"
     ]
    },
    {
     "name": "stdout",
     "output_type": "stream",
     "text": [
      "Random Forest score: 0.71\n",
      "Mean Square error: 0.3049077999201627\n",
      "Mean Absolute error: 0.34400134792101583\n"
     ]
    }
   ],
   "source": [
    "rf_reg = RandomForestRegressor(n_estimators=300, random_state=62, min_samples_split=2, max_features=6,min_samples_leaf=1)\n",
    "rf_reg.fit(X_train, y_train)\n",
    "rf_score = rf_reg.score(X_test, y_test)\n",
    "print(f'Random Forest score: {rf_score:.2f}')\n",
    "y_pred = rf_reg.predict(X_test)\n",
    "mse = mean_squared_error(y_test, y_pred)\n",
    "mae = mean_absolute_error(y_test, y_pred)\n",
    "print(\"Mean Square error:\", mse)\n",
    "print(\"Mean Absolute error:\", mae)"
   ]
  },
  {
   "cell_type": "code",
   "execution_count": 214,
   "id": "08cd2063",
   "metadata": {},
   "outputs": [],
   "source": [
    "# Final Random Forest Regression Model after tuning"
   ]
  },
  {
   "cell_type": "markdown",
   "id": "ddae923d",
   "metadata": {},
   "source": [
    "# BEST MODEL"
   ]
  },
  {
   "cell_type": "code",
   "execution_count": 215,
   "id": "6c69a859",
   "metadata": {},
   "outputs": [
    {
     "name": "stderr",
     "output_type": "stream",
     "text": [
      "C:\\Users\\Checkout\\AppData\\Local\\Temp\\ipykernel_26860\\103434250.py:7: DataConversionWarning: A column-vector y was passed when a 1d array was expected. Please change the shape of y to (n_samples,), for example using ravel().\n",
      "  rf_reg_new.fit(X_train_new, y_train)\n"
     ]
    },
    {
     "name": "stdout",
     "output_type": "stream",
     "text": [
      "Random Forest score without CLASS_HOURS column: 0.73\n",
      "Mean Square error without CLASS_HOURS column: 0.2833029355622943\n",
      "Mean Absolute error without CLASS_HOURS column: 0.33127349931198824\n"
     ]
    }
   ],
   "source": [
    "# remove the 'CLASS_HOURS' column from the feature matrix\n",
    "X_train_new = X_train.drop('CLASS_HOURS', axis=1)\n",
    "X_test_new = X_test.drop('CLASS_HOURS', axis=1)\n",
    "\n",
    "# create the Random Forest Regression model using the new feature matrix\n",
    "rf_reg_new = RandomForestRegressor(n_estimators=500, random_state=62, min_samples_split=2, max_features=6, min_samples_leaf=1)\n",
    "rf_reg_new.fit(X_train_new, y_train)\n",
    "\n",
    "# evaluate the performance of the model on the test set\n",
    "rf_score_new = rf_reg_new.score(X_test_new, y_test)\n",
    "print(f'Random Forest score without CLASS_HOURS column: {rf_score_new:.2f}')\n",
    "\n",
    "y_pred_new = rf_reg_new.predict(X_test_new)\n",
    "mse_new = mean_squared_error(y_test, y_pred_new)\n",
    "mae_new = mean_absolute_error(y_test, y_pred_new)\n",
    "print(\"Mean Square error without CLASS_HOURS column:\", mse_new)\n",
    "print(\"Mean Absolute error without CLASS_HOURS column:\", mae_new)\n"
   ]
  },
  {
   "cell_type": "code",
   "execution_count": 216,
   "id": "944a5809",
   "metadata": {},
   "outputs": [
    {
     "data": {
      "text/plain": [
       "['rf_reg_new1.pkl']"
      ]
     },
     "execution_count": 216,
     "metadata": {},
     "output_type": "execute_result"
    }
   ],
   "source": [
    "import joblib\n",
    "\n",
    "# Save the trained model to a file\n",
    "filename = 'rf_reg_new1.pkl'\n",
    "joblib.dump(rf_reg_new, filename)"
   ]
  },
  {
   "cell_type": "code",
   "execution_count": null,
   "id": "cdb9d650",
   "metadata": {},
   "outputs": [],
   "source": []
  }
 ],
 "metadata": {
  "kernelspec": {
   "display_name": "Python 3 (ipykernel)",
   "language": "python",
   "name": "python3"
  },
  "language_info": {
   "codemirror_mode": {
    "name": "ipython",
    "version": 3
   },
   "file_extension": ".py",
   "mimetype": "text/x-python",
   "name": "python",
   "nbconvert_exporter": "python",
   "pygments_lexer": "ipython3",
   "version": "3.9.16"
  }
 },
 "nbformat": 4,
 "nbformat_minor": 5
}
